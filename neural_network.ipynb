{
 "cells": [
  {
   "cell_type": "code",
   "execution_count": 1,
   "metadata": {},
   "outputs": [
    {
     "name": "stdout",
     "output_type": "stream",
     "text": [
      "Done Init\n"
     ]
    }
   ],
   "source": [
    "import sys\n",
    "IN_COLAB = 'google.colab' in sys.modules\n",
    "\n",
    "if IN_COLAB:\n",
    "    print('Found Google Colab')\n",
    "    !pip3 install torch torchvision torchsummary\n",
    "    !pip3 install simpleitk\n",
    "\n",
    "    # noinspection PyUnresolvedReferences\n",
    "    from google.colab import drive\n",
    "    drive.mount('/content/drive')\n",
    "\n",
    "import numpy as np\n",
    "import matplotlib.pyplot as plt\n",
    "import torch\n",
    "\n",
    "import src.helpers.oars_labels_consts as OARS_LABELS\n",
    "\n",
    "from operator import itemgetter\n",
    "from IPython.display import display, Markdown\n",
    "from ipywidgets import widgets\n",
    "\n",
    "from src.training_helpers import loss_batch, show_model_info\n",
    "from src.helpers.prepare_model import prepare_model\n",
    "from src.helpers.train_loop import train_loop\n",
    "from src.helpers.get_dataset import get_dataset, get_dataloaders\n",
    "from src.helpers.get_dataset_info import get_dataset_info\n",
    "from src.helpers.preview_dataset import preview_dataset\n",
    "\n",
    "\n",
    "MAX_PADDING_SLICES = 160\n",
    "torch.manual_seed(20)\n",
    "print('Done Init')"
   ]
  },
  {
   "cell_type": "markdown",
   "metadata": {},
   "source": [
    "# Neural Network"
   ]
  },
  {
   "cell_type": "markdown",
   "metadata": {},
   "source": [
    "## dataset\n",
    "\n",
    "labels:\n",
    "The 22 annotated OARs contain Brain_Stem,Eye_L,Eye_R,Lens_L,Lens_R,Opt_Nerve_L,Opt_Nerve_R,Opt_Chiasma,Temporal_Lobes_L, Temporal_Lobes_R,Pituitary,Parotid_Gland_L,Parotid_Gland_R,Inner_Ear_L,Inner_Ear_R,Mid_Ear_L,Mid_Ear_R, T_M_Joint_L,T_M_Joint_R,Spinal_Cord,Mandible_L,Mandible_R, corresponding to the label 1 to 22 in the annotation file."
   ]
  },
  {
   "cell_type": "code",
   "execution_count": 2,
   "metadata": {},
   "outputs": [
    {
     "name": "stdout",
     "output_type": "stream",
     "text": [
      "CUDA using 8x dataset\n",
      "train 40, valid_size 5, test 5, full 50\n",
      "train indeces [0, 1, 2, 3, 4, 5, 7, 8, 9, 10, 11, 12, 14, 15, 17, 18, 20, 21, 22, 23, 24, 28, 30, 31, 32, 33, 34, 35, 36, 37, 40, 41, 42, 43, 44, 45, 46, 47, 48, 49]\n",
      "valid indeces [6, 13, 19, 25, 38]\n",
      "test indeces [16, 26, 27, 29, 39]\n"
     ]
    }
   ],
   "source": [
    "filter_labels = [OARS_LABELS.EYE_L, OARS_LABELS.EYE_R, OARS_LABELS.LENS_L, OARS_LABELS.LENS_R]\n",
    "dataset = get_dataset(shrink_factor=8, filter_labels=filter_labels)\n",
    "\n",
    "dataset.to_numpy()\n",
    "dataloaders_obj = get_dataloaders(dataset)\n",
    "\n",
    "get_dataset_info(dataset, dataloaders_obj)\n",
    "train_dataset, valid_dataset, test_dataset = itemgetter('train_dataset', 'valid_dataset', 'test_dataset')(dataloaders_obj)"
   ]
  },
  {
   "cell_type": "code",
   "execution_count": 3,
   "metadata": {},
   "outputs": [
    {
     "name": "stdout",
     "output_type": "stream",
     "text": [
      "data max 11.757370914300283, min -0.4249158796367933\n",
      "label max 1, min 0\n"
     ]
    },
    {
     "data": {
      "application/vnd.jupyter.widget-view+json": {
       "model_id": "1c1ac2c8768e4fa58e6892973a52ee6a",
       "version_major": 2,
       "version_minor": 0
      },
      "text/plain": [
       "VBox(children=(HBox(children=(IntSlider(value=101, max=159),)),))"
      ]
     },
     "metadata": {},
     "output_type": "display_data"
    },
    {
     "data": {
      "application/vnd.jupyter.widget-view+json": {
       "model_id": "759caca6c185477092e9e5eef27b1c4d",
       "version_major": 2,
       "version_minor": 0
      },
      "text/plain": [
       "Output()"
      ]
     },
     "metadata": {},
     "output_type": "display_data"
    }
   ],
   "source": [
    "preview_dataset(dataset, preview_index=2, show_hist=False, max_padding_slices=MAX_PADDING_SLICES)"
   ]
  },
  {
   "cell_type": "markdown",
   "metadata": {},
   "source": [
    "## training"
   ]
  },
  {
   "cell_type": "markdown",
   "metadata": {},
   "source": [
    "### params and architecture preparation"
   ]
  },
  {
   "cell_type": "code",
   "execution_count": 4,
   "metadata": {
    "scrolled": true
   },
   "outputs": [
    {
     "name": "stdout",
     "output_type": "stream",
     "text": [
      "Device running \"cuda\"\n",
      "max output channels 256\n",
      "Model number of params: 4770177, trainable 4770177\n",
      "Running training loop\n",
      "Batch eval [1] loss 0.99936, dsc 0.00064\n",
      "Batch eval [2] loss 0.99957, dsc 0.00043\n",
      "Batch eval [3] loss 0.99937, dsc 0.00063\n",
      "Batch eval [4] loss 0.99920, dsc 0.00080\n",
      "Batch eval [5] loss 0.99889, dsc 0.00111\n",
      "Epoch [1] T 34.87s, deltaT 34.87s, loss: train 0.99940, valid 0.99928, dsc: train 0.00060, valid 0.00072\n",
      "Batch eval [1] loss 0.99915, dsc 0.00085\n",
      "Batch eval [2] loss 0.99944, dsc 0.00056\n",
      "Batch eval [3] loss 0.99920, dsc 0.00080\n",
      "Batch eval [4] loss 0.99903, dsc 0.00097\n",
      "Batch eval [5] loss 0.99863, dsc 0.00137\n",
      "Epoch [2] T 70.49s, deltaT 35.62s, loss: train 0.99922, valid 0.99909, dsc: train 0.00078, valid 0.00091\n",
      "Batch eval [1] loss 0.99899, dsc 0.00101\n",
      "Batch eval [2] loss 0.99930, dsc 0.00070\n",
      "Batch eval [3] loss 0.99901, dsc 0.00099\n",
      "Batch eval [4] loss 0.99875, dsc 0.00125\n",
      "Batch eval [5] loss 0.99827, dsc 0.00173\n",
      "Epoch [3] T 106.87s, deltaT 36.38s, loss: train 0.99902, valid 0.99887, dsc: train 0.00098, valid 0.00113\n",
      "Batch eval [1] loss 0.99864, dsc 0.00136\n",
      "Batch eval [2] loss 0.99903, dsc 0.00097\n",
      "Batch eval [3] loss 0.99913, dsc 0.00087\n",
      "Batch eval [4] loss 0.99828, dsc 0.00172\n",
      "Batch eval [5] loss 0.99810, dsc 0.00190\n",
      "Epoch [4] T 141.38s, deltaT 34.51s, loss: train 0.99875, valid 0.99864, dsc: train 0.00125, valid 0.00136\n",
      "Batch eval [1] loss 0.99791, dsc 0.00209\n",
      "Batch eval [2] loss 0.99871, dsc 0.00129\n",
      "Batch eval [3] loss 0.99804, dsc 0.00196\n",
      "Batch eval [4] loss 0.99758, dsc 0.00242\n",
      "Batch eval [5] loss 0.99671, dsc 0.00329\n",
      "Epoch [5] T 175.87s, deltaT 34.49s, loss: train 0.99815, valid 0.99779, dsc: train 0.00185, valid 0.00221\n",
      "Batch eval [1] loss 0.99798, dsc 0.00202\n",
      "Batch eval [2] loss 0.99841, dsc 0.00159\n",
      "Batch eval [3] loss 0.99848, dsc 0.00152\n",
      "Batch eval [4] loss 0.99655, dsc 0.00345\n",
      "Batch eval [5] loss 0.99847, dsc 0.00153\n",
      "Epoch [6] T 210.43s, deltaT 34.56s, loss: train 0.99702, valid 0.99798, dsc: train 0.00298, valid 0.00202\n",
      "Batch eval [1] loss 0.99115, dsc 0.00885\n",
      "Batch eval [2] loss 0.99413, dsc 0.00587\n",
      "Batch eval [3] loss 0.99164, dsc 0.00836\n",
      "Batch eval [4] loss 0.99000, dsc 0.01000\n",
      "Batch eval [5] loss 0.98788, dsc 0.01212\n",
      "Epoch [7] T 244.84s, deltaT 34.41s, loss: train 0.99416, valid 0.99096, dsc: train 0.00584, valid 0.00904\n",
      "Batch eval [1] loss 0.98188, dsc 0.01812\n",
      "Batch eval [2] loss 0.98808, dsc 0.01192\n",
      "Batch eval [3] loss 0.98285, dsc 0.01715\n",
      "Batch eval [4] loss 0.97938, dsc 0.02062\n",
      "Batch eval [5] loss 0.97180, dsc 0.02820\n",
      "Epoch [8] T 279.83s, deltaT 34.99s, loss: train 0.98484, valid 0.98080, dsc: train 0.01516, valid 0.01920\n",
      "Batch eval [1] loss 0.91033, dsc 0.08967\n",
      "Batch eval [2] loss 0.93905, dsc 0.06095\n",
      "Batch eval [3] loss 0.92133, dsc 0.07867\n",
      "Batch eval [4] loss 0.90054, dsc 0.09946\n",
      "Batch eval [5] loss 0.88479, dsc 0.11521\n",
      "Epoch [9] T 314.55s, deltaT 34.72s, loss: train 0.95022, valid 0.91121, dsc: train 0.04978, valid 0.08879\n",
      "Batch eval [1] loss 0.78187, dsc 0.21813\n",
      "Batch eval [2] loss 0.87130, dsc 0.12870\n",
      "Batch eval [3] loss 0.74484, dsc 0.25516\n",
      "Batch eval [4] loss 0.67659, dsc 0.32341\n",
      "Batch eval [5] loss 0.77375, dsc 0.22625\n",
      "Epoch [10] T 349.42s, deltaT 34.87s, loss: train 0.82436, valid 0.76967, dsc: train 0.17564, valid 0.23033\n",
      "Batch eval [1] loss 0.48838, dsc 0.51162\n",
      "Batch eval [2] loss 0.51961, dsc 0.48039\n",
      "Batch eval [3] loss 0.49255, dsc 0.50745\n",
      "Batch eval [4] loss 0.38969, dsc 0.61031\n",
      "Batch eval [5] loss 0.56252, dsc 0.43748\n",
      "Epoch [11] T 383.77s, deltaT 34.35s, loss: train 0.55835, valid 0.49055, dsc: train 0.44165, valid 0.50945\n",
      "Batch eval [1] loss 0.33611, dsc 0.66389\n",
      "Batch eval [2] loss 0.42973, dsc 0.57027\n",
      "Batch eval [3] loss 0.31445, dsc 0.68555\n",
      "Batch eval [4] loss 0.31997, dsc 0.68003\n",
      "Batch eval [5] loss 0.34327, dsc 0.65673\n",
      "Epoch [12] T 418.63s, deltaT 34.86s, loss: train 0.36978, valid 0.34871, dsc: train 0.63022, valid 0.65129\n",
      "Batch eval [1] loss 0.29159, dsc 0.70841\n",
      "Batch eval [2] loss 0.28341, dsc 0.71659\n",
      "Batch eval [3] loss 0.24770, dsc 0.75230\n",
      "Batch eval [4] loss 0.22712, dsc 0.77288\n",
      "Batch eval [5] loss 0.32170, dsc 0.67830\n",
      "Epoch [13] T 453.66s, deltaT 35.03s, loss: train 0.26799, valid 0.27431, dsc: train 0.73201, valid 0.72569\n",
      "Batch eval [1] loss 0.22160, dsc 0.77840\n",
      "Batch eval [2] loss 0.31366, dsc 0.68634\n",
      "Batch eval [3] loss 0.26170, dsc 0.73830\n",
      "Batch eval [4] loss 0.19753, dsc 0.80247\n",
      "Batch eval [5] loss 0.32902, dsc 0.67098\n",
      "Epoch [14] T 488.52s, deltaT 34.86s, loss: train 0.23188, valid 0.26470, dsc: train 0.76812, valid 0.73530\n",
      "Batch eval [1] loss 0.16156, dsc 0.83844\n",
      "Batch eval [2] loss 0.21054, dsc 0.78946\n",
      "Batch eval [3] loss 0.23387, dsc 0.76613\n",
      "Batch eval [4] loss 0.18245, dsc 0.81755\n",
      "Batch eval [5] loss 0.30053, dsc 0.69947\n",
      "Epoch [15] T 523.28s, deltaT 34.76s, loss: train 0.20892, valid 0.21779, dsc: train 0.79108, valid 0.78221\n",
      "Batch eval [1] loss 0.23859, dsc 0.76141\n",
      "Batch eval [2] loss 0.21762, dsc 0.78238\n",
      "Batch eval [3] loss 0.24079, dsc 0.75921\n",
      "Batch eval [4] loss 0.17655, dsc 0.82345\n",
      "Batch eval [5] loss 0.36611, dsc 0.63389\n",
      "Epoch [16] T 559.01s, deltaT 35.72s, loss: train 0.18213, valid 0.24793, dsc: train 0.81787, valid 0.75207\n",
      "Batch eval [1] loss 0.23222, dsc 0.76778\n",
      "Batch eval [2] loss 0.25887, dsc 0.74113\n",
      "Batch eval [3] loss 0.15497, dsc 0.84503\n",
      "Batch eval [4] loss 0.17613, dsc 0.82387\n",
      "Batch eval [5] loss 0.36674, dsc 0.63326\n",
      "Epoch [17] T 594.15s, deltaT 35.14s, loss: train 0.16700, valid 0.23779, dsc: train 0.83300, valid 0.76221\n",
      "Batch eval [1] loss 0.23627, dsc 0.76373\n",
      "Batch eval [2] loss 0.25260, dsc 0.74740\n",
      "Batch eval [3] loss 0.23089, dsc 0.76911\n",
      "Batch eval [4] loss 0.16354, dsc 0.83646\n",
      "Batch eval [5] loss 0.31929, dsc 0.68071\n",
      "Epoch [18] T 629.53s, deltaT 35.38s, loss: train 0.16750, valid 0.24052, dsc: train 0.83250, valid 0.75948\n",
      "Batch eval [1] loss 0.22776, dsc 0.77224\n",
      "Batch eval [2] loss 0.18751, dsc 0.81249\n",
      "Batch eval [3] loss 0.23641, dsc 0.76359\n",
      "Batch eval [4] loss 0.19397, dsc 0.80603\n",
      "Batch eval [5] loss 0.26195, dsc 0.73805\n",
      "Epoch [19] T 665.01s, deltaT 35.47s, loss: train 0.16468, valid 0.22152, dsc: train 0.83532, valid 0.77848\n",
      "Batch eval [1] loss 0.25179, dsc 0.74821\n",
      "Batch eval [2] loss 0.25100, dsc 0.74900\n",
      "Batch eval [3] loss 0.18850, dsc 0.81150\n",
      "Batch eval [4] loss 0.17166, dsc 0.82834\n",
      "Batch eval [5] loss 0.25913, dsc 0.74087\n",
      "Epoch [20] T 700.33s, deltaT 35.32s, loss: train 0.16664, valid 0.22442, dsc: train 0.83336, valid 0.77558\n",
      "Batch eval [1] loss 0.22170, dsc 0.77830\n",
      "Batch eval [2] loss 0.27286, dsc 0.72714\n",
      "Batch eval [3] loss 0.21593, dsc 0.78407\n",
      "Batch eval [4] loss 0.22062, dsc 0.77938\n",
      "Batch eval [5] loss 0.36853, dsc 0.63147\n",
      "Epoch [21] T 734.97s, deltaT 34.64s, loss: train 0.16813, valid 0.25993, dsc: train 0.83187, valid 0.74007\n",
      "Batch eval [1] loss 0.20533, dsc 0.79467\n",
      "Batch eval [2] loss 0.22012, dsc 0.77988\n",
      "Batch eval [3] loss 0.18493, dsc 0.81507\n",
      "Batch eval [4] loss 0.20452, dsc 0.79548\n",
      "Batch eval [5] loss 0.36336, dsc 0.63664\n",
      "Epoch [22] T 770.05s, deltaT 35.08s, loss: train 0.15402, valid 0.23565, dsc: train 0.84598, valid 0.76435\n",
      "Batch eval [1] loss 0.20189, dsc 0.79811\n",
      "Batch eval [2] loss 0.22805, dsc 0.77195\n",
      "Batch eval [3] loss 0.18914, dsc 0.81086\n",
      "Batch eval [4] loss 0.15928, dsc 0.84072\n",
      "Batch eval [5] loss 0.25679, dsc 0.74321\n",
      "Epoch [23] T 804.71s, deltaT 34.66s, loss: train 0.14128, valid 0.20703, dsc: train 0.85872, valid 0.79297\n",
      "Batch eval [1] loss 0.19965, dsc 0.80035\n",
      "Batch eval [2] loss 0.25147, dsc 0.74853\n",
      "Batch eval [3] loss 0.16654, dsc 0.83346\n",
      "Batch eval [4] loss 0.17876, dsc 0.82124\n",
      "Batch eval [5] loss 0.35408, dsc 0.64592\n",
      "Epoch [24] T 839.46s, deltaT 34.76s, loss: train 0.13762, valid 0.23010, dsc: train 0.86238, valid 0.76990\n",
      "Batch eval [1] loss 0.17341, dsc 0.82659\n",
      "Batch eval [2] loss 0.27936, dsc 0.72064\n",
      "Batch eval [3] loss 0.20590, dsc 0.79410\n",
      "Batch eval [4] loss 0.18248, dsc 0.81752\n",
      "Batch eval [5] loss 0.27201, dsc 0.72799\n",
      "Epoch [25] T 874.15s, deltaT 34.69s, loss: train 0.13272, valid 0.22263, dsc: train 0.86728, valid 0.77737\n",
      "Batch eval [1] loss 0.17637, dsc 0.82363\n",
      "Batch eval [2] loss 0.23569, dsc 0.76431\n",
      "Batch eval [3] loss 0.18626, dsc 0.81374\n",
      "Batch eval [4] loss 0.20944, dsc 0.79056\n",
      "Batch eval [5] loss 0.36690, dsc 0.63310\n",
      "Epoch [26] T 908.74s, deltaT 34.59s, loss: train 0.13198, valid 0.23493, dsc: train 0.86802, valid 0.76507\n",
      "Batch eval [1] loss 0.20556, dsc 0.79444\n",
      "Batch eval [2] loss 0.23555, dsc 0.76445\n",
      "Batch eval [3] loss 0.13603, dsc 0.86397\n",
      "Batch eval [4] loss 0.13679, dsc 0.86321\n",
      "Batch eval [5] loss 0.24749, dsc 0.75251\n",
      "Epoch [27] T 943.91s, deltaT 35.17s, loss: train 0.12535, valid 0.19228, dsc: train 0.87465, valid 0.80772\n",
      "Batch eval [1] loss 0.19744, dsc 0.80256\n",
      "Batch eval [2] loss 0.25389, dsc 0.74611\n",
      "Batch eval [3] loss 0.18974, dsc 0.81026\n",
      "Batch eval [4] loss 0.18738, dsc 0.81262\n",
      "Batch eval [5] loss 0.33074, dsc 0.66926\n",
      "Epoch [28] T 979.22s, deltaT 35.31s, loss: train 0.12287, valid 0.23184, dsc: train 0.87713, valid 0.76816\n",
      "Batch eval [1] loss 0.19339, dsc 0.80661\n",
      "Batch eval [2] loss 0.24069, dsc 0.75931\n",
      "Batch eval [3] loss 0.16740, dsc 0.83260\n",
      "Batch eval [4] loss 0.16010, dsc 0.83990\n",
      "Batch eval [5] loss 0.30476, dsc 0.69524\n",
      "Epoch [29] T 1014.17s, deltaT 34.95s, loss: train 0.11576, valid 0.21327, dsc: train 0.88424, valid 0.78673\n",
      "Batch eval [1] loss 0.19049, dsc 0.80951\n",
      "Batch eval [2] loss 0.21402, dsc 0.78598\n",
      "Batch eval [3] loss 0.18497, dsc 0.81503\n",
      "Batch eval [4] loss 0.16190, dsc 0.83810\n",
      "Batch eval [5] loss 0.31477, dsc 0.68523\n",
      "Epoch [30] T 1049.04s, deltaT 34.86s, loss: train 0.12336, valid 0.21323, dsc: train 0.87664, valid 0.78677\n",
      "Elapsed time 0:17:29\n"
     ]
    },
    {
     "ename": "RuntimeError",
     "evalue": "can't export a trace that didn't finish running",
     "output_type": "error",
     "traceback": [
      "\u001b[0;31m---------------------------------------------------------------------------\u001b[0m",
      "\u001b[0;31mRuntimeError\u001b[0m                              Traceback (most recent call last)",
      "\u001b[0;32m<ipython-input-4-672ab7198b82>\u001b[0m in \u001b[0;36m<module>\u001b[0;34m\u001b[0m\n\u001b[1;32m      6\u001b[0m     \u001b[0mtrain_loop\u001b[0m\u001b[0;34m(\u001b[0m\u001b[0;34m**\u001b[0m\u001b[0mtrain_loop_params\u001b[0m\u001b[0;34m)\u001b[0m\u001b[0;34m\u001b[0m\u001b[0;34m\u001b[0m\u001b[0m\n\u001b[1;32m      7\u001b[0m \u001b[0;34m\u001b[0m\u001b[0m\n\u001b[0;32m----> 8\u001b[0;31m     \u001b[0mprint\u001b[0m\u001b[0;34m(\u001b[0m\u001b[0mprof\u001b[0m\u001b[0;34m.\u001b[0m\u001b[0mkey_averages\u001b[0m\u001b[0;34m(\u001b[0m\u001b[0;34m)\u001b[0m\u001b[0;34m.\u001b[0m\u001b[0mtable\u001b[0m\u001b[0;34m(\u001b[0m\u001b[0msort_by\u001b[0m\u001b[0;34m=\u001b[0m\u001b[0;34m\"self_cpu_memory_usage\"\u001b[0m\u001b[0;34m,\u001b[0m \u001b[0mrow_limit\u001b[0m\u001b[0;34m=\u001b[0m\u001b[0;36m10\u001b[0m\u001b[0;34m)\u001b[0m\u001b[0;34m)\u001b[0m\u001b[0;34m\u001b[0m\u001b[0;34m\u001b[0m\u001b[0m\n\u001b[0m\u001b[1;32m      9\u001b[0m     \u001b[0mprof\u001b[0m\u001b[0;34m.\u001b[0m\u001b[0mexport_chrome_trace\u001b[0m\u001b[0;34m(\u001b[0m\u001b[0;34m\"trace.json\"\u001b[0m\u001b[0;34m)\u001b[0m\u001b[0;34m\u001b[0m\u001b[0;34m\u001b[0m\u001b[0m\n\u001b[1;32m     10\u001b[0m \u001b[0;34m\u001b[0m\u001b[0m\n",
      "\u001b[0;32m~/fiit-dp-thesis-code/venv/lib/python3.8/site-packages/torch/autograd/profiler.py\u001b[0m in \u001b[0;36mkey_averages\u001b[0;34m(self, group_by_input_shape)\u001b[0m\n\u001b[1;32m    315\u001b[0m \u001b[0;34m\u001b[0m\u001b[0m\n\u001b[1;32m    316\u001b[0m     \u001b[0;32mdef\u001b[0m \u001b[0mkey_averages\u001b[0m\u001b[0;34m(\u001b[0m\u001b[0mself\u001b[0m\u001b[0;34m,\u001b[0m \u001b[0mgroup_by_input_shape\u001b[0m\u001b[0;34m=\u001b[0m\u001b[0;32mFalse\u001b[0m\u001b[0;34m)\u001b[0m\u001b[0;34m:\u001b[0m\u001b[0;34m\u001b[0m\u001b[0;34m\u001b[0m\u001b[0m\n\u001b[0;32m--> 317\u001b[0;31m         \u001b[0mself\u001b[0m\u001b[0;34m.\u001b[0m\u001b[0m_check_finish\u001b[0m\u001b[0;34m(\u001b[0m\u001b[0;34m)\u001b[0m\u001b[0;34m\u001b[0m\u001b[0;34m\u001b[0m\u001b[0m\n\u001b[0m\u001b[1;32m    318\u001b[0m         \u001b[0;32mreturn\u001b[0m \u001b[0mself\u001b[0m\u001b[0;34m.\u001b[0m\u001b[0mfunction_events\u001b[0m\u001b[0;34m.\u001b[0m\u001b[0mkey_averages\u001b[0m\u001b[0;34m(\u001b[0m\u001b[0mgroup_by_input_shape\u001b[0m\u001b[0;34m)\u001b[0m\u001b[0;34m\u001b[0m\u001b[0;34m\u001b[0m\u001b[0m\n\u001b[1;32m    319\u001b[0m     \u001b[0mkey_averages\u001b[0m\u001b[0;34m.\u001b[0m\u001b[0m__doc__\u001b[0m \u001b[0;34m=\u001b[0m \u001b[0mEventList\u001b[0m\u001b[0;34m.\u001b[0m\u001b[0mkey_averages\u001b[0m\u001b[0;34m.\u001b[0m\u001b[0m__doc__\u001b[0m\u001b[0;34m\u001b[0m\u001b[0;34m\u001b[0m\u001b[0m\n",
      "\u001b[0;32m~/fiit-dp-thesis-code/venv/lib/python3.8/site-packages/torch/autograd/profiler.py\u001b[0m in \u001b[0;36m_check_finish\u001b[0;34m(self)\u001b[0m\n\u001b[1;32m    300\u001b[0m     \u001b[0;32mdef\u001b[0m \u001b[0m_check_finish\u001b[0m\u001b[0;34m(\u001b[0m\u001b[0mself\u001b[0m\u001b[0;34m)\u001b[0m\u001b[0;34m:\u001b[0m\u001b[0;34m\u001b[0m\u001b[0;34m\u001b[0m\u001b[0m\n\u001b[1;32m    301\u001b[0m         \u001b[0;32mif\u001b[0m \u001b[0mself\u001b[0m\u001b[0;34m.\u001b[0m\u001b[0mfunction_events\u001b[0m \u001b[0;32mis\u001b[0m \u001b[0;32mNone\u001b[0m\u001b[0;34m:\u001b[0m\u001b[0;34m\u001b[0m\u001b[0;34m\u001b[0m\u001b[0m\n\u001b[0;32m--> 302\u001b[0;31m             \u001b[0;32mraise\u001b[0m \u001b[0mRuntimeError\u001b[0m\u001b[0;34m(\u001b[0m\u001b[0;34m\"can't export a trace that didn't finish running\"\u001b[0m\u001b[0;34m)\u001b[0m\u001b[0;34m\u001b[0m\u001b[0;34m\u001b[0m\u001b[0m\n\u001b[0m\u001b[1;32m    303\u001b[0m         \u001b[0mself\u001b[0m\u001b[0;34m.\u001b[0m\u001b[0mfunction_events\u001b[0m\u001b[0;34m.\u001b[0m\u001b[0mpopulate_cpu_children\u001b[0m\u001b[0;34m(\u001b[0m\u001b[0;34m)\u001b[0m\u001b[0;34m\u001b[0m\u001b[0;34m\u001b[0m\u001b[0m\n\u001b[1;32m    304\u001b[0m \u001b[0;34m\u001b[0m\u001b[0m\n",
      "\u001b[0;31mRuntimeError\u001b[0m: can't export a trace that didn't finish running"
     ]
    }
   ],
   "source": [
    "model_info = prepare_model(in_channels=16, train_dataset=train_dataset, valid_dataset=valid_dataset, test_dataset=test_dataset)\n",
    "show_model_info(model_info, MAX_PADDING_SLICES)\n",
    "\n",
    "train_loop_params = {k:v for k,v in model_info.items() if k not in ['model_total_params', 'model_total_trainable_params']}\n",
    "train_loop(**train_loop_params)"
   ]
  },
  {
   "cell_type": "markdown",
   "metadata": {},
   "source": [
    "## testing and evaluating"
   ]
  },
  {
   "cell_type": "code",
   "execution_count": null,
   "metadata": {},
   "outputs": [],
   "source": [
    "model, device, optimizer, criterion = itemgetter('model', 'device', 'optimizer', 'criterion')(model_info)\n",
    "\n",
    "\n",
    "def eval_image_dataset(dataset, def_slice=90, figfile=None):\n",
    "    with torch.no_grad():\n",
    "        model.eval()\n",
    "        aSlider = widgets.IntSlider(min=0, max=MAX_PADDING_SLICES-1, step=1, value=def_slice)\n",
    "        ui = widgets.VBox([\n",
    "            widgets.HBox([aSlider])\n",
    "        ])\n",
    "\n",
    "        model.eval()\n",
    "        torch.cuda.empty_cache()\n",
    "        print(f'showing number {dataset.indices[0]}')\n",
    "        inputs, labels = dataset[0]\n",
    "        inputs = torch.from_numpy(np.array([inputs])).to(device).float()\n",
    "        labels = torch.from_numpy(np.array([labels])).to(device).float()\n",
    "        prediction = model(inputs)\n",
    "\n",
    "        item_loss, item_dsc, inputs_len = loss_batch(model, optimizer, criterion, inputs, labels)\n",
    "        print(f'loss {item_loss}, dsc {item_dsc}, inputs_len {inputs_len}')\n",
    "\n",
    "        inputs = inputs.cpu()\n",
    "        labels = labels.cpu()\n",
    "        prediction_np = prediction.cpu().detach().numpy()\n",
    "\n",
    "        plt.hist(prediction_np.flatten(), 20)\n",
    "        plt.title('Distribution of prediction values')\n",
    "        plt.show()\n",
    "\n",
    "        def f(a):\n",
    "            plt.figure(figsize=(30, 16))\n",
    "            tmp_ax = plt.subplot(1, 3, 1)\n",
    "            tmp_ax.title.set_text('Input')\n",
    "            plt.imshow(inputs[0, 0, a], cmap=\"gray\")\n",
    "\n",
    "            tmp_ax = plt.subplot(1, 3, 2)\n",
    "            tmp_ax.title.set_text('Label')\n",
    "            plt.imshow(labels[0, a], cmap=\"gray\")\n",
    "\n",
    "            tmp_ax = plt.subplot(1, 3, 3)\n",
    "            tmp_ax.title.set_text('Prediction')\n",
    "            plt.imshow(prediction_np[0, 0, a], cmap=\"gray\", vmin=0, vmax=1)\n",
    "            #     plt.subplot(2, 2, 4)\n",
    "            #     plt.imshow(prediction_np[0, 0, a], cmap=\"gray\")\n",
    "\n",
    "            if figfile is not None:\n",
    "                plt.savefig(figfile, dpi=96)\n",
    "            plt.show()\n",
    "\n",
    "\n",
    "        out = widgets.interactive_output(f, {'a': aSlider })\n",
    "        display(ui, out)\n",
    "\n",
    "        print('DEBUG shapes', prediction[:, 0].shape, labels.shape, inputs.shape)\n",
    "        print(f'DEBUG prediction max {prediction.max().item()}, min {prediction.min().item()}')\n",
    "        print('DEBUG intersection', (labels.cpu() *  prediction.cpu()[:,0]).sum().item())\n",
    "        print('DEBUG label sum', labels.cpu().sum().item())\n",
    "        print('DEBUG prediction sum', prediction.cpu()[:,0].sum().item())\n",
    "\n",
    "        smooth = 1e-6\n",
    "        y_pred = prediction.cpu()[:,0].contiguous().view(-1)\n",
    "        y_true = labels.cpu()[:].contiguous().view(-1)\n",
    "        intersection = (y_pred * y_true).sum()\n",
    "        dsc = (2. * intersection + smooth) / (\n",
    "            y_pred.sum() + y_true.sum() + smooth\n",
    "        )\n",
    "\n",
    "        print('DEBUG intersection2', intersection.item())\n",
    "        print('DEBUG dsc', dsc.item())\n",
    "        print('DEBUG MSE', (labels.cpu() - prediction.cpu()[:,0]).pow(2).mean().item())\n",
    "\n",
    "                \n",
    "# noinspection PyTypeChecker\n",
    "display(Markdown(\"## Train Eval\"))\n",
    "eval_image_dataset(train_dataset, 90)\n",
    "# noinspection PyTypeChecker\n",
    "display(Markdown(\"## Valid Eval\"))\n",
    "eval_image_dataset(valid_dataset, 90)\n",
    "# display(Markdown(\"## Test Eval\"))\n",
    "# eval_image_dataset(test_dataset, 78, 'test_plot.png')"
   ]
  },
  {
   "cell_type": "code",
   "execution_count": null,
   "metadata": {},
   "outputs": [],
   "source": []
  }
 ],
 "metadata": {
  "kernelspec": {
   "display_name": "Python 3",
   "language": "python",
   "name": "python3"
  },
  "language_info": {
   "codemirror_mode": {
    "name": "ipython",
    "version": 3
   },
   "file_extension": ".py",
   "mimetype": "text/x-python",
   "name": "python",
   "nbconvert_exporter": "python",
   "pygments_lexer": "ipython3",
   "version": "3.8.5"
  },
  "toc-autonumbering": true,
  "toc-showcode": false,
  "toc-showmarkdowntxt": false,
  "toc-showtags": false
 },
 "nbformat": 4,
 "nbformat_minor": 4
}

{
 "cells": [
  {
   "cell_type": "code",
   "execution_count": 1,
   "metadata": {},
   "outputs": [
    {
     "name": "stdout",
     "output_type": "stream",
     "text": [
      "If you use TorchIO for your research, please cite the following paper:\n",
      "Pérez-García et al., TorchIO: a Python library for efficient loading,\n",
      "preprocessing, augmentation and patch-based sampling of medical images\n",
      "in deep learning. Credits instructions: https://torchio.readthedocs.io/#credits\n",
      "\n",
      "Dataset biggest bounding box wihtout spinal cord [56, 177, 156]\n",
      "Cut target size [72, 192, 168]\n",
      "Done Init\n"
     ]
    }
   ],
   "source": [
    "IN_COLAB = 'google.colab' in str(get_ipython())\n",
    "if IN_COLAB:\n",
    "    from google.colab import drive\n",
    "    drive.mount('/content/drive')\n",
    "    import sys\n",
    "    sys.path.append('/content/drive/My Drive/dp_tomastik/code')\n",
    "    !bash \"/content/drive/My Drive/dp_tomastik/code/scripts/install_libs.sh\"\n",
    "\n",
    "import matplotlib.pyplot as plt\n",
    "import torch\n",
    "import os\n",
    "import numpy as np\n",
    "import pandas as pd\n",
    "import logging\n",
    "import datetime\n",
    "from torchio import RandomAffine, Compose, ZNormalization\n",
    "\n",
    "import src.dataset.oars_labels_consts as OARS_LABELS\n",
    "from src.consts import DATASET_MAX_BOUNDING_BOX, DESIRE_BOUNDING_BOX_SIZE\n",
    "from src.helpers.threshold_calc_helpers import get_threshold_info_df\n",
    "from src.helpers.show_model_dataset_pred_preview import show_model_dataset_pred_preview\n",
    "from src.dataset.get_cut_lists import get_cut_lists\n",
    "from src.dataset.get_full_res_cut import get_full_res_cut\n",
    "from src.dataset.get_dataset import get_dataset\n",
    "from src.dataset.get_dataset_info import get_dataset_info\n",
    "from src.dataset.preview_dataset import preview_dataset\n",
    "from src.dataset.get_dataset_transform import get_dataset_transform\n",
    "from src.model_and_training.prepare_model import prepare_model\n",
    "from src.model_and_training.train_loop import train_loop\n",
    "from src.model_and_training.show_model_info import show_model_info\n",
    "from src.model_and_training.load_checkpoint_model_info import load_checkpoint_model_info\n",
    "from src.helpers.show_cuda_usage import show_cuda_usage\n",
    "from src.helpers.get_rescaled_pred import get_rescaled_preds\n",
    "from src.dataset.split_dataset import split_dataset, copy_split_dataset\n",
    "from src.helpers.compare_prediction_with_ground_true import compare_prediction_with_ground_true, compare_one_prediction_with_ground_true\n",
    "from src.helpers.get_img_outliers_pixels import get_img_outliers_pixels\n",
    "from src.helpers.get_raw_with_prediction import get_raw_with_prediction\n",
    "from src.model_and_training.getters.get_device import get_device\n",
    "from src.model_and_training.unet_architecture_v3v1 import UNetV3v1\n",
    "\n",
    "\n",
    "from operator import itemgetter\n",
    "from IPython.display import display, Markdown\n",
    "from ipywidgets import widgets\n",
    "\n",
    "torch.manual_seed(20)\n",
    "logging.basicConfig(filename='logs/all_organs_jupyter.log', level=logging.DEBUG)\n",
    "\n",
    "print('Dataset biggest bounding box wihtout spinal cord', DATASET_MAX_BOUNDING_BOX)\n",
    "print('Cut target size', DESIRE_BOUNDING_BOX_SIZE)\n",
    "print('Done Init')"
   ]
  },
  {
   "cell_type": "code",
   "execution_count": 2,
   "metadata": {},
   "outputs": [],
   "source": [
    "TRAIN_MODELS = True"
   ]
  },
  {
   "cell_type": "code",
   "execution_count": 3,
   "metadata": {},
   "outputs": [],
   "source": [
    "def get_possible_models(oar_key):\n",
    "    possible_models = [folder_name for folder_name in os.listdir('./models') if oar_key in folder_name]    \n",
    "    \n",
    "    return possible_models"
   ]
  },
  {
   "cell_type": "markdown",
   "metadata": {},
   "source": [
    "# Loading precourse neural network with datasets"
   ]
  },
  {
   "cell_type": "code",
   "execution_count": 4,
   "metadata": {
    "scrolled": true
   },
   "outputs": [
    {
     "name": "stdout",
     "output_type": "stream",
     "text": [
      "CUDA using 16x dataset\n",
      "filtering labels\n",
      "filtering labels done\n",
      "dilatating 1x dataset\n",
      "parsing dataset to numpy\n",
      "numpy parsing done\n",
      "CUDA using 1x dataset\n",
      "filtering labels\n",
      "filtering labels done\n",
      "parsing dataset to numpy\n",
      "numpy parsing done\n"
     ]
    },
    {
     "name": "stderr",
     "output_type": "stream",
     "text": [
      "/home/nikolas/fiit-dp-thesis-code/venv/lib/python3.8/site-packages/torch/serialization.py:658: SourceChangeWarning: source code of class 'src.losses.dice_loss.DiceLoss' has changed. you can retrieve the original source code by accessing the object's source attribute or set `torch.nn.Module.dump_patches = True` and use the patch tool to revert the changes.\n",
      "  warnings.warn(msg, SourceChangeWarning)\n"
     ]
    },
    {
     "name": "stdout",
     "output_type": "stream",
     "text": [
      "Model number of params: 298881, trainable 298881\n",
      "get_cut_lists: Cutting index 0\n",
      "get_full_res_cut: Removing 10/1335 outlier pixels\n",
      "get_final_bounding_box_slice: box delta [21 48 24]\n",
      "get_full_res_cut: Does cut and original label contain the same amount of pixels? True 1223526 1223526\n",
      "get_cut_lists: Cutting index 1\n",
      "get_full_res_cut: Removing 0/1416 outlier pixels\n",
      "get_final_bounding_box_slice: box delta [24 16  8]\n",
      "get_full_res_cut: Does cut and original label contain the same amount of pixels? True 1326052 1326052\n",
      "get_cut_lists: Cutting index 2\n",
      "get_full_res_cut: Removing 0/1873 outlier pixels\n",
      "get_final_bounding_box_slice: box delta [ 20   0 -24]\n",
      "get_full_res_cut: Does cut and original label contain the same amount of pixels? True 1890464 1890464\n",
      "get_cut_lists: Cutting index 3\n",
      "get_full_res_cut: Removing 0/1545 outlier pixels\n",
      "get_final_bounding_box_slice: box delta [17 32  8]\n",
      "get_full_res_cut: Does cut and original label contain the same amount of pixels? True 1560217 1560217\n",
      "get_cut_lists: Cutting index 4\n",
      "get_full_res_cut: Removing 9/1510 outlier pixels\n",
      "get_final_bounding_box_slice: box delta [20 48 -8]\n",
      "get_full_res_cut: Does cut and original label contain the same amount of pixels? True 1451227 1451227\n",
      "get_cut_lists: Cutting index 5\n",
      "get_full_res_cut: Removing 0/1390 outlier pixels\n",
      "get_final_bounding_box_slice: box delta [22 32  8]\n",
      "get_full_res_cut: Does cut and original label contain the same amount of pixels? True 1262651 1262651\n",
      "get_cut_lists: Cutting index 6\n",
      "get_full_res_cut: Removing 0/1451 outlier pixels\n",
      "get_final_bounding_box_slice: box delta [19 16 -8]\n",
      "get_full_res_cut: Does cut and original label contain the same amount of pixels? True 1566938 1566938\n",
      "get_cut_lists: Cutting index 7\n",
      "get_full_res_cut: Removing 0/958 outlier pixels\n",
      "get_final_bounding_box_slice: box delta [29 48  8]\n",
      "get_full_res_cut: Does cut and original label contain the same amount of pixels? True 869847 869847\n",
      "get_cut_lists: Cutting index 8\n",
      "get_full_res_cut: Removing 0/1489 outlier pixels\n",
      "get_final_bounding_box_slice: box delta [19 32  8]\n",
      "get_full_res_cut: Does cut and original label contain the same amount of pixels? True 1397249 1397249\n",
      "get_cut_lists: Cutting index 9\n",
      "get_full_res_cut: Removing 0/1465 outlier pixels\n",
      "get_final_bounding_box_slice: box delta [21 16  8]\n",
      "get_full_res_cut: Does cut and original label contain the same amount of pixels? True 1350330 1350330\n",
      "get_cut_lists: Cutting index 10\n",
      "get_full_res_cut: Removing 0/1650 outlier pixels\n",
      "get_final_bounding_box_slice: box delta [20  0 -8]\n",
      "get_full_res_cut: Does cut and original label contain the same amount of pixels? True 1635868 1635868\n",
      "get_cut_lists: Cutting index 11\n",
      "get_full_res_cut: Removing 16/1371 outlier pixels\n",
      "get_final_bounding_box_slice: box delta [23 48 -8]\n",
      "get_full_res_cut: Does cut and original label contain the same amount of pixels? True 1283062 1283062\n",
      "get_cut_lists: Cutting index 12\n",
      "get_full_res_cut: Removing 0/1594 outlier pixels\n",
      "get_final_bounding_box_slice: box delta [21 32 -8]\n",
      "get_full_res_cut: Does cut and original label contain the same amount of pixels? True 1518406 1518406\n",
      "get_cut_lists: Cutting index 13\n",
      "get_full_res_cut: Removing 0/1482 outlier pixels\n",
      "get_final_bounding_box_slice: box delta [23 16  8]\n",
      "get_full_res_cut: Does cut and original label contain the same amount of pixels? True 1504194 1504194\n",
      "get_cut_lists: Cutting index 14\n",
      "get_full_res_cut: Removing 0/1191 outlier pixels\n",
      "get_final_bounding_box_slice: box delta [25 48  8]\n",
      "get_full_res_cut: Does cut and original label contain the same amount of pixels? True 1084254 1084254\n",
      "get_cut_lists: Cutting index 15\n",
      "get_full_res_cut: Removing 0/1267 outlier pixels\n",
      "get_final_bounding_box_slice: box delta [25 32  8]\n",
      "get_full_res_cut: Does cut and original label contain the same amount of pixels? True 1221257 1221257\n",
      "get_cut_lists: Cutting index 16\n",
      "get_full_res_cut: Removing 2/1009 outlier pixels\n",
      "get_final_bounding_box_slice: box delta [21 64 24]\n",
      "get_full_res_cut: Does cut and original label contain the same amount of pixels? True 945639 945639\n",
      "get_cut_lists: Cutting index 17\n",
      "get_full_res_cut: Removing 0/1498 outlier pixels\n",
      "get_final_bounding_box_slice: box delta [22 16 -8]\n",
      "get_full_res_cut: Does cut and original label contain the same amount of pixels? True 1469035 1469035\n",
      "get_cut_lists: Cutting index 18\n",
      "get_full_res_cut: Removing 7/1371 outlier pixels\n",
      "get_final_bounding_box_slice: box delta [22 48  8]\n",
      "get_full_res_cut: Does cut and original label contain the same amount of pixels? True 1322571 1322571\n",
      "get_cut_lists: Cutting index 19\n",
      "get_full_res_cut: Removing 0/1608 outlier pixels\n",
      "get_final_bounding_box_slice: box delta [17 16  8]\n",
      "get_full_res_cut: Does cut and original label contain the same amount of pixels? True 1593516 1593516\n",
      "get_cut_lists: Cutting index 20\n",
      "get_full_res_cut: Removing 0/1359 outlier pixels\n",
      "get_final_bounding_box_slice: box delta [25 32  8]\n",
      "get_full_res_cut: Does cut and original label contain the same amount of pixels? True 1390348 1390348\n",
      "get_cut_lists: Cutting index 21\n",
      "get_full_res_cut: Removing 0/1536 outlier pixels\n",
      "get_final_bounding_box_slice: box delta [ 22  16 -24]\n",
      "get_full_res_cut: Does cut and original label contain the same amount of pixels? True 1463017 1463017\n",
      "get_cut_lists: Cutting index 22\n",
      "get_full_res_cut: Removing 0/1231 outlier pixels\n",
      "get_final_bounding_box_slice: box delta [26 32 24]\n",
      "get_full_res_cut: Does cut and original label contain the same amount of pixels? True 1162215 1162215\n",
      "get_cut_lists: Cutting index 23\n",
      "get_full_res_cut: Removing 0/1154 outlier pixels\n",
      "get_final_bounding_box_slice: box delta [23 48  8]\n",
      "get_full_res_cut: Does cut and original label contain the same amount of pixels? True 1029805 1029805\n",
      "get_cut_lists: Cutting index 24\n",
      "get_full_res_cut: Removing 0/1669 outlier pixels\n",
      "get_final_bounding_box_slice: box delta [ 29 -16   8]\n",
      "get_full_res_cut: Does cut and original label contain the same amount of pixels? True 1689537 1689537\n",
      "get_cut_lists: Cutting index 25\n",
      "get_full_res_cut: Removing 0/1267 outlier pixels\n",
      "get_final_bounding_box_slice: box delta [23 48  8]\n",
      "get_full_res_cut: Does cut and original label contain the same amount of pixels? True 1141739 1141739\n",
      "get_cut_lists: Cutting index 26\n",
      "get_full_res_cut: Removing 9/1289 outlier pixels\n",
      "get_final_bounding_box_slice: box delta [18 48  8]\n",
      "get_full_res_cut: Does cut and original label contain the same amount of pixels? True 1167835 1167835\n",
      "get_cut_lists: Cutting index 27\n",
      "get_full_res_cut: Removing 15/1780 outlier pixels\n",
      "get_final_bounding_box_slice: box delta [23  0  8]\n",
      "get_full_res_cut: Does cut and original label contain the same amount of pixels? True 1783264 1783264\n",
      "get_cut_lists: Cutting index 28\n",
      "get_full_res_cut: Removing 25/1916 outlier pixels\n",
      "get_final_bounding_box_slice: box delta [ 22  16 -24]\n",
      "get_full_res_cut: Does cut and original label contain the same amount of pixels? True 1944758 1944758\n",
      "get_cut_lists: Cutting index 29\n",
      "get_full_res_cut: Removing 0/1369 outlier pixels\n",
      "get_final_bounding_box_slice: box delta [22 32  8]\n",
      "get_full_res_cut: Does cut and original label contain the same amount of pixels? True 1583396 1583396\n",
      "get_cut_lists: Cutting index 30\n",
      "get_full_res_cut: Removing 11/1390 outlier pixels\n",
      "get_final_bounding_box_slice: box delta [19 48  8]\n",
      "get_full_res_cut: Does cut and original label contain the same amount of pixels? True 1248609 1248609\n",
      "get_cut_lists: Cutting index 31\n",
      "get_full_res_cut: Removing 0/1087 outlier pixels\n",
      "get_final_bounding_box_slice: box delta [25 48 24]\n",
      "get_full_res_cut: Does cut and original label contain the same amount of pixels? True 947124 947124\n",
      "get_cut_lists: Cutting index 32\n",
      "get_full_res_cut: Removing 39/1798 outlier pixels\n",
      "get_final_bounding_box_slice: box delta [16 48  8]\n",
      "get_full_res_cut: Does cut and original label contain the same amount of pixels? True 1648187 1648187\n",
      "get_cut_lists: Cutting index 33\n",
      "get_full_res_cut: Removing 0/1327 outlier pixels\n",
      "get_final_bounding_box_slice: box delta [20 32  8]\n",
      "get_full_res_cut: Does cut and original label contain the same amount of pixels? True 1214697 1214697\n",
      "get_cut_lists: Cutting index 34\n",
      "get_full_res_cut: Removing 0/1528 outlier pixels\n",
      "get_final_bounding_box_slice: box delta [24 16 -8]\n",
      "get_full_res_cut: Does cut and original label contain the same amount of pixels? True 1445951 1445951\n",
      "get_cut_lists: Cutting index 35\n",
      "get_full_res_cut: Removing 0/1981 outlier pixels\n",
      "get_final_bounding_box_slice: box delta [ 14  32 -24]\n",
      "get_full_res_cut: Does cut and original label contain the same amount of pixels? True 1963068 1963068\n",
      "get_cut_lists: Cutting index 36\n",
      "get_full_res_cut: Removing 0/1403 outlier pixels\n",
      "get_final_bounding_box_slice: box delta [26 16  8]\n",
      "get_full_res_cut: Does cut and original label contain the same amount of pixels? True 1241941 1241941\n",
      "get_cut_lists: Cutting index 37\n",
      "get_full_res_cut: Removing 0/1417 outlier pixels\n",
      "get_final_bounding_box_slice: box delta [19 32 24]\n",
      "get_full_res_cut: Does cut and original label contain the same amount of pixels? True 1298886 1298886\n",
      "get_cut_lists: Cutting index 38\n",
      "get_full_res_cut: Removing 0/1567 outlier pixels\n",
      "get_final_bounding_box_slice: box delta [21 32  8]\n",
      "get_full_res_cut: Does cut and original label contain the same amount of pixels? True 1731533 1731533\n",
      "get_cut_lists: Cutting index 39\n",
      "get_full_res_cut: Removing 15/1286 outlier pixels\n",
      "get_final_bounding_box_slice: box delta [24 48  8]\n",
      "get_full_res_cut: Does cut and original label contain the same amount of pixels? True 1067335 1067335\n",
      "get_cut_lists: Cutting index 40\n",
      "get_full_res_cut: Removing 0/1328 outlier pixels\n",
      "get_final_bounding_box_slice: box delta [27 32  8]\n",
      "get_full_res_cut: Does cut and original label contain the same amount of pixels? True 1311715 1311715\n",
      "get_cut_lists: Cutting index 41\n",
      "get_full_res_cut: Removing 0/1559 outlier pixels\n",
      "get_final_bounding_box_slice: box delta [18 32  8]\n",
      "get_full_res_cut: Does cut and original label contain the same amount of pixels? True 1411792 1411792\n",
      "get_cut_lists: Cutting index 42\n",
      "get_full_res_cut: Removing 10/1102 outlier pixels\n",
      "get_final_bounding_box_slice: box delta [27 48 24]\n",
      "get_full_res_cut: Does cut and original label contain the same amount of pixels? True 951804 951804\n",
      "get_cut_lists: Cutting index 43\n",
      "get_full_res_cut: Removing 0/1143 outlier pixels\n",
      "get_final_bounding_box_slice: box delta [32 48 24]\n",
      "get_full_res_cut: Does cut and original label contain the same amount of pixels? True 1024831 1024831\n",
      "get_cut_lists: Cutting index 44\n",
      "get_full_res_cut: Removing 0/1734 outlier pixels\n",
      "get_final_bounding_box_slice: box delta [13 32  8]\n",
      "get_full_res_cut: Does cut and original label contain the same amount of pixels? True 1763923 1763923\n",
      "get_cut_lists: Cutting index 45\n",
      "get_full_res_cut: Removing 0/1156 outlier pixels\n",
      "get_final_bounding_box_slice: box delta [27 16 24]\n",
      "get_full_res_cut: Does cut and original label contain the same amount of pixels? True 1115633 1115633\n",
      "get_cut_lists: Cutting index 46\n",
      "get_full_res_cut: Removing 0/1657 outlier pixels\n",
      "get_final_bounding_box_slice: box delta [21 32  8]\n",
      "get_full_res_cut: Does cut and original label contain the same amount of pixels? True 1670156 1670156\n",
      "get_cut_lists: Cutting index 47\n",
      "get_full_res_cut: Removing 0/1436 outlier pixels\n",
      "get_final_bounding_box_slice: box delta [20 32  8]\n",
      "get_full_res_cut: Does cut and original label contain the same amount of pixels? True 1413179 1413179\n",
      "get_cut_lists: Cutting index 48\n",
      "get_full_res_cut: Removing 0/1002 outlier pixels\n",
      "get_final_bounding_box_slice: box delta [28 64 24]\n",
      "get_full_res_cut: Does cut and original label contain the same amount of pixels? True 781269 781269\n",
      "get_cut_lists: Cutting index 49\n",
      "get_full_res_cut: Removing 0/1705 outlier pixels\n",
      "get_final_bounding_box_slice: box delta [20 16  8]\n",
      "get_full_res_cut: Does cut and original label contain the same amount of pixels? True 1756965 1756965\n"
     ]
    }
   ],
   "source": [
    "datasets_params = ['train_dataset', 'valid_dataset', 'test_dataset']\n",
    "filter_labels = OARS_LABELS.OARS_LABELS_LIST\n",
    "if OARS_LABELS.SPINAL_CORD in filter_labels:\n",
    "    filter_labels.remove(OARS_LABELS.SPINAL_CORD)\n",
    "\n",
    "# low res\n",
    "low_res_dataset = get_dataset(dataset_size=50, shrink_factor=16, filter_labels=filter_labels, unify_labels=True)\n",
    "low_res_dataset.dilatate_labels(repeat=1)\n",
    "low_res_dataset.to_numpy()\n",
    "low_res_split_dataset_obj = split_dataset(low_res_dataset, train_size=40, valid_size=5, test_size=5)\n",
    "train_low_res_dataset, valid_low_res_dataset, test_low_res_dataset = itemgetter(*datasets_params)(low_res_split_dataset_obj)\n",
    "\n",
    "# full res\n",
    "full_res_dataset = get_dataset(dataset_size=50, shrink_factor=1, filter_labels=filter_labels, unify_labels=False)\n",
    "full_res_dataset.to_numpy()\n",
    "full_res_split_dataset_obj = copy_split_dataset(full_res_dataset, low_res_split_dataset_obj)\n",
    "\n",
    "# low res model - precourse model\n",
    "epoch = 500\n",
    "log_date = datetime.datetime(year=2020, month=10, day=27, hour=11, minute=45, second=30).strftime(\"%Y%m%d-%H%M%S\")\n",
    "model_name = f'{log_date}_3d_unet_PRECOURSE'\n",
    "\n",
    "low_res_model_info = load_checkpoint_model_info(model_name, epoch, train_low_res_dataset, valid_low_res_dataset, test_low_res_dataset)\n",
    "show_model_info(low_res_model_info)\n",
    "\n",
    "# moving low res to gpu\n",
    "low_res_model_info['device'] = get_device()\n",
    "# low_res_model_info['device'] = 'cpu'\n",
    "low_res_model_info['model'] = low_res_model_info['model'].to(low_res_model_info['device'])\n",
    "low_res_model_info['model'].eval()\n",
    "\n",
    "# cut res\n",
    "cut_full_res_dataset = full_res_dataset.copy(copy_lists=False)\n",
    "cut_full_res_dataset = get_cut_lists(low_res_model_info['model'],\n",
    "                                     low_res_model_info['device'],\n",
    "                                     low_res_dataset, \n",
    "                                     full_res_dataset, \n",
    "                                     cut_full_res_dataset, \n",
    "                                     low_res_mask_threshold=0.5)\n",
    "cut_full_res_dataset.set_output_label(None)\n",
    "cut_split_dataset_obj = copy_split_dataset(cut_full_res_dataset, low_res_split_dataset_obj)\n",
    "cut_train_dataset, cut_valid_dataset, cut_test_dataset = itemgetter(*datasets_params)(cut_split_dataset_obj)\n",
    "\n",
    "# moving low res model to cpu\n",
    "low_res_model_info['device'] = 'cpu'\n",
    "low_res_model_info['model'] = low_res_model_info['model'].to(low_res_model_info['device'])"
   ]
  },
  {
   "cell_type": "code",
   "execution_count": 5,
   "metadata": {},
   "outputs": [
    {
     "name": "stdout",
     "output_type": "stream",
     "text": [
      "train 40, valid_size 5, test 5, full 50\n",
      "train indices [0, 1, 2, 3, 4, 5, 7, 8, 9, 10, 11, 12, 14, 15, 17, 18, 20, 21, 22, 23, 24, 28, 30, 31, 32, 33, 34, 35, 36, 37, 40, 41, 42, 43, 44, 45, 46, 47, 48, 49]\n",
      "valid indices [6, 13, 19, 25, 38]\n",
      "test indices [16, 26, 27, 29, 39]\n"
     ]
    }
   ],
   "source": [
    "get_dataset_info(low_res_dataset, low_res_split_dataset_obj)"
   ]
  },
  {
   "cell_type": "code",
   "execution_count": 6,
   "metadata": {},
   "outputs": [
    {
     "name": "stdout",
     "output_type": "stream",
     "text": [
      "data max 3071, min -1024\n",
      "label max 22, min 0\n"
     ]
    },
    {
     "data": {
      "application/vnd.jupyter.widget-view+json": {
       "model_id": "fa1d540297ef47b98ec8330cecd042f2",
       "version_major": 2,
       "version_minor": 0
      },
      "text/plain": [
       "VBox(children=(HBox(children=(IntSlider(value=35, max=71), IntSlider(value=0, max=0))),))"
      ]
     },
     "metadata": {},
     "output_type": "display_data"
    },
    {
     "data": {
      "application/vnd.jupyter.widget-view+json": {
       "model_id": "f4b50d5176f94f9d8b7530a31627defd",
       "version_major": 2,
       "version_minor": 0
      },
      "text/plain": [
       "Output()"
      ]
     },
     "metadata": {},
     "output_type": "display_data"
    }
   ],
   "source": [
    "preview_dataset(cut_full_res_dataset)"
   ]
  },
  {
   "cell_type": "markdown",
   "metadata": {},
   "source": [
    "# Training all organs models"
   ]
  },
  {
   "cell_type": "markdown",
   "metadata": {},
   "source": [
    "checking list used for training single models"
   ]
  },
  {
   "cell_type": "code",
   "execution_count": 7,
   "metadata": {},
   "outputs": [
    {
     "name": "stdout",
     "output_type": "stream",
     "text": [
      "dataset label 'BRAIN_STEM', \t value '1'\n",
      "dataset label 'EYE_L', \t value '2'\n",
      "dataset label 'EYE_R', \t value '3'\n",
      "dataset label 'LENS_L', \t value '4'\n",
      "dataset label 'LENS_R', \t value '5'\n",
      "dataset label 'OPT_NERVE_L', \t value '6'\n",
      "dataset label 'OPT_NERVE_R', \t value '7'\n",
      "dataset label 'OPT_CHIASMA', \t value '8'\n",
      "dataset label 'TEMPORAL_LOBES_L', \t value '9'\n",
      "dataset label 'TEMPORAL_LOBES_R', \t value '10'\n",
      "dataset label 'PITUITARY', \t value '11'\n",
      "dataset label 'PAROTID_GLAND_L', \t value '12'\n",
      "dataset label 'PAROTID_GLAND_R', \t value '13'\n",
      "dataset label 'INNER_EAR_L', \t value '14'\n",
      "dataset label 'INNER_EAR_R', \t value '15'\n",
      "dataset label 'MID_EAR_L', \t value '16'\n",
      "dataset label 'MID_EAR_R', \t value '17'\n",
      "dataset label 'T_M_JOINT_L', \t value '18'\n",
      "dataset label 'T_M_JOINT_R', \t value '19'\n",
      "dataset label 'MANDIBLE_L', \t value '21'\n",
      "dataset label 'MANDIBLE_R', \t value '22'\n"
     ]
    }
   ],
   "source": [
    "filter_labels = OARS_LABELS.OARS_LABELS_DICT\n",
    "if 'SPINAL_CORD' in filter_labels:\n",
    "    del filter_labels['SPINAL_CORD']\n",
    "\n",
    "for OAR_KEY, OAR_VALUE in list(filter_labels.items())[:]:\n",
    "    cut_full_res_dataset.set_output_label(OAR_VALUE)\n",
    "    print(f'dataset label \\'{OAR_KEY}\\', \\t value \\'{OAR_VALUE}\\'')"
   ]
  },
  {
   "cell_type": "code",
   "execution_count": 8,
   "metadata": {},
   "outputs": [
    {
     "data": {
      "text/plain": [
       "[('PITUITARY', 11)]"
      ]
     },
     "execution_count": 8,
     "metadata": {},
     "output_type": "execute_result"
    }
   ],
   "source": [
    "list(filter_labels.items())[10:11]"
   ]
  },
  {
   "cell_type": "markdown",
   "metadata": {},
   "source": [
    "training each model"
   ]
  },
  {
   "cell_type": "code",
   "execution_count": null,
   "metadata": {},
   "outputs": [],
   "source": [
    "if TRAIN_MODELS:\n",
    "    filter_labels = OARS_LABELS.OARS_LABELS_DICT\n",
    "    if 'SPINAL_CORD' in filter_labels:\n",
    "        del filter_labels['SPINAL_CORD']\n",
    "\n",
    "    for OAR_KEY, OAR_VALUE in list(filter_labels.items())[10:11]:\n",
    "        cut_full_res_dataset.set_output_label(OAR_VALUE)\n",
    "        log_date = datetime.datetime.now().strftime(\"%Y%m%d-%H%M%S\")\n",
    "        model_name = f'{log_date}_3d_unet_lowres_model3v1_{OAR_KEY}'\n",
    "\n",
    "        print(f'Training model with dataset label \\'{OAR_KEY}\\', value \\'{OAR_VALUE}\\'')\n",
    "        print(f'folder \\'{model_name}\\'')\n",
    "        cut_model_info = prepare_model(epochs=75,\n",
    "                                       learning_rate=3e-4,\n",
    "                                       in_channels=8,\n",
    "                                       input_data_channels=1,\n",
    "                                       output_label_channels=1,\n",
    "                                       dropout_rate=0.2,\n",
    "                                       train_batch_size=1,\n",
    "                                       model_name=model_name,\n",
    "                                       train_dataset=cut_train_dataset, \n",
    "                                       valid_dataset=cut_valid_dataset, \n",
    "                                       test_dataset=cut_test_dataset,\n",
    "                                       model_class=UNetV3v1)\n",
    "        show_model_info(cut_model_info)\n",
    "        print('\\n\\n')\n",
    "        train_loop(cut_model_info)\n",
    "        print('\\n\\n')\n",
    "\n",
    "        # clearing memory\n",
    "        del cut_model_info\n",
    "        torch.cuda.empty_cache()"
   ]
  },
  {
   "cell_type": "code",
   "execution_count": null,
   "metadata": {},
   "outputs": [],
   "source": []
  }
 ],
 "metadata": {
  "kernelspec": {
   "display_name": "Python 3",
   "language": "python",
   "name": "python3"
  },
  "language_info": {
   "codemirror_mode": {
    "name": "ipython",
    "version": 3
   },
   "file_extension": ".py",
   "mimetype": "text/x-python",
   "name": "python",
   "nbconvert_exporter": "python",
   "pygments_lexer": "ipython3",
   "version": "3.8.5"
  }
 },
 "nbformat": 4,
 "nbformat_minor": 4
}

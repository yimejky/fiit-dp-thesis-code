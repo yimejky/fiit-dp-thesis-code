{
 "cells": [
  {
   "cell_type": "code",
   "execution_count": 1,
   "metadata": {},
   "outputs": [
    {
     "name": "stdout",
     "output_type": "stream",
     "text": [
      "Dataset biggest bounding box wihtout spinal cord [56, 177, 156]\n",
      "Cut target size [72, 192, 168]\n",
      "Done Init\n"
     ]
    }
   ],
   "source": [
    "import sys\n",
    "from src.consts import IN_COLAB, MAX_PADDING_SLICES, DATASET_MAX_BOUNDING_BOX, DESIRE_BOUNDING_BOX_SIZE\n",
    "\n",
    "if IN_COLAB:\n",
    "    print('Found Google Colab')\n",
    "    !pip3 install torch torchvision torchsummary\n",
    "    !pip3 install simpleitk\n",
    "\n",
    "    # noinspection PyUnresolvedReferences\n",
    "    from google.colab import drive\n",
    "    drive.mount('/content/drive')\n",
    "\n",
    "import numpy as np\n",
    "import matplotlib.pyplot as plt\n",
    "import torch\n",
    "import SimpleITK as sitk\n",
    "\n",
    "import src.helpers.oars_labels_consts as OARS_LABELS\n",
    "\n",
    "from operator import itemgetter\n",
    "from IPython.display import display, Markdown\n",
    "from ipywidgets import widgets\n",
    "from importlib import reload\n",
    "\n",
    "from src.training_helpers import loss_batch, show_model_info\n",
    "from src.helpers.prepare_model import prepare_model\n",
    "from src.helpers.train_loop import train_loop\n",
    "from src.helpers.get_dataset import get_dataset, get_dataloaders, get_copy_dataloaders\n",
    "from src.helpers.get_dataset_info import get_dataset_info\n",
    "from src.helpers.preview_dataset import preview_dataset\n",
    "from src.helpers.get_bounding_box import get_bounding_box, get_bounding_box_3D, get_bounding_box_3D_size, get_dividable_bounding_box, get_final_bounding_box_slice\n",
    "from src.helpers.dataset_cut_helpers import get_full_res_cut\n",
    "\n",
    "torch.manual_seed(20)\n",
    "\n",
    "print('Dataset biggest bounding box wihtout spinal cord', DATASET_MAX_BOUNDING_BOX)\n",
    "print('Cut target size', DESIRE_BOUNDING_BOX_SIZE)\n",
    "print('Done Init')"
   ]
  },
  {
   "cell_type": "markdown",
   "metadata": {},
   "source": [
    "# Neural Network"
   ]
  },
  {
   "cell_type": "markdown",
   "metadata": {},
   "source": [
    "## loading low res dataset"
   ]
  },
  {
   "cell_type": "code",
   "execution_count": 2,
   "metadata": {
    "pycharm": {
     "name": "#%%\n"
    }
   },
   "outputs": [
    {
     "name": "stdout",
     "output_type": "stream",
     "text": [
      "CUDA using 16x dataset\n",
      "normalizing dataset\n",
      "filtering labels\n",
      "dilatating 1x dataset\n",
      "parsing dataset to numpy\n",
      "data type: float64 int8\n",
      "train 40, valid_size 5, test 5, full 50\n",
      "train indices [0, 1, 2, 3, 4, 5, 7, 8, 9, 10, 11, 12, 14, 15, 17, 18, 20, 21, 22, 23, 24, 28, 30, 31, 32, 33, 34, 35, 36, 37, 40, 41, 42, 43, 44, 45, 46, 47, 48, 49]\n",
      "valid indices [6, 13, 19, 25, 38]\n",
      "test indices [16, 26, 27, 29, 39]\n"
     ]
    }
   ],
   "source": [
    "filter_labels = OARS_LABELS.OARS_LABELS_LIST\n",
    "if OARS_LABELS.SPINAL_CORD in filter_labels:\n",
    "    filter_labels.remove(OARS_LABELS.SPINAL_CORD)\n",
    "\n",
    "low_res_dataset = get_dataset(dataset_size=50, shrink_factor=16, filter_labels=filter_labels, unify_labels=True)\n",
    "low_res_dataset.dilatate_labels(repeat=1)\n",
    "low_res_dataset.to_numpy()\n",
    "low_res_dataset.show_data_type()\n",
    "low_res_dataloaders_obj = get_dataloaders(low_res_dataset, train_size=40, valid_size=5, test_size=5)\n",
    "\n",
    "get_dataset_info(low_res_dataset, low_res_dataloaders_obj)\n",
    "train_low_res_dataset, valid_low_res_dataset, test_low_res_dataset = itemgetter('train_dataset', 'valid_dataset', 'test_dataset')(low_res_dataloaders_obj)"
   ]
  },
  {
   "cell_type": "code",
   "execution_count": 3,
   "metadata": {
    "collapsed": false,
    "jupyter": {
     "outputs_hidden": false
    },
    "pycharm": {
     "name": "#%%\n"
    }
   },
   "outputs": [
    {
     "name": "stdout",
     "output_type": "stream",
     "text": [
      "data max 12.505709639268096, min -0.40698009878688973\n",
      "label max 1, min 0\n"
     ]
    },
    {
     "data": {
      "application/vnd.jupyter.widget-view+json": {
       "model_id": "4bf2ea8b64264e15ba8689ef5fe7f034",
       "version_major": 2,
       "version_minor": 0
      },
      "text/plain": [
       "VBox(children=(HBox(children=(IntSlider(value=79, max=159),)),))"
      ]
     },
     "metadata": {},
     "output_type": "display_data"
    },
    {
     "data": {
      "application/vnd.jupyter.widget-view+json": {
       "model_id": "91c21ef0e0164edeb13449d510b2896a",
       "version_major": 2,
       "version_minor": 0
      },
      "text/plain": [
       "Output()"
      ]
     },
     "metadata": {},
     "output_type": "display_data"
    }
   ],
   "source": [
    "preview_dataset(low_res_dataset, preview_index=0, show_hist=False)"
   ]
  },
  {
   "cell_type": "markdown",
   "metadata": {},
   "source": [
    "## training low res model"
   ]
  },
  {
   "cell_type": "code",
   "execution_count": 4,
   "metadata": {
    "collapsed": false,
    "jupyter": {
     "outputs_hidden": false
    },
    "pycharm": {
     "name": "#%%\n"
    },
    "scrolled": true
   },
   "outputs": [
    {
     "name": "stdout",
     "output_type": "stream",
     "text": [
      "Device running \"cuda\"\n",
      "max output channels 128\n",
      "Model number of params: 1193537, trainable 1193537\n",
      "Running training loop\n",
      "Batch eval [1] loss 0.95343, dsc 0.04657\n",
      "Batch eval [2] loss 0.96482, dsc 0.03518\n",
      "Batch eval [3] loss 0.96577, dsc 0.03423\n",
      "Batch eval [4] loss 0.96399, dsc 0.03601\n",
      "Batch eval [5] loss 0.96245, dsc 0.03755\n",
      "Epoch [1] T 7.31s, deltaT 7.31s, loss: train 0.96122, valid 0.96209, dsc: train 0.03878, valid 0.03791\n",
      "Batch eval [1] loss 0.94523, dsc 0.05477\n",
      "Batch eval [2] loss 0.95422, dsc 0.04578\n",
      "Batch eval [3] loss 0.94811, dsc 0.05189\n",
      "Batch eval [4] loss 0.95764, dsc 0.04236\n",
      "Batch eval [5] loss 0.94574, dsc 0.05426\n",
      "Epoch [2] T 14.62s, deltaT 7.31s, loss: train 0.95465, valid 0.95019, dsc: train 0.04535, valid 0.04981\n",
      "Batch eval [1] loss 0.94144, dsc 0.05856\n",
      "Batch eval [2] loss 0.95083, dsc 0.04917\n",
      "Batch eval [3] loss 0.94499, dsc 0.05501\n",
      "Batch eval [4] loss 0.95518, dsc 0.04482\n",
      "Batch eval [5] loss 0.94210, dsc 0.05790\n",
      "Epoch [3] T 21.94s, deltaT 7.32s, loss: train 0.95050, valid 0.94691, dsc: train 0.04950, valid 0.05309\n",
      "Batch eval [1] loss 0.93800, dsc 0.06200\n",
      "Batch eval [2] loss 0.95100, dsc 0.04900\n",
      "Batch eval [3] loss 0.95150, dsc 0.04850\n",
      "Batch eval [4] loss 0.95134, dsc 0.04866\n",
      "Batch eval [5] loss 0.94182, dsc 0.05818\n",
      "Epoch [4] T 29.26s, deltaT 7.32s, loss: train 0.94597, valid 0.94673, dsc: train 0.05403, valid 0.05327\n",
      "Batch eval [1] loss 0.92379, dsc 0.07621\n",
      "Batch eval [2] loss 0.93596, dsc 0.06404\n",
      "Batch eval [3] loss 0.92712, dsc 0.07288\n",
      "Batch eval [4] loss 0.94156, dsc 0.05844\n",
      "Batch eval [5] loss 0.92559, dsc 0.07441\n",
      "Epoch [5] T 36.58s, deltaT 7.32s, loss: train 0.94050, valid 0.93080, dsc: train 0.05950, valid 0.06920\n",
      "Batch eval [1] loss 0.91307, dsc 0.08693\n",
      "Batch eval [2] loss 0.92353, dsc 0.07647\n",
      "Batch eval [3] loss 0.91326, dsc 0.08674\n",
      "Batch eval [4] loss 0.93322, dsc 0.06678\n",
      "Batch eval [5] loss 0.91507, dsc 0.08493\n",
      "Epoch [6] T 43.92s, deltaT 7.34s, loss: train 0.93415, valid 0.91963, dsc: train 0.06585, valid 0.08037\n",
      "Batch eval [1] loss 0.91397, dsc 0.08603\n",
      "Batch eval [2] loss 0.92377, dsc 0.07623\n",
      "Batch eval [3] loss 0.91314, dsc 0.08686\n",
      "Batch eval [4] loss 0.93056, dsc 0.06944\n",
      "Batch eval [5] loss 0.91389, dsc 0.08611\n",
      "Epoch [7] T 51.28s, deltaT 7.36s, loss: train 0.92577, valid 0.91906, dsc: train 0.07423, valid 0.08094\n",
      "Batch eval [1] loss 0.89446, dsc 0.10554\n",
      "Batch eval [2] loss 0.90684, dsc 0.09316\n",
      "Batch eval [3] loss 0.89624, dsc 0.10376\n",
      "Batch eval [4] loss 0.91414, dsc 0.08586\n",
      "Batch eval [5] loss 0.89195, dsc 0.10805\n",
      "Epoch [8] T 58.66s, deltaT 7.37s, loss: train 0.91327, valid 0.90072, dsc: train 0.08673, valid 0.09928\n",
      "Batch eval [1] loss 0.90032, dsc 0.09968\n",
      "Batch eval [2] loss 0.91064, dsc 0.08936\n",
      "Batch eval [3] loss 0.90150, dsc 0.09850\n",
      "Batch eval [4] loss 0.92088, dsc 0.07912\n",
      "Batch eval [5] loss 0.89577, dsc 0.10423\n",
      "Epoch [9] T 66.05s, deltaT 7.39s, loss: train 0.89279, valid 0.90582, dsc: train 0.10721, valid 0.09418\n",
      "Batch eval [1] loss 0.83599, dsc 0.16401\n",
      "Batch eval [2] loss 0.85074, dsc 0.14926\n",
      "Batch eval [3] loss 0.83753, dsc 0.16247\n",
      "Batch eval [4] loss 0.88393, dsc 0.11607\n",
      "Batch eval [5] loss 0.83752, dsc 0.16248\n",
      "Epoch [10] T 73.42s, deltaT 7.37s, loss: train 0.85131, valid 0.84914, dsc: train 0.14869, valid 0.15086\n",
      "Batch eval [1] loss 0.74043, dsc 0.25957\n",
      "Batch eval [2] loss 0.80088, dsc 0.19912\n",
      "Batch eval [3] loss 0.79067, dsc 0.20933\n",
      "Batch eval [4] loss 0.79319, dsc 0.20681\n",
      "Batch eval [5] loss 0.75787, dsc 0.24213\n",
      "Epoch [11] T 80.85s, deltaT 7.44s, loss: train 0.79978, valid 0.77661, dsc: train 0.20022, valid 0.22339\n",
      "Batch eval [1] loss 0.66822, dsc 0.33178\n",
      "Batch eval [2] loss 0.70053, dsc 0.29947\n",
      "Batch eval [3] loss 0.67184, dsc 0.32816\n",
      "Batch eval [4] loss 0.72273, dsc 0.27727\n",
      "Batch eval [5] loss 0.66387, dsc 0.33613\n",
      "Epoch [12] T 88.29s, deltaT 7.43s, loss: train 0.73489, valid 0.68544, dsc: train 0.26511, valid 0.31456\n",
      "Batch eval [1] loss 0.57846, dsc 0.42154\n",
      "Batch eval [2] loss 0.62125, dsc 0.37875\n",
      "Batch eval [3] loss 0.60124, dsc 0.39876\n",
      "Batch eval [4] loss 0.63797, dsc 0.36203\n",
      "Batch eval [5] loss 0.57890, dsc 0.42110\n",
      "Epoch [13] T 95.74s, deltaT 7.45s, loss: train 0.65243, valid 0.60357, dsc: train 0.34757, valid 0.39643\n",
      "Batch eval [1] loss 0.47956, dsc 0.52044\n",
      "Batch eval [2] loss 0.52871, dsc 0.47129\n",
      "Batch eval [3] loss 0.49320, dsc 0.50680\n",
      "Batch eval [4] loss 0.54270, dsc 0.45730\n",
      "Batch eval [5] loss 0.48152, dsc 0.51848\n",
      "Epoch [14] T 103.15s, deltaT 7.41s, loss: train 0.54492, valid 0.50514, dsc: train 0.45508, valid 0.49486\n",
      "Batch eval [1] loss 0.37343, dsc 0.62657\n",
      "Batch eval [2] loss 0.42236, dsc 0.57764\n",
      "Batch eval [3] loss 0.41489, dsc 0.58511\n",
      "Batch eval [4] loss 0.40820, dsc 0.59180\n",
      "Batch eval [5] loss 0.38566, dsc 0.61434\n",
      "Epoch [15] T 110.57s, deltaT 7.41s, loss: train 0.44964, valid 0.40091, dsc: train 0.55036, valid 0.59909\n",
      "Batch eval [1] loss 0.36833, dsc 0.63167\n",
      "Batch eval [2] loss 0.38869, dsc 0.61131\n",
      "Batch eval [3] loss 0.38220, dsc 0.61780\n",
      "Batch eval [4] loss 0.35345, dsc 0.64655\n",
      "Batch eval [5] loss 0.36338, dsc 0.63662\n",
      "Epoch [16] T 117.99s, deltaT 7.42s, loss: train 0.37628, valid 0.37121, dsc: train 0.62372, valid 0.62879\n",
      "Batch eval [1] loss 0.34144, dsc 0.65856\n",
      "Batch eval [2] loss 0.36988, dsc 0.63012\n",
      "Batch eval [3] loss 0.38820, dsc 0.61180\n",
      "Batch eval [4] loss 0.33735, dsc 0.66265\n",
      "Batch eval [5] loss 0.33179, dsc 0.66821\n",
      "Epoch [17] T 125.44s, deltaT 7.46s, loss: train 0.32348, valid 0.35373, dsc: train 0.67652, valid 0.64627\n",
      "Batch eval [1] loss 0.26337, dsc 0.73663\n",
      "Batch eval [2] loss 0.28539, dsc 0.71461\n",
      "Batch eval [3] loss 0.27944, dsc 0.72056\n",
      "Batch eval [4] loss 0.28640, dsc 0.71360\n",
      "Batch eval [5] loss 0.25621, dsc 0.74379\n",
      "Epoch [18] T 132.86s, deltaT 7.42s, loss: train 0.27983, valid 0.27416, dsc: train 0.72017, valid 0.72584\n",
      "Batch eval [1] loss 0.26226, dsc 0.73774\n",
      "Batch eval [2] loss 0.28008, dsc 0.71992\n",
      "Batch eval [3] loss 0.28974, dsc 0.71026\n",
      "Batch eval [4] loss 0.25862, dsc 0.74138\n",
      "Batch eval [5] loss 0.24447, dsc 0.75553\n",
      "Epoch [19] T 140.27s, deltaT 7.41s, loss: train 0.24967, valid 0.26703, dsc: train 0.75033, valid 0.73297\n",
      "Batch eval [1] loss 0.24619, dsc 0.75381\n",
      "Batch eval [2] loss 0.27109, dsc 0.72891\n",
      "Batch eval [3] loss 0.26040, dsc 0.73960\n",
      "Batch eval [4] loss 0.24010, dsc 0.75990\n",
      "Batch eval [5] loss 0.25771, dsc 0.74229\n",
      "Epoch [20] T 147.67s, deltaT 7.39s, loss: train 0.22478, valid 0.25510, dsc: train 0.77522, valid 0.74490\n",
      "Batch eval [1] loss 0.23324, dsc 0.76676\n",
      "Batch eval [2] loss 0.25695, dsc 0.74305\n",
      "Batch eval [3] loss 0.25823, dsc 0.74177\n",
      "Batch eval [4] loss 0.21405, dsc 0.78595\n",
      "Batch eval [5] loss 0.23316, dsc 0.76684\n",
      "Epoch [21] T 155.05s, deltaT 7.39s, loss: train 0.21045, valid 0.23913, dsc: train 0.78955, valid 0.76087\n",
      "Batch eval [1] loss 0.21211, dsc 0.78789\n",
      "Batch eval [2] loss 0.25193, dsc 0.74807\n",
      "Batch eval [3] loss 0.21083, dsc 0.78917\n",
      "Batch eval [4] loss 0.20173, dsc 0.79827\n",
      "Batch eval [5] loss 0.20662, dsc 0.79338\n",
      "Epoch [22] T 162.61s, deltaT 7.55s, loss: train 0.19388, valid 0.21665, dsc: train 0.80612, valid 0.78335\n",
      "Batch eval [1] loss 0.22376, dsc 0.77624\n",
      "Batch eval [2] loss 0.26164, dsc 0.73836\n",
      "Batch eval [3] loss 0.23895, dsc 0.76105\n",
      "Batch eval [4] loss 0.21000, dsc 0.79000\n",
      "Batch eval [5] loss 0.22790, dsc 0.77210\n",
      "Epoch [23] T 170.06s, deltaT 7.45s, loss: train 0.18303, valid 0.23245, dsc: train 0.81697, valid 0.76755\n",
      "Batch eval [1] loss 0.22972, dsc 0.77028\n",
      "Batch eval [2] loss 0.22283, dsc 0.77717\n",
      "Batch eval [3] loss 0.25531, dsc 0.74469\n",
      "Batch eval [4] loss 0.21350, dsc 0.78650\n",
      "Batch eval [5] loss 0.21201, dsc 0.78799\n",
      "Epoch [24] T 177.41s, deltaT 7.35s, loss: train 0.17579, valid 0.22667, dsc: train 0.82421, valid 0.77333\n",
      "Batch eval [1] loss 0.20815, dsc 0.79185\n",
      "Batch eval [2] loss 0.21869, dsc 0.78131\n",
      "Batch eval [3] loss 0.22077, dsc 0.77923\n",
      "Batch eval [4] loss 0.18070, dsc 0.81930\n",
      "Batch eval [5] loss 0.19666, dsc 0.80334\n",
      "Epoch [25] T 184.77s, deltaT 7.36s, loss: train 0.16821, valid 0.20499, dsc: train 0.83179, valid 0.79501\n",
      "Batch eval [1] loss 0.19473, dsc 0.80527\n",
      "Batch eval [2] loss 0.22213, dsc 0.77787\n",
      "Batch eval [3] loss 0.21149, dsc 0.78851\n",
      "Batch eval [4] loss 0.19649, dsc 0.80351\n",
      "Batch eval [5] loss 0.17887, dsc 0.82113\n",
      "Epoch [26] T 192.16s, deltaT 7.39s, loss: train 0.15970, valid 0.20074, dsc: train 0.84030, valid 0.79926\n",
      "Batch eval [1] loss 0.19090, dsc 0.80910\n",
      "Batch eval [2] loss 0.20268, dsc 0.79732\n",
      "Batch eval [3] loss 0.19202, dsc 0.80798\n",
      "Batch eval [4] loss 0.22279, dsc 0.77721\n",
      "Batch eval [5] loss 0.17787, dsc 0.82213\n",
      "Epoch [27] T 199.51s, deltaT 7.35s, loss: train 0.15438, valid 0.19725, dsc: train 0.84562, valid 0.80275\n",
      "Batch eval [1] loss 0.20206, dsc 0.79794\n",
      "Batch eval [2] loss 0.20169, dsc 0.79831\n",
      "Batch eval [3] loss 0.19489, dsc 0.80511\n",
      "Batch eval [4] loss 0.17871, dsc 0.82129\n",
      "Batch eval [5] loss 0.16898, dsc 0.83102\n",
      "Epoch [28] T 206.88s, deltaT 7.37s, loss: train 0.14381, valid 0.18927, dsc: train 0.85619, valid 0.81073\n",
      "Batch eval [1] loss 0.18104, dsc 0.81896\n",
      "Batch eval [2] loss 0.20572, dsc 0.79428\n",
      "Batch eval [3] loss 0.18704, dsc 0.81296\n",
      "Batch eval [4] loss 0.19614, dsc 0.80386\n",
      "Batch eval [5] loss 0.16749, dsc 0.83251\n",
      "Epoch [29] T 214.25s, deltaT 7.37s, loss: train 0.13895, valid 0.18749, dsc: train 0.86105, valid 0.81251\n",
      "Batch eval [1] loss 0.20107, dsc 0.79893\n",
      "Batch eval [2] loss 0.20162, dsc 0.79838\n",
      "Batch eval [3] loss 0.20725, dsc 0.79275\n",
      "Batch eval [4] loss 0.17741, dsc 0.82259\n",
      "Batch eval [5] loss 0.18154, dsc 0.81846\n",
      "Epoch [30] T 221.63s, deltaT 7.38s, loss: train 0.13798, valid 0.19378, dsc: train 0.86202, valid 0.80622\n",
      "Elapsed time 0:03:41\n"
     ]
    }
   ],
   "source": [
    "# preparing model loop params\n",
    "low_res_model_info = prepare_model(epochs=30, in_channels=8, train_dataset=train_low_res_dataset, valid_dataset=valid_low_res_dataset, test_dataset=test_low_res_dataset)\n",
    "show_model_info(low_res_model_info)\n",
    "\n",
    "# getting everything necessary for model training\n",
    "low_res_train_loop_params = {k:v for k,v in low_res_model_info.items() if k not in ['model_total_params', 'model_total_trainable_params']}\n",
    "# running training loop\n",
    "train_loop(**low_res_train_loop_params)\n",
    "\n",
    "low_res_model = itemgetter('model')(low_res_model_info)"
   ]
  },
  {
   "cell_type": "markdown",
   "metadata": {},
   "source": [
    "## loading high/full res dataset"
   ]
  },
  {
   "cell_type": "code",
   "execution_count": 5,
   "metadata": {},
   "outputs": [
    {
     "name": "stdout",
     "output_type": "stream",
     "text": [
      "CUDA using 1x dataset\n",
      "normalizing dataset\n",
      "filtering labels\n",
      "parsing dataset to numpy\n",
      "data type: float64 int8\n",
      "data max 12.81577046544424, min -0.40489707167932215\n",
      "label max 22, min 0\n"
     ]
    },
    {
     "data": {
      "application/vnd.jupyter.widget-view+json": {
       "model_id": "e6f43de7eccc4e4ca13be927d76282aa",
       "version_major": 2,
       "version_minor": 0
      },
      "text/plain": [
       "VBox(children=(HBox(children=(IntSlider(value=79, max=159),)),))"
      ]
     },
     "metadata": {},
     "output_type": "display_data"
    },
    {
     "data": {
      "application/vnd.jupyter.widget-view+json": {
       "model_id": "8fb78ca5042f4782b328e465a4978d66",
       "version_major": 2,
       "version_minor": 0
      },
      "text/plain": [
       "Output()"
      ]
     },
     "metadata": {},
     "output_type": "display_data"
    },
    {
     "name": "stdout",
     "output_type": "stream",
     "text": [
      "dataset data and label shapes (1, 160, 32, 32) (1, 160, 512, 512)\n"
     ]
    }
   ],
   "source": [
    "full_res_dataset = get_dataset(dataset_size=50, shrink_factor=1, filter_labels=filter_labels, unify_labels=False)\n",
    "full_res_dataset.to_numpy()\n",
    "full_res_dataset.show_data_type()\n",
    "print('full dataset RAM sizes in GB', full_res_dataset.get_data_size())\n",
    "\n",
    "preview_dataset(full_res_dataset, preview_index=0, show_hist=False)\n",
    "\n",
    "print('dataset data and label shapes', low_res_dataset.data_list[0].shape, full_res_dataset.data_list[0].shape)"
   ]
  },
  {
   "cell_type": "markdown",
   "metadata": {},
   "source": [
    "## testing precoarse network\n"
   ]
  },
  {
   "cell_type": "code",
   "execution_count": 6,
   "metadata": {},
   "outputs": [
    {
     "name": "stdout",
     "output_type": "stream",
     "text": [
      "moved model to cpu\n"
     ]
    }
   ],
   "source": [
    "# moving model to cpu and setting to eval mode, preventing model params changes/training\n",
    "low_res_model.to('cpu')\n",
    "low_res_model.eval()\n",
    "print('moved model to cpu')"
   ]
  },
  {
   "cell_type": "markdown",
   "metadata": {},
   "source": [
    "### getting bounding box cut in full res"
   ]
  },
  {
   "cell_type": "code",
   "execution_count": 7,
   "metadata": {},
   "outputs": [],
   "source": [
    "def get_cut_lists(low_res_model, low_res_dataset, full_res_dataset, cut_full_res_dataset, low_res_mask_threshold=0.5):    \n",
    "    for i in range(len(full_res_dataset)):\n",
    "        print(f'getting cut index {i}')\n",
    "        low_res_data_img = low_res_dataset.data_list[i]\n",
    "        full_res_data_img = full_res_dataset.data_list[i]\n",
    "        full_res_label_img = full_res_dataset.label_list[i]\n",
    "\n",
    "        data_cut, label_cut, new_bounding_box = get_full_res_cut(low_res_model, \n",
    "                                                                 low_res_data_img, \n",
    "                                                                 full_res_data_img, \n",
    "                                                                 full_res_label_img, \n",
    "                                                                 low_res_mask_threshold,\n",
    "                                                                 DESIRE_BOUNDING_BOX_SIZE, \n",
    "                                                                 show_debug=False)\n",
    "        cut_full_res_dataset.data_list[i] = data_cut\n",
    "        cut_full_res_dataset.label_list[i] = label_cut\n",
    "        \n",
    "    return cut_full_res_dataset"
   ]
  },
  {
   "cell_type": "code",
   "execution_count": 8,
   "metadata": {},
   "outputs": [
    {
     "name": "stdout",
     "output_type": "stream",
     "text": [
      "train 40, valid_size 5, test 5, full 50\n",
      "train indices [0, 1, 2, 3, 4, 5, 7, 8, 9, 10, 11, 12, 14, 15, 17, 18, 20, 21, 22, 23, 24, 28, 30, 31, 32, 33, 34, 35, 36, 37, 40, 41, 42, 43, 44, 45, 46, 47, 48, 49]\n",
      "valid indices [6, 13, 19, 25, 38]\n",
      "test indices [16, 26, 27, 29, 39]\n"
     ]
    }
   ],
   "source": [
    "full_res_dataloaders_obj = get_copy_dataloaders(full_res_dataset, low_res_dataloaders_obj)\n",
    "get_dataset_info(full_res_dataset, full_res_dataloaders_obj)"
   ]
  },
  {
   "cell_type": "markdown",
   "metadata": {},
   "source": [
    "### debuging cut algorithm"
   ]
  },
  {
   "cell_type": "code",
   "execution_count": 9,
   "metadata": {},
   "outputs": [
    {
     "name": "stdout",
     "output_type": "stream",
     "text": [
      "debug box delta [29 32 24]\n",
      "debug, does cut and original label contain the same amount of pixels? True 951804 951804\n",
      "debug bounding box sizes (43, 160, 144) (72, 192, 168)\n",
      "debug bounding boxes (65, 107, 160, 319, 176, 319) (51, 122, 144, 335, 164, 331)\n"
     ]
    },
    {
     "data": {
      "application/vnd.jupyter.widget-view+json": {
       "model_id": "ec21dcb0aa0d4313bb72e4d05f1702fb",
       "version_major": 2,
       "version_minor": 0
      },
      "text/plain": [
       "VBox(children=(HBox(children=(IntSlider(value=79, max=159),)),))"
      ]
     },
     "metadata": {},
     "output_type": "display_data"
    },
    {
     "data": {
      "application/vnd.jupyter.widget-view+json": {
       "model_id": "7602085b8a194af58f61868e7904b6c5",
       "version_major": 2,
       "version_minor": 0
      },
      "text/plain": [
       "Output()"
      ]
     },
     "metadata": {},
     "output_type": "display_data"
    },
    {
     "data": {
      "application/vnd.jupyter.widget-view+json": {
       "model_id": "a6b05bac272c46ba85b09e97167765df",
       "version_major": 2,
       "version_minor": 0
      },
      "text/plain": [
       "VBox(children=(HBox(children=(IntSlider(value=35, max=71),)),))"
      ]
     },
     "metadata": {},
     "output_type": "display_data"
    },
    {
     "data": {
      "application/vnd.jupyter.widget-view+json": {
       "model_id": "ce9130bd507c4e47affd36c5238edb0d",
       "version_major": 2,
       "version_minor": 0
      },
      "text/plain": [
       "Output()"
      ]
     },
     "metadata": {},
     "output_type": "display_data"
    }
   ],
   "source": [
    "low_res_mask_threshold = 0.5\n",
    "dataset_index = 42\n",
    "low_res_data_img = low_res_dataset.data_list[dataset_index]\n",
    "full_res_data_img = full_res_dataset.data_list[dataset_index]\n",
    "full_res_label_img = full_res_dataset.label_list[dataset_index]\n",
    "\n",
    "data_cut, label_cut, new_bounding_box = get_full_res_cut(low_res_model, \n",
    "                                                         low_res_data_img,\n",
    "                                                         full_res_data_img, \n",
    "                                                         full_res_label_img, \n",
    "                                                         low_res_mask_threshold,\n",
    "                                                         DESIRE_BOUNDING_BOX_SIZE, \n",
    "                                                         show_debug=True)"
   ]
  },
  {
   "cell_type": "markdown",
   "metadata": {},
   "source": [
    "### running cut algorithm, creating cut dataset"
   ]
  },
  {
   "cell_type": "code",
   "execution_count": 10,
   "metadata": {
    "scrolled": true
   },
   "outputs": [
    {
     "name": "stdout",
     "output_type": "stream",
     "text": [
      "getting cut index 0\n",
      "debug box delta [21 32 24]\n",
      "debug, does cut and original label contain the same amount of pixels? True 1223526 1223526\n",
      "getting cut index 1\n",
      "debug box delta [24 16 -8]\n",
      "debug, does cut and original label contain the same amount of pixels? True 1326052 1326052\n",
      "getting cut index 2\n",
      "debug box delta [ 20   0 -24]\n",
      "debug, does cut and original label contain the same amount of pixels? True 1890464 1890464\n",
      "getting cut index 3\n",
      "debug box delta [17 32  8]\n",
      "debug, does cut and original label contain the same amount of pixels? True 1560217 1560217\n",
      "getting cut index 4\n",
      "debug box delta [22 32 -8]\n",
      "debug, does cut and original label contain the same amount of pixels? True 1451227 1451227\n",
      "getting cut index 5\n",
      "debug box delta [22 32  8]\n",
      "debug, does cut and original label contain the same amount of pixels? True 1262651 1262651\n",
      "getting cut index 6\n",
      "debug box delta [22 48 -8]\n",
      "debug, does cut and original label contain the same amount of pixels? True 1566938 1566938\n",
      "getting cut index 7\n",
      "debug box delta [27 48  8]\n",
      "debug, does cut and original label contain the same amount of pixels? True 869847 869847\n",
      "getting cut index 8\n",
      "debug box delta [20 32  8]\n",
      "debug, does cut and original label contain the same amount of pixels? True 1397249 1397249\n",
      "getting cut index 9\n",
      "debug box delta [21 16  8]\n",
      "debug, does cut and original label contain the same amount of pixels? True 1350330 1350330\n",
      "getting cut index 10\n",
      "debug box delta [20  0 -8]\n",
      "debug, does cut and original label contain the same amount of pixels? True 1635868 1635868\n",
      "getting cut index 11\n",
      "debug box delta [23 32 -8]\n",
      "debug, does cut and original label contain the same amount of pixels? True 1283062 1283062\n",
      "getting cut index 12\n",
      "debug box delta [ 23  32 -24]\n",
      "debug, does cut and original label contain the same amount of pixels? True 1518406 1518406\n",
      "getting cut index 13\n",
      "debug box delta [25 16 -8]\n",
      "debug, does cut and original label contain the same amount of pixels? True 1504194 1504194\n",
      "getting cut index 14\n",
      "debug box delta [25 48  8]\n",
      "debug, does cut and original label contain the same amount of pixels? True 1084254 1084254\n",
      "getting cut index 15\n",
      "debug box delta [26 32  8]\n",
      "debug, does cut and original label contain the same amount of pixels? True 1221257 1221257\n",
      "getting cut index 16\n",
      "debug box delta [22 48  8]\n",
      "debug, does cut and original label contain the same amount of pixels? True 945639 945639\n",
      "getting cut index 17\n",
      "debug box delta [ 24  16 -24]\n",
      "debug, does cut and original label contain the same amount of pixels? True 1469035 1469035\n",
      "getting cut index 18\n",
      "debug box delta [24 32  8]\n",
      "debug, does cut and original label contain the same amount of pixels? True 1322571 1322571\n",
      "getting cut index 19\n",
      "debug box delta [16 16  8]\n",
      "debug, does cut and original label contain the same amount of pixels? True 1593516 1593516\n",
      "getting cut index 20\n",
      "debug box delta [26 32  8]\n",
      "debug, does cut and original label contain the same amount of pixels? True 1390348 1390348\n",
      "getting cut index 21\n",
      "debug box delta [ 23  16 -24]\n",
      "debug, does cut and original label contain the same amount of pixels? True 1463017 1463017\n",
      "getting cut index 22\n",
      "debug box delta [24 32 24]\n",
      "debug, does cut and original label contain the same amount of pixels? True 1162215 1162215\n",
      "getting cut index 23\n",
      "debug box delta [21 48  8]\n",
      "debug, does cut and original label contain the same amount of pixels? True 1029805 1029805\n",
      "getting cut index 24\n",
      "debug box delta [ 28 -16   8]\n",
      "debug, does cut and original label contain the same amount of pixels? True 1689537 1689537\n",
      "getting cut index 25\n",
      "debug box delta [22 32  8]\n",
      "debug, does cut and original label contain the same amount of pixels? True 1141739 1141739\n",
      "getting cut index 26\n",
      "debug box delta [20 32  8]\n",
      "debug, does cut and original label contain the same amount of pixels? True 1167835 1167835\n",
      "getting cut index 27\n",
      "debug box delta [23  0 -8]\n",
      "debug, does cut and original label contain the same amount of pixels? True 1783264 1783264\n",
      "getting cut index 28\n",
      "debug box delta [ 20   0 -24]\n",
      "debug, does cut and original label contain the same amount of pixels? True 1944758 1944758\n",
      "getting cut index 29\n",
      "debug box delta [22 32  8]\n",
      "debug, does cut and original label contain the same amount of pixels? True 1583396 1583396\n",
      "getting cut index 30\n",
      "debug box delta [18 32  8]\n",
      "debug, does cut and original label contain the same amount of pixels? True 1248609 1248609\n",
      "getting cut index 31\n",
      "debug box delta [25 48 24]\n",
      "debug, does cut and original label contain the same amount of pixels? True 947124 947124\n",
      "getting cut index 32\n",
      "debug box delta [16 32  8]\n",
      "debug, does cut and original label contain the same amount of pixels? True 1648187 1648187\n",
      "getting cut index 33\n",
      "debug box delta [20 32  8]\n",
      "debug, does cut and original label contain the same amount of pixels? True 1214697 1214697\n",
      "getting cut index 34\n",
      "debug box delta [24 16 -8]\n",
      "debug, does cut and original label contain the same amount of pixels? True 1445951 1445951\n",
      "getting cut index 35\n",
      "debug box delta [ 13  32 -24]\n",
      "debug, does cut and original label contain the same amount of pixels? True 1963068 1963068\n",
      "getting cut index 36\n",
      "debug box delta [26 16  8]\n",
      "debug, does cut and original label contain the same amount of pixels? True 1241941 1241941\n",
      "getting cut index 37\n",
      "debug box delta [20 32 24]\n",
      "debug, does cut and original label contain the same amount of pixels? True 1298886 1298886\n",
      "getting cut index 38\n",
      "debug box delta [24 16  8]\n",
      "debug, does cut and original label contain the same amount of pixels? True 1731533 1731533\n",
      "getting cut index 39\n",
      "debug box delta [22 32  8]\n",
      "debug, does cut and original label contain the same amount of pixels? True 1067335 1067335\n",
      "getting cut index 40\n",
      "debug box delta [24 32  8]\n",
      "debug, does cut and original label contain the same amount of pixels? True 1311715 1311715\n",
      "getting cut index 41\n",
      "debug box delta [20 32  8]\n",
      "debug, does cut and original label contain the same amount of pixels? True 1411792 1411792\n",
      "getting cut index 42\n",
      "debug box delta [29 32 24]\n",
      "debug, does cut and original label contain the same amount of pixels? True 951804 951804\n",
      "getting cut index 43\n",
      "debug box delta [32 48 24]\n",
      "debug, does cut and original label contain the same amount of pixels? True 1024831 1024831\n",
      "getting cut index 44\n",
      "debug box delta [14 48 -8]\n",
      "debug, does cut and original label contain the same amount of pixels? True 1763923 1763923\n",
      "getting cut index 45\n",
      "debug box delta [27 32 24]\n",
      "debug, does cut and original label contain the same amount of pixels? True 1115633 1115633\n",
      "getting cut index 46\n",
      "debug box delta [21 32 -8]\n",
      "debug, does cut and original label contain the same amount of pixels? True 1670156 1670156\n",
      "getting cut index 47\n",
      "debug box delta [19 32  8]\n",
      "debug, does cut and original label contain the same amount of pixels? True 1413179 1413179\n",
      "getting cut index 48\n",
      "debug box delta [29 64 24]\n",
      "debug, does cut and original label contain the same amount of pixels? True 781269 781269\n",
      "getting cut index 49\n",
      "debug box delta [18 16  8]\n",
      "debug, does cut and original label contain the same amount of pixels? True 1756965 1756965\n"
     ]
    }
   ],
   "source": [
    "cut_full_res_dataset = full_res_dataset.copy(copy_lists=False)\n",
    "cut_full_res_dataset = get_cut_lists(low_res_model, low_res_dataset, full_res_dataset, cut_full_res_dataset, low_res_mask_threshold=0.5)"
   ]
  },
  {
   "cell_type": "markdown",
   "metadata": {},
   "source": [
    "### reviewing full res and cut dataset"
   ]
  },
  {
   "cell_type": "code",
   "execution_count": 11,
   "metadata": {},
   "outputs": [
    {
     "name": "stdout",
     "output_type": "stream",
     "text": [
      "data type: float64 int8\n",
      "\n",
      "full res shape (1, 160, 512, 512) (160, 512, 512)\n",
      "cut full res shape (1, 72, 192, 168) (72, 192, 168)\n",
      "\n",
      "dataset RAM sizes in GB 17.578125 0.9733200073242188\n",
      "single item RAM in GB 0.0390625 0.3125\n",
      "\n",
      "data max 11.780218856954171, min -0.42423961281850314\n",
      "label max 22, min 0\n"
     ]
    },
    {
     "data": {
      "application/vnd.jupyter.widget-view+json": {
       "model_id": "aeebea63d431476abd20c83ffd2a2e8b",
       "version_major": 2,
       "version_minor": 0
      },
      "text/plain": [
       "VBox(children=(HBox(children=(IntSlider(value=35, max=71),)),))"
      ]
     },
     "metadata": {},
     "output_type": "display_data"
    },
    {
     "data": {
      "application/vnd.jupyter.widget-view+json": {
       "model_id": "19663a43c884490d994a0136f54634d6",
       "version_major": 2,
       "version_minor": 0
      },
      "text/plain": [
       "Output()"
      ]
     },
     "metadata": {},
     "output_type": "display_data"
    }
   ],
   "source": [
    "cut_full_res_dataset.show_data_type()\n",
    "print()\n",
    "print('full res shape', full_res_dataset.data_list[0].shape, full_res_dataset.label_list[0].shape)\n",
    "print('cut full res shape', cut_full_res_dataset.data_list[0].shape, cut_full_res_dataset.label_list[0].shape)\n",
    "print()\n",
    "print('dataset RAM sizes in GB', full_res_dataset.get_data_size() / 1024**3, cut_full_res_dataset.get_data_size() / 1024**3)\n",
    "print('single item RAM in GB', full_res_dataset.label_list[0].nbytes / 1024**3, full_res_dataset.data_list[0].nbytes / 1024**3)\n",
    "print()\n",
    "preview_dataset(cut_full_res_dataset, max_slices=72)"
   ]
  },
  {
   "cell_type": "markdown",
   "metadata": {},
   "source": [
    "### preparing cut model"
   ]
  },
  {
   "cell_type": "code",
   "execution_count": 19,
   "metadata": {},
   "outputs": [
    {
     "data": {
      "image/png": "[encoded data removed]",
      "text/plain": [
       "<Figure size 720x720 with 1 Axes>"
      ]
     },
     "metadata": {
      "needs_background": "light"
     },
     "output_type": "display_data"
    },
    {
     "name": "stdout",
     "output_type": "stream",
     "text": [
      "train 40, valid_size 5, test 5, full 50\n",
      "train indices [0, 1, 2, 3, 4, 5, 7, 8, 9, 10, 11, 12, 14, 15, 17, 18, 20, 21, 22, 23, 24, 28, 30, 31, 32, 33, 34, 35, 36, 37, 40, 41, 42, 43, 44, 45, 46, 47, 48, 49]\n",
      "valid indices [6, 13, 19, 25, 38]\n",
      "test indices [16, 26, 27, 29, 39]\n"
     ]
    }
   ],
   "source": [
    "cut_full_res_dataset.set_output_label([OARS_LABELS.EYE_L, OARS_LABELS.EYE_R, OARS_LABELS.LENS_L, OARS_LABELS.LENS_R])\n",
    "plt.figure(figsize=(10, 10))\n",
    "plt.imshow(cut_full_res_dataset.__getitem__(0)[1][47])\n",
    "plt.show()\n",
    "\n",
    "cut_dataloaders_obj = get_copy_dataloaders(cut_full_res_dataset, low_res_dataloaders_obj)\n",
    "get_dataset_info(cut_full_res_dataset, cut_dataloaders_obj)\n",
    "\n",
    "cut_train_dataset, cut_valid_dataset, cut_test_dataset = itemgetter('train_dataset', 'valid_dataset', 'test_dataset')(cut_dataloaders_obj)"
   ]
  },
  {
   "cell_type": "code",
   "execution_count": 22,
   "metadata": {
    "scrolled": true
   },
   "outputs": [
    {
     "name": "stdout",
     "output_type": "stream",
     "text": [
      "Device running \"cuda\"\n",
      "max output channels 128\n",
      "Model number of params: 1193537, trainable 1193537\n",
      "Running training loop\n",
      "Batch eval [1] loss 0.99033, dsc 0.00967\n",
      "Batch eval [2] loss 0.99231, dsc 0.00769\n",
      "Batch eval [3] loss 0.98990, dsc 0.01010\n",
      "Batch eval [4] loss 0.98901, dsc 0.01099\n",
      "Batch eval [5] loss 0.98318, dsc 0.01682\n",
      "Epoch [1] T 93.67s, deltaT 93.67s, loss: train 0.98968, valid 0.98895, dsc: train 0.01032, valid 0.01105\n",
      "Batch eval [1] loss 0.98925, dsc 0.01075\n",
      "Batch eval [2] loss 0.99120, dsc 0.00880\n",
      "Batch eval [3] loss 0.98863, dsc 0.01137\n",
      "Batch eval [4] loss 0.98733, dsc 0.01267\n",
      "Batch eval [5] loss 0.98083, dsc 0.01917\n",
      "Epoch [2] T 182.41s, deltaT 88.74s, loss: train 0.98749, valid 0.98745, dsc: train 0.01251, valid 0.01255\n",
      "Batch eval [1] loss 0.98810, dsc 0.01190\n",
      "Batch eval [2] loss 0.99014, dsc 0.00986\n",
      "Batch eval [3] loss 0.98739, dsc 0.01261\n",
      "Batch eval [4] loss 0.98594, dsc 0.01406\n",
      "Batch eval [5] loss 0.97887, dsc 0.02113\n",
      "Epoch [3] T 272.14s, deltaT 89.73s, loss: train 0.98632, valid 0.98609, dsc: train 0.01368, valid 0.01391\n",
      "Batch eval [1] loss 0.98663, dsc 0.01337\n",
      "Batch eval [2] loss 0.98891, dsc 0.01109\n",
      "Batch eval [3] loss 0.98588, dsc 0.01412\n",
      "Batch eval [4] loss 0.98425, dsc 0.01575\n",
      "Batch eval [5] loss 0.98063, dsc 0.01937\n",
      "Epoch [4] T 361.38s, deltaT 89.23s, loss: train 0.98490, valid 0.98526, dsc: train 0.01510, valid 0.01474\n",
      "Batch eval [1] loss 0.98651, dsc 0.01349\n",
      "Batch eval [2] loss 0.99196, dsc 0.00804\n",
      "Batch eval [3] loss 0.98597, dsc 0.01403\n",
      "Batch eval [4] loss 0.98444, dsc 0.01556\n",
      "Batch eval [5] loss 0.98155, dsc 0.01845\n",
      "Epoch [5] T 449.79s, deltaT 88.41s, loss: train 0.98309, valid 0.98609, dsc: train 0.01691, valid 0.01391\n",
      "Batch eval [1] loss 0.98190, dsc 0.01810\n",
      "Batch eval [2] loss 0.98510, dsc 0.01490\n",
      "Batch eval [3] loss 0.98057, dsc 0.01943\n",
      "Batch eval [4] loss 0.97927, dsc 0.02073\n",
      "Batch eval [5] loss 0.96853, dsc 0.03147\n",
      "Epoch [6] T 539.38s, deltaT 89.58s, loss: train 0.98069, valid 0.97907, dsc: train 0.01931, valid 0.02093\n",
      "Batch eval [1] loss 0.97876, dsc 0.02124\n",
      "Batch eval [2] loss 0.98182, dsc 0.01818\n",
      "Batch eval [3] loss 0.97706, dsc 0.02294\n",
      "Batch eval [4] loss 0.97376, dsc 0.02624\n",
      "Batch eval [5] loss 0.96171, dsc 0.03829\n",
      "Epoch [7] T 628.65s, deltaT 89.27s, loss: train 0.97713, valid 0.97462, dsc: train 0.02287, valid 0.02538\n",
      "Batch eval [1] loss 0.97521, dsc 0.02479\n",
      "Batch eval [2] loss 0.97944, dsc 0.02056\n",
      "Batch eval [3] loss 0.97391, dsc 0.02609\n",
      "Batch eval [4] loss 0.96985, dsc 0.03015\n",
      "Batch eval [5] loss 0.95772, dsc 0.04228\n",
      "Epoch [8] T 717.34s, deltaT 88.69s, loss: train 0.97152, valid 0.97123, dsc: train 0.02848, valid 0.02877\n",
      "Batch eval [1] loss 0.95173, dsc 0.04827\n",
      "Batch eval [2] loss 0.96144, dsc 0.03856\n",
      "Batch eval [3] loss 0.95157, dsc 0.04843\n",
      "Batch eval [4] loss 0.94933, dsc 0.05067\n",
      "Batch eval [5] loss 0.91262, dsc 0.08738\n",
      "Epoch [9] T 806.36s, deltaT 89.02s, loss: train 0.95742, valid 0.94534, dsc: train 0.04258, valid 0.05466\n",
      "Batch eval [1] loss 0.92456, dsc 0.07544\n",
      "Batch eval [2] loss 0.94188, dsc 0.05812\n",
      "Batch eval [3] loss 0.92233, dsc 0.07767\n",
      "Batch eval [4] loss 0.91658, dsc 0.08342\n",
      "Batch eval [5] loss 0.88589, dsc 0.11411\n",
      "Epoch [10] T 897.78s, deltaT 91.42s, loss: train 0.93516, valid 0.91825, dsc: train 0.06484, valid 0.08175\n",
      "Batch eval [1] loss 0.89392, dsc 0.10608\n",
      "Batch eval [2] loss 0.91386, dsc 0.08614\n",
      "Batch eval [3] loss 0.89130, dsc 0.10870\n",
      "Batch eval [4] loss 0.88540, dsc 0.11460\n",
      "Batch eval [5] loss 0.83073, dsc 0.16927\n",
      "Epoch [11] T 990.76s, deltaT 92.98s, loss: train 0.89524, valid 0.88304, dsc: train 0.10476, valid 0.11696\n",
      "Batch eval [1] loss 0.80614, dsc 0.19386\n",
      "Batch eval [2] loss 0.84830, dsc 0.15170\n",
      "Batch eval [3] loss 0.81376, dsc 0.18624\n",
      "Batch eval [4] loss 0.80194, dsc 0.19806\n",
      "Batch eval [5] loss 0.72661, dsc 0.27339\n",
      "Epoch [12] T 1079.07s, deltaT 88.31s, loss: train 0.82809, valid 0.79935, dsc: train 0.17191, valid 0.20065\n",
      "Batch eval [1] loss 0.63646, dsc 0.36354\n",
      "Batch eval [2] loss 0.71221, dsc 0.28779\n",
      "Batch eval [3] loss 0.62734, dsc 0.37266\n",
      "Batch eval [4] loss 0.61938, dsc 0.38062\n",
      "Batch eval [5] loss 0.55942, dsc 0.44058\n",
      "Epoch [13] T 1168.32s, deltaT 89.24s, loss: train 0.72217, valid 0.63096, dsc: train 0.27783, valid 0.36904\n",
      "Batch eval [1] loss 0.87335, dsc 0.12665\n",
      "Batch eval [2] loss 0.99885, dsc 0.00115\n",
      "Batch eval [3] loss 0.88563, dsc 0.11437\n",
      "Batch eval [4] loss 0.62764, dsc 0.37236\n",
      "Batch eval [5] loss 0.85788, dsc 0.14212\n",
      "Epoch [14] T 1257.61s, deltaT 89.29s, loss: train 0.58076, valid 0.84867, dsc: train 0.41924, valid 0.15133\n",
      "Batch eval [1] loss 0.45109, dsc 0.54891\n",
      "Batch eval [2] loss 0.63896, dsc 0.36104\n",
      "Batch eval [3] loss 0.53898, dsc 0.46102\n",
      "Batch eval [4] loss 0.39628, dsc 0.60372\n",
      "Batch eval [5] loss 0.61645, dsc 0.38355\n",
      "Epoch [15] T 1349.46s, deltaT 91.85s, loss: train 0.45138, valid 0.52835, dsc: train 0.54862, valid 0.47165\n",
      "Batch eval [1] loss 0.33241, dsc 0.66759\n",
      "Batch eval [2] loss 0.35995, dsc 0.64005\n",
      "Batch eval [3] loss 0.32251, dsc 0.67749\n",
      "Batch eval [4] loss 0.32965, dsc 0.67035\n",
      "Batch eval [5] loss 0.34954, dsc 0.65046\n",
      "Epoch [16] T 1441.38s, deltaT 91.92s, loss: train 0.35656, valid 0.33881, dsc: train 0.64344, valid 0.66119\n",
      "Batch eval [1] loss 0.30473, dsc 0.69527\n",
      "Batch eval [2] loss 0.30316, dsc 0.69684\n",
      "Batch eval [3] loss 0.26245, dsc 0.73755\n",
      "Batch eval [4] loss 0.25616, dsc 0.74384\n",
      "Batch eval [5] loss 0.21044, dsc 0.78956\n",
      "Epoch [17] T 1530.04s, deltaT 88.66s, loss: train 0.27415, valid 0.26739, dsc: train 0.72585, valid 0.73261\n",
      "Batch eval [1] loss 0.23994, dsc 0.76006\n",
      "Batch eval [2] loss 0.24911, dsc 0.75089\n",
      "Batch eval [3] loss 0.23422, dsc 0.76578\n",
      "Batch eval [4] loss 0.20809, dsc 0.79191\n",
      "Batch eval [5] loss 0.23098, dsc 0.76902\n",
      "Epoch [18] T 1618.83s, deltaT 88.79s, loss: train 0.23017, valid 0.23247, dsc: train 0.76983, valid 0.76753\n",
      "Batch eval [1] loss 0.17549, dsc 0.82451\n",
      "Batch eval [2] loss 0.27775, dsc 0.72225\n",
      "Batch eval [3] loss 0.20083, dsc 0.79917\n",
      "Batch eval [4] loss 0.15358, dsc 0.84642\n",
      "Batch eval [5] loss 0.32133, dsc 0.67867\n",
      "Epoch [19] T 1706.62s, deltaT 87.79s, loss: train 0.20316, valid 0.22580, dsc: train 0.79684, valid 0.77420\n",
      "Batch eval [1] loss 0.16683, dsc 0.83317\n",
      "Batch eval [2] loss 0.20644, dsc 0.79356\n",
      "Batch eval [3] loss 0.16201, dsc 0.83799\n",
      "Batch eval [4] loss 0.17715, dsc 0.82285\n",
      "Batch eval [5] loss 0.28997, dsc 0.71003\n",
      "Epoch [20] T 1794.40s, deltaT 87.78s, loss: train 0.18132, valid 0.20048, dsc: train 0.81868, valid 0.79952\n",
      "Batch eval [1] loss 0.18428, dsc 0.81572\n",
      "Batch eval [2] loss 0.16202, dsc 0.83798\n",
      "Batch eval [3] loss 0.15998, dsc 0.84002\n",
      "Batch eval [4] loss 0.16374, dsc 0.83626\n",
      "Batch eval [5] loss 0.15717, dsc 0.84283\n",
      "Epoch [21] T 1882.28s, deltaT 87.88s, loss: train 0.16280, valid 0.16544, dsc: train 0.83720, valid 0.83456\n",
      "Batch eval [1] loss 0.56649, dsc 0.43351\n",
      "Batch eval [2] loss 0.80803, dsc 0.19197\n",
      "Batch eval [3] loss 0.61678, dsc 0.38322\n",
      "Batch eval [4] loss 0.37950, dsc 0.62050\n",
      "Batch eval [5] loss 0.65890, dsc 0.34110\n",
      "Epoch [22] T 1970.03s, deltaT 87.75s, loss: train 0.15492, valid 0.60594, dsc: train 0.84508, valid 0.39406\n",
      "Batch eval [1] loss 0.16571, dsc 0.83429\n",
      "Batch eval [2] loss 0.14647, dsc 0.85353\n",
      "Batch eval [3] loss 0.12951, dsc 0.87049\n",
      "Batch eval [4] loss 0.15319, dsc 0.84681\n",
      "Batch eval [5] loss 0.14663, dsc 0.85337\n",
      "Epoch [23] T 2057.82s, deltaT 87.80s, loss: train 0.14758, valid 0.14830, dsc: train 0.85242, valid 0.85170\n",
      "Batch eval [1] loss 0.13073, dsc 0.86927\n",
      "Batch eval [2] loss 0.18876, dsc 0.81124\n",
      "Batch eval [3] loss 0.20742, dsc 0.79258\n",
      "Batch eval [4] loss 0.13246, dsc 0.86754\n",
      "Batch eval [5] loss 0.35630, dsc 0.64370\n",
      "Epoch [24] T 2145.63s, deltaT 87.80s, loss: train 0.13444, valid 0.20313, dsc: train 0.86556, valid 0.79687\n",
      "Batch eval [1] loss 0.11381, dsc 0.88619\n",
      "Batch eval [2] loss 0.15447, dsc 0.84553\n",
      "Batch eval [3] loss 0.11966, dsc 0.88034\n",
      "Batch eval [4] loss 0.10215, dsc 0.89785\n",
      "Batch eval [5] loss 0.21118, dsc 0.78882\n",
      "Epoch [25] T 2233.80s, deltaT 88.17s, loss: train 0.13142, valid 0.14025, dsc: train 0.86858, valid 0.85975\n",
      "Batch eval [1] loss 0.11494, dsc 0.88506\n",
      "Batch eval [2] loss 0.12803, dsc 0.87197\n",
      "Batch eval [3] loss 0.13806, dsc 0.86194\n",
      "Batch eval [4] loss 0.13384, dsc 0.86616\n",
      "Batch eval [5] loss 0.31869, dsc 0.68131\n",
      "Epoch [26] T 2321.87s, deltaT 88.07s, loss: train 0.13306, valid 0.16671, dsc: train 0.86694, valid 0.83329\n",
      "Batch eval [1] loss 0.12703, dsc 0.87297\n",
      "Batch eval [2] loss 0.12324, dsc 0.87676\n",
      "Batch eval [3] loss 0.09590, dsc 0.90410\n",
      "Batch eval [4] loss 0.12446, dsc 0.87554\n",
      "Batch eval [5] loss 0.21050, dsc 0.78950\n",
      "Epoch [27] T 2409.96s, deltaT 88.08s, loss: train 0.12506, valid 0.13623, dsc: train 0.87494, valid 0.86377\n",
      "Batch eval [1] loss 0.11525, dsc 0.88475\n",
      "Batch eval [2] loss 0.18706, dsc 0.81294\n",
      "Batch eval [3] loss 0.14366, dsc 0.85634\n",
      "Batch eval [4] loss 0.10237, dsc 0.89763\n",
      "Batch eval [5] loss 0.21180, dsc 0.78820\n",
      "Epoch [28] T 2498.20s, deltaT 88.24s, loss: train 0.12005, valid 0.15203, dsc: train 0.87995, valid 0.84797\n",
      "Batch eval [1] loss 0.16240, dsc 0.83760\n",
      "Batch eval [2] loss 0.31132, dsc 0.68868\n",
      "Batch eval [3] loss 0.22387, dsc 0.77613\n",
      "Batch eval [4] loss 0.11450, dsc 0.88550\n",
      "Batch eval [5] loss 0.31182, dsc 0.68818\n",
      "Epoch [29] T 2586.32s, deltaT 88.12s, loss: train 0.11330, valid 0.22478, dsc: train 0.88670, valid 0.77522\n",
      "Batch eval [1] loss 0.10497, dsc 0.89503\n",
      "Batch eval [2] loss 0.18466, dsc 0.81534\n",
      "Batch eval [3] loss 0.15159, dsc 0.84841\n",
      "Batch eval [4] loss 0.10077, dsc 0.89923\n",
      "Batch eval [5] loss 0.21691, dsc 0.78309\n",
      "Epoch [30] T 2674.46s, deltaT 88.14s, loss: train 0.11367, valid 0.15178, dsc: train 0.88633, valid 0.84822\n",
      "Elapsed time 0:44:34\n"
     ]
    }
   ],
   "source": [
    "cut_model_info = prepare_model(in_channels=8, train_dataset=cut_train_dataset, valid_dataset=cut_valid_dataset, test_dataset=cut_test_dataset)\n",
    "show_model_info(cut_model_info)\n",
    "\n",
    "cut_train_loop_params = {k:v for k,v in cut_model_info.items() if k not in ['model_total_params', 'model_total_trainable_params']}\n",
    "train_loop(**cut_train_loop_params)"
   ]
  },
  {
   "cell_type": "markdown",
   "metadata": {},
   "source": [
    "160x128x128 = 2_621_440 \\\n",
    "72x198x168 = 2_395_008"
   ]
  },
  {
   "cell_type": "code",
   "execution_count": 41,
   "metadata": {},
   "outputs": [
    {
     "data": {
      "text/markdown": [
       "## Train Eval"
      ],
      "text/plain": [
       "<IPython.core.display.Markdown object>"
      ]
     },
     "metadata": {},
     "output_type": "display_data"
    },
    {
     "name": "stdout",
     "output_type": "stream",
     "text": [
      "showing number 31\n",
      "loss 0.12903887033462524, dsc 0.8709611296653748, inputs_len 1\n"
     ]
    },
    {
     "data": {
      "image/png": "[encoded data removed]",
      "text/plain": [
       "<Figure size 432x288 with 1 Axes>"
      ]
     },
     "metadata": {
      "needs_background": "light"
     },
     "output_type": "display_data"
    },
    {
     "data": {
      "application/vnd.jupyter.widget-view+json": {
       "model_id": "cc730afeeb654162999563bf9701d265",
       "version_major": 2,
       "version_minor": 0
      },
      "text/plain": [
       "VBox(children=(HBox(children=(IntSlider(value=49, max=71),)),))"
      ]
     },
     "metadata": {},
     "output_type": "display_data"
    },
    {
     "data": {
      "application/vnd.jupyter.widget-view+json": {
       "model_id": "d3c5e082484f46339bd63da452fcf541",
       "version_major": 2,
       "version_minor": 0
      },
      "text/plain": [
       "Output()"
      ]
     },
     "metadata": {},
     "output_type": "display_data"
    },
    {
     "name": "stdout",
     "output_type": "stream",
     "text": [
      "DEBUG shapes torch.Size([1, 72, 192, 168]) torch.Size([1, 72, 192, 168]) torch.Size([1, 1, 72, 192, 168])\n",
      "DEBUG prediction max 1.0, min 1.1273865538896644e-06\n",
      "DEBUG intersection 3227.75830078125\n",
      "DEBUG label sum 3871.0\n",
      "DEBUG prediction sum 3541.067138671875\n",
      "DEBUG intersection2 3227.75830078125\n",
      "DEBUG dsc 0.8709468245506287\n",
      "DEBUG MSE 0.00028399520670063794\n"
     ]
    },
    {
     "data": {
      "text/markdown": [
       "## Valid Eval"
      ],
      "text/plain": [
       "<IPython.core.display.Markdown object>"
      ]
     },
     "metadata": {},
     "output_type": "display_data"
    },
    {
     "name": "stdout",
     "output_type": "stream",
     "text": [
      "showing number 38\n",
      "loss 0.10496538877487183, dsc 0.8950346112251282, inputs_len 1\n"
     ]
    },
    {
     "data": {
      "image/png": "[encoded data removed]",
      "text/plain": [
       "<Figure size 432x288 with 1 Axes>"
      ]
     },
     "metadata": {
      "needs_background": "light"
     },
     "output_type": "display_data"
    },
    {
     "data": {
      "application/vnd.jupyter.widget-view+json": {
       "model_id": "fad5511558e345cdaf32b79f2b10ba32",
       "version_major": 2,
       "version_minor": 0
      },
      "text/plain": [
       "VBox(children=(HBox(children=(IntSlider(value=53, max=71),)),))"
      ]
     },
     "metadata": {},
     "output_type": "display_data"
    },
    {
     "data": {
      "application/vnd.jupyter.widget-view+json": {
       "model_id": "01ed2b0025bf4aaa85369433bbcf45ee",
       "version_major": 2,
       "version_minor": 0
      },
      "text/plain": [
       "Output()"
      ]
     },
     "metadata": {},
     "output_type": "display_data"
    },
    {
     "name": "stdout",
     "output_type": "stream",
     "text": [
      "DEBUG shapes torch.Size([1, 72, 192, 168]) torch.Size([1, 72, 192, 168]) torch.Size([1, 1, 72, 192, 168])\n",
      "DEBUG prediction max 1.0, min 2.373742745476193e-06\n",
      "DEBUG intersection 4208.845703125\n",
      "DEBUG label sum 4761.0\n",
      "DEBUG prediction sum 4643.89501953125\n",
      "DEBUG intersection2 4208.845703125\n",
      "DEBUG dsc 0.895033061504364\n",
      "DEBUG MSE 0.00029232396627776325\n"
     ]
    }
   ],
   "source": [
    "model, device, optimizer, criterion = itemgetter('model', 'device', 'optimizer', 'criterion')(cut_model_info)\n",
    "\n",
    "\n",
    "def eval_image_dataset(dataset, figfile=None, max_slices=MAX_PADDING_SLICES, default_slice=(MAX_PADDING_SLICES-1)//2):\n",
    "    with torch.no_grad():\n",
    "        model.eval()\n",
    "        torch.cuda.empty_cache()\n",
    "        print(f'showing number {dataset.indices[0]}')\n",
    "        inputs, labels = dataset[0]\n",
    "        inputs = torch.from_numpy(np.array([inputs])).to(device).float()\n",
    "        labels = torch.from_numpy(np.array([labels])).to(device).float()\n",
    "        prediction = model(inputs)\n",
    "\n",
    "        item_loss, item_dsc, inputs_len = loss_batch(model, optimizer, criterion, inputs, labels)\n",
    "        print(f'loss {item_loss}, dsc {item_dsc}, inputs_len {inputs_len}')\n",
    "\n",
    "        inputs = inputs.cpu()\n",
    "        labels = labels.cpu()\n",
    "        prediction_np = prediction.cpu().detach().numpy()\n",
    "\n",
    "        plt.hist(prediction_np[prediction_np > 0.01].flatten(), 20)\n",
    "        plt.title('Distribution of prediction values')\n",
    "        plt.show()\n",
    "\n",
    "        def f(slice_index):\n",
    "            plt.figure(figsize=(30, 16))\n",
    "            tmp_ax = plt.subplot(1, 3, 1)\n",
    "            tmp_ax.title.set_text('Input')\n",
    "            plt.imshow(inputs[0, 0, slice_index], cmap=\"gray\")\n",
    "\n",
    "            tmp_ax = plt.subplot(1, 3, 2)\n",
    "            tmp_ax.title.set_text('Label')\n",
    "            plt.imshow(labels[0, slice_index], cmap=\"gray\")\n",
    "\n",
    "            tmp_ax = plt.subplot(1, 3, 3)\n",
    "            tmp_ax.title.set_text('Prediction')\n",
    "            plt.imshow(prediction_np[0, 0, slice_index], cmap=\"gray\", vmin=0, vmax=1)\n",
    "            #     plt.subplot(2, 2, 4)\n",
    "            #     plt.imshow(prediction_np[0, 0, a], cmap=\"gray\")\n",
    "\n",
    "            if figfile is not None:\n",
    "                plt.savefig(figfile, dpi=96)\n",
    "            plt.show()\n",
    "\n",
    "\n",
    "        aSlider = widgets.IntSlider(min=0, max=max_slices-1, step=1, value=default_slice)\n",
    "        ui = widgets.VBox([widgets.HBox([aSlider])])\n",
    "        out = widgets.interactive_output(f, {'slice_index': aSlider })\n",
    "        display(ui, out)\n",
    "\n",
    "        print('DEBUG shapes', prediction[:, 0].shape, labels.shape, inputs.shape)\n",
    "        print(f'DEBUG prediction max {prediction.max().item()}, min {prediction.min().item()}')\n",
    "        print('DEBUG intersection', (labels.cpu() *  prediction.cpu()[:,0]).sum().item())\n",
    "        print('DEBUG label sum', labels.cpu().sum().item())\n",
    "        print('DEBUG prediction sum', prediction.cpu()[:,0].sum().item())\n",
    "\n",
    "        smooth = 1e-6\n",
    "        y_pred = prediction.cpu()[:,0].contiguous().view(-1)\n",
    "        y_true = labels.cpu()[:].contiguous().view(-1)\n",
    "        intersection = (y_pred * y_true).sum()\n",
    "        dsc = (2. * intersection + smooth) / (\n",
    "            y_pred.sum() + y_true.sum() + smooth\n",
    "        )\n",
    "\n",
    "        print('DEBUG intersection2', intersection.item())\n",
    "        print('DEBUG dsc', dsc.item())\n",
    "        print('DEBUG MSE', (labels.cpu() - prediction.cpu()[:,0]).pow(2).mean().item())\n",
    "\n",
    "\n",
    "# noinspection PyTypeChecker\n",
    "display(Markdown(\"## Train Eval\"))\n",
    "eval_image_dataset(cut_train_dataset, max_slices=cut_train_dataset.__getitem__(0)[1].shape[0], default_slice=49)\n",
    "# noinspection PyTypeChecker\n",
    "display(Markdown(\"## Valid Eval\"))\n",
    "eval_image_dataset(cut_valid_dataset, max_slices=cut_valid_dataset.__getitem__(0)[1].shape[0], default_slice=53)\n",
    "# display(Markdown(\"## Test Eval\"))\n",
    "# eval_image_dataset(test_dataset, 78, 'test_plot.png')"
   ]
  },
  {
   "cell_type": "code",
   "execution_count": 37,
   "metadata": {},
   "outputs": [
    {
     "data": {
      "text/plain": [
       "72"
      ]
     },
     "execution_count": 37,
     "metadata": {},
     "output_type": "execute_result"
    }
   ],
   "source": []
  },
  {
   "cell_type": "code",
   "execution_count": null,
   "metadata": {},
   "outputs": [],
   "source": []
  }
 ],
 "metadata": {
  "kernelspec": {
   "display_name": "Python 3",
   "language": "python",
   "name": "python3"
  },
  "language_info": {
   "codemirror_mode": {
    "name": "ipython",
    "version": 3
   },
   "file_extension": ".py",
   "mimetype": "text/x-python",
   "name": "python",
   "nbconvert_exporter": "python",
   "pygments_lexer": "ipython3",
   "version": "3.8.5"
  },
  "toc-autonumbering": true,
  "toc-showcode": false,
  "toc-showmarkdowntxt": false,
  "toc-showtags": false
 },
 "nbformat": 4,
 "nbformat_minor": 4
}

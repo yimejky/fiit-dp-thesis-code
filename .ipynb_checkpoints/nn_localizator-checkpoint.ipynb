{
 "cells": [
  {
   "cell_type": "code",
   "execution_count": 1,
   "metadata": {},
   "outputs": [
    {
     "name": "stdout",
     "output_type": "stream",
     "text": [
      "If you use TorchIO for your research, please cite the following paper:\n",
      "Pérez-García et al., TorchIO: a Python library for efficient loading,\n",
      "preprocessing, augmentation and patch-based sampling of medical images\n",
      "in deep learning. Credits instructions: https://torchio.readthedocs.io/#credits\n",
      "\n",
      "Dataset biggest bounding box wihtout spinal cord [56, 177, 156]\n",
      "Cut target size [72, 192, 168]\n",
      "Done Init\n"
     ]
    }
   ],
   "source": [
    "from src.consts import IN_COLAB, DATASET_MAX_BOUNDING_BOX, DESIRE_BOUNDING_BOX_SIZE\n",
    "\n",
    "if IN_COLAB:\n",
    "    print('Found Google Colab')\n",
    "    !pip3 install torch torchvision torchsummary\n",
    "    !pip3 install simpleitk\n",
    "\n",
    "    # noinspection PyUnresolvedReferences\n",
    "    from google.colab import drive\n",
    "    drive.mount('/content/drive')\n",
    "\n",
    "import matplotlib.pyplot as plt\n",
    "import torch\n",
    "import numpy as np\n",
    "import logging\n",
    "from torchio import RandomAffine, Compose, ZNormalization\n",
    "\n",
    "import src.dataset.oars_labels_consts as OARS_LABELS\n",
    "from src.helpers.threshold_calc_helpers import get_threshold_info_df\n",
    "from src.helpers.show_model_dataset_pred_preview import show_model_dataset_pred_preview\n",
    "from src.dataset.get_cut_lists import get_cut_lists\n",
    "from src.dataset.get_full_res_cut import get_full_res_cut\n",
    "from src.dataset.get_dataset import get_dataset\n",
    "from src.dataset.get_dataset_info import get_dataset_info\n",
    "from src.dataset.preview_dataset import preview_dataset\n",
    "from src.dataset.get_dataset_transform import get_dataset_transform\n",
    "from src.model_and_training.prepare_model import prepare_model\n",
    "from src.model_and_training.train_loop import train_loop\n",
    "from src.model_and_training.show_model_info import show_model_info\n",
    "from src.helpers.show_cuda_usage import show_cuda_usage\n",
    "from src.helpers.threshold_calc_helpers import get_rescaled_preds\n",
    "from src.dataset.split_dataset import split_dataset, copy_split_dataset\n",
    "from src.helpers.compare_prediction_with_ground_true import compare_prediction_with_ground_true\n",
    "from src.helpers.get_img_outliers_pixels import get_img_outliers_pixels\n",
    "\n",
    "from operator import itemgetter\n",
    "from IPython.display import display, Markdown\n",
    "from ipywidgets import widgets\n",
    "\n",
    "torch.manual_seed(20)\n",
    "logging.basicConfig(filename='nn_local.log', level=logging.DEBUG)\n",
    "\n",
    "\n",
    "TRAIN_LOW_MODEL=False\n",
    "TRAIN_CUT_MODEL=False\n",
    "\n",
    "print('Dataset biggest bounding box wihtout spinal cord', DATASET_MAX_BOUNDING_BOX)\n",
    "print('Cut target size', DESIRE_BOUNDING_BOX_SIZE)\n",
    "print('Done Init')"
   ]
  },
  {
   "cell_type": "markdown",
   "metadata": {},
   "source": [
    "# Low resolution NN"
   ]
  },
  {
   "cell_type": "markdown",
   "metadata": {},
   "source": [
    "## loading low res dataset"
   ]
  },
  {
   "cell_type": "code",
   "execution_count": 2,
   "metadata": {
    "pycharm": {
     "name": "#%%\n"
    }
   },
   "outputs": [
    {
     "name": "stdout",
     "output_type": "stream",
     "text": [
      "CUDA using 16x dataset\n",
      "filtering labels\n",
      "filtering labels done\n",
      "dilatating 1x dataset\n",
      "parsing dataset to numpy\n",
      "numpy parsing done\n",
      "data type: int16 int8\n",
      "low res dataset RAM sizes in GB 0.02288818359375\n",
      "train 40, valid_size 5, test 5, full 50\n",
      "train indices [0, 1, 2, 3, 4, 5, 7, 8, 9, 10, 11, 12, 14, 15, 17, 18, 20, 21, 22, 23, 24, 28, 30, 31, 32, 33, 34, 35, 36, 37, 40, 41, 42, 43, 44, 45, 46, 47, 48, 49]\n",
      "valid indices [6, 13, 19, 25, 38]\n",
      "test indices [16, 26, 27, 29, 39]\n"
     ]
    }
   ],
   "source": [
    "filter_labels = OARS_LABELS.OARS_LABELS_LIST\n",
    "if OARS_LABELS.SPINAL_CORD in filter_labels:\n",
    "    filter_labels.remove(OARS_LABELS.SPINAL_CORD)\n",
    "\n",
    "low_res_dataset = get_dataset(dataset_size=50, shrink_factor=16, filter_labels=filter_labels, unify_labels=True)\n",
    "low_res_dataset.dilatate_labels(repeat=1)\n",
    "low_res_dataset.to_numpy()\n",
    "low_res_dataset.show_data_type()\n",
    "print('low res dataset RAM sizes in GB', low_res_dataset.get_data_size() / 1024**3)\n",
    "\n",
    "low_res_split_dataset_obj = split_dataset(low_res_dataset, train_size=40, valid_size=5, test_size=5)\n",
    "get_dataset_info(low_res_dataset, low_res_split_dataset_obj)\n",
    "train_low_res_dataset, valid_low_res_dataset, test_low_res_dataset = itemgetter(\n",
    "    'train_dataset', 'valid_dataset', 'test_dataset')(low_res_split_dataset_obj)"
   ]
  },
  {
   "cell_type": "code",
   "execution_count": 3,
   "metadata": {
    "collapsed": false,
    "jupyter": {
     "outputs_hidden": false
    },
    "pycharm": {
     "name": "#%%\n"
    }
   },
   "outputs": [
    {
     "name": "stdout",
     "output_type": "stream",
     "text": [
      "data max 12.265969276428223, min -1.3702739477157593\n",
      "label max 1, min 0\n"
     ]
    },
    {
     "data": {
      "application/vnd.jupyter.widget-view+json": {
       "model_id": "1d32e507f1c6496f89d4f7b2ee57edbf",
       "version_major": 2,
       "version_minor": 0
      },
      "text/plain": [
       "VBox(children=(HBox(children=(IntSlider(value=79, max=159),)),))"
      ]
     },
     "metadata": {},
     "output_type": "display_data"
    },
    {
     "data": {
      "application/vnd.jupyter.widget-view+json": {
       "model_id": "7819da0f0e99438183205c5877356844",
       "version_major": 2,
       "version_minor": 0
      },
      "text/plain": [
       "Output()"
      ]
     },
     "metadata": {},
     "output_type": "display_data"
    }
   ],
   "source": [
    "preview_dataset(low_res_dataset, preview_index=0, show_hist=False)"
   ]
  },
  {
   "cell_type": "markdown",
   "metadata": {},
   "source": [
    "## training low res model"
   ]
  },
  {
   "cell_type": "code",
   "execution_count": 4,
   "metadata": {
    "scrolled": true
   },
   "outputs": [
    {
     "name": "stdout",
     "output_type": "stream",
     "text": [
      "Device running \"cuda\"\n",
      "max output channels 64\n",
      "Model number of params: 298881, trainable 298881\n"
     ]
    }
   ],
   "source": [
    "import datetime\n",
    "from src.model_and_training.load_checkpoint_model_info import load_checkpoint_model_info\n",
    "\n",
    "if TRAIN_LOW_MODEL:\n",
    "    # preparing model loop params\n",
    "    low_res_model_info = prepare_model(epochs=500, \n",
    "                                       learning_rate=3e-4,\n",
    "                                       in_channels=4,\n",
    "                                       dropout_rate=0.2,\n",
    "                                       train_batch_size=4,\n",
    "                                       train_dataset=train_low_res_dataset, valid_dataset=valid_low_res_dataset, test_dataset=test_low_res_dataset)\n",
    "    show_model_info(low_res_model_info)\n",
    "\n",
    "    # running training loop\n",
    "    train_loop(low_res_model_info)\n",
    "else:\n",
    "    epoch = 500\n",
    "    log_date = datetime.datetime(year=2020, month=10, day=27, hour=11, minute=45, second=30).strftime(\"%Y%m%d-%H%M%S\")\n",
    "    model_name = f'{log_date}_3d_unet'\n",
    "\n",
    "    loaded_model_info = load_checkpoint_model_info(model_name, epoch, train_low_res_dataset, valid_low_res_dataset, test_low_res_dataset)\n",
    "    show_model_info(loaded_model_info)\n",
    "\n",
    "    low_res_model_info = loaded_model_info\n",
    "\n",
    "# model export\n",
    "low_res_model = low_res_model_info['model']"
   ]
  },
  {
   "cell_type": "markdown",
   "metadata": {},
   "source": [
    "# Full resolution cutting"
   ]
  },
  {
   "cell_type": "markdown",
   "metadata": {},
   "source": [
    "## loading high/full res dataset"
   ]
  },
  {
   "cell_type": "code",
   "execution_count": 5,
   "metadata": {},
   "outputs": [
    {
     "name": "stdout",
     "output_type": "stream",
     "text": [
      "CUDA using 1x dataset\n",
      "filtering labels\n",
      "filtering labels done\n",
      "parsing dataset to numpy\n",
      "numpy parsing done\n",
      "data type: int16 int8\n",
      "data max 15.620500564575195, min -1.1599438190460205\n",
      "label max 22, min 0\n"
     ]
    },
    {
     "data": {
      "application/vnd.jupyter.widget-view+json": {
       "model_id": "6a4b56c1464f4a36b2930c8dd948a25c",
       "version_major": 2,
       "version_minor": 0
      },
      "text/plain": [
       "VBox(children=(HBox(children=(IntSlider(value=79, max=159),)),))"
      ]
     },
     "metadata": {},
     "output_type": "display_data"
    },
    {
     "data": {
      "application/vnd.jupyter.widget-view+json": {
       "model_id": "0eb225a1d7184c108b8c322b3a622cea",
       "version_major": 2,
       "version_minor": 0
      },
      "text/plain": [
       "Output()"
      ]
     },
     "metadata": {},
     "output_type": "display_data"
    },
    {
     "name": "stdout",
     "output_type": "stream",
     "text": [
      "dataset data and label shapes (1, 160, 32, 32) (1, 160, 512, 512)\n"
     ]
    }
   ],
   "source": [
    "full_res_dataset = get_dataset(dataset_size=50, shrink_factor=1, filter_labels=filter_labels, unify_labels=False)\n",
    "full_res_dataset.to_numpy()\n",
    "full_res_dataset.show_data_type()\n",
    "preview_dataset(full_res_dataset, preview_index=0, show_hist=False)\n",
    "\n",
    "print('dataset data and label shapes', low_res_dataset.data_list[0].shape, full_res_dataset.data_list[0].shape)"
   ]
  },
  {
   "cell_type": "markdown",
   "metadata": {},
   "source": [
    "## Testing low res network\n"
   ]
  },
  {
   "cell_type": "markdown",
   "metadata": {},
   "source": [
    "### getting bounding box cut in full res"
   ]
  },
  {
   "cell_type": "code",
   "execution_count": 6,
   "metadata": {},
   "outputs": [
    {
     "name": "stdout",
     "output_type": "stream",
     "text": [
      "train 40, valid_size 5, test 5, full 50\n",
      "train indices [0, 1, 2, 3, 4, 5, 7, 8, 9, 10, 11, 12, 14, 15, 17, 18, 20, 21, 22, 23, 24, 28, 30, 31, 32, 33, 34, 35, 36, 37, 40, 41, 42, 43, 44, 45, 46, 47, 48, 49]\n",
      "valid indices [6, 13, 19, 25, 38]\n",
      "test indices [16, 26, 27, 29, 39]\n"
     ]
    }
   ],
   "source": [
    "full_res_split_dataset_obj = copy_split_dataset(full_res_dataset, low_res_split_dataset_obj)\n",
    "get_dataset_info(full_res_dataset, full_res_split_dataset_obj)"
   ]
  },
  {
   "cell_type": "markdown",
   "metadata": {
    "pycharm": {
     "name": "#%% md\n"
    }
   },
   "source": [
    "### debuging cut algorithm"
   ]
  },
  {
   "cell_type": "code",
   "execution_count": 7,
   "metadata": {},
   "outputs": [
    {
     "name": "stdout",
     "output_type": "stream",
     "text": [
      "moved model to cpu\n",
      "CUDA Memory Usage\n",
      "GPU:        GeForce RTX 2070\n",
      "Allocated:  0.0 GB\n",
      "Cached:     0.0 GB\n",
      "Max memory: 0.0 GB\n",
      "Max Cached: 0.0 GB\n"
     ]
    }
   ],
   "source": [
    "# moving model to cpu and setting to eval mode, preventing model params changes/training\n",
    "low_res_model = low_res_model.to('cpu')\n",
    "#low_res_model.to(low_res_model_info['device'])\n",
    "low_res_model.eval()\n",
    "\n",
    "low_res_model_info['model'] = low_res_model\n",
    "torch.cuda.empty_cache()\n",
    "print('moved model to cpu')\n",
    "\n",
    "show_cuda_usage()"
   ]
  },
  {
   "cell_type": "code",
   "execution_count": 8,
   "metadata": {
    "pycharm": {
     "name": "#%%\n"
    }
   },
   "outputs": [
    {
     "name": "stdout",
     "output_type": "stream",
     "text": [
      "debug removing 39 outlier pixels from 1798\n",
      "debug box delta [16 48  8]\n",
      "debug, Does cut and original label contain the same amount of pixels? True 1648187 1648187\n",
      "debug bounding box sizes (56, 144, 160) (72, 192, 168)\n",
      "debug bounding boxes (58, 113, 176, 319, 176, 335) (50, 121, 152, 343, 172, 339)\n"
     ]
    },
    {
     "data": {
      "application/vnd.jupyter.widget-view+json": {
       "model_id": "ffcb5229e8aa4ed4bf15636c62d6762f",
       "version_major": 2,
       "version_minor": 0
      },
      "text/plain": [
       "VBox(children=(HBox(children=(IntSlider(value=79, max=159),)),))"
      ]
     },
     "metadata": {},
     "output_type": "display_data"
    },
    {
     "data": {
      "application/vnd.jupyter.widget-view+json": {
       "model_id": "559f8c31dd3d476fb046fdcd8ca15154",
       "version_major": 2,
       "version_minor": 0
      },
      "text/plain": [
       "Output()"
      ]
     },
     "metadata": {},
     "output_type": "display_data"
    },
    {
     "data": {
      "application/vnd.jupyter.widget-view+json": {
       "model_id": "3b015d1804504c60a5ddc155f6e2c245",
       "version_major": 2,
       "version_minor": 0
      },
      "text/plain": [
       "VBox(children=(HBox(children=(IntSlider(value=35, max=71),)),))"
      ]
     },
     "metadata": {},
     "output_type": "display_data"
    },
    {
     "data": {
      "application/vnd.jupyter.widget-view+json": {
       "model_id": "53f15d0faeaf4586b1984b48748a6d4f",
       "version_major": 2,
       "version_minor": 0
      },
      "text/plain": [
       "Output()"
      ]
     },
     "metadata": {},
     "output_type": "display_data"
    }
   ],
   "source": [
    "dataset_index = 32\n",
    "\n",
    "raw_low_data =  low_res_dataset.data_list[dataset_index]\n",
    "raw_low_label = low_res_dataset.label_list[dataset_index]\n",
    "raw_full_data = full_res_dataset.data_list[dataset_index]\n",
    "raw_full_label = full_res_dataset.label_list[dataset_index]\n",
    "\n",
    "tmp = get_full_res_cut(low_res_model=low_res_model, \n",
    "                       raw_low_res_data_img=raw_low_data,\n",
    "                       raw_low_res_label_img=raw_low_label,\n",
    "                       raw_full_res_data_img=raw_full_data, \n",
    "                       raw_full_res_label_img=raw_full_label,\n",
    "                       low_res_mask_threshold=0.5,\n",
    "                       desire_bounding_box_size=DESIRE_BOUNDING_BOX_SIZE, \n",
    "                       show_debug=True)"
   ]
  },
  {
   "cell_type": "markdown",
   "metadata": {
    "pycharm": {
     "name": "#%% md\n"
    }
   },
   "source": [
    "## Running cut algorithm, creating cut dataset"
   ]
  },
  {
   "cell_type": "code",
   "execution_count": 9,
   "metadata": {
    "pycharm": {
     "name": "#%%\n"
    },
    "scrolled": true
   },
   "outputs": [
    {
     "name": "stdout",
     "output_type": "stream",
     "text": [
      "getting cut index 0\n",
      "debug removing 10 outlier pixels from 1335\n",
      "debug box delta [21 48 24]\n",
      "debug, Does cut and original label contain the same amount of pixels? True 1223526 1223526\n",
      "getting cut index 1\n",
      "debug removing 0 outlier pixels from 1416\n",
      "debug box delta [24 16  8]\n",
      "debug, Does cut and original label contain the same amount of pixels? True 1326052 1326052\n",
      "getting cut index 2\n",
      "debug removing 0 outlier pixels from 1873\n",
      "debug box delta [ 20   0 -24]\n",
      "debug, Does cut and original label contain the same amount of pixels? True 1890464 1890464\n",
      "getting cut index 3\n",
      "debug removing 0 outlier pixels from 1545\n",
      "debug box delta [17 32  8]\n",
      "debug, Does cut and original label contain the same amount of pixels? True 1560217 1560217\n",
      "getting cut index 4\n",
      "debug removing 9 outlier pixels from 1510\n",
      "debug box delta [20 48 -8]\n",
      "debug, Does cut and original label contain the same amount of pixels? True 1451227 1451227\n",
      "getting cut index 5\n",
      "debug removing 0 outlier pixels from 1390\n",
      "debug box delta [22 32  8]\n",
      "debug, Does cut and original label contain the same amount of pixels? True 1262651 1262651\n",
      "getting cut index 6\n",
      "debug removing 0 outlier pixels from 1451\n",
      "debug box delta [19 16 -8]\n",
      "debug, Does cut and original label contain the same amount of pixels? True 1566938 1566938\n",
      "getting cut index 7\n",
      "debug removing 0 outlier pixels from 958\n",
      "debug box delta [29 48  8]\n",
      "debug, Does cut and original label contain the same amount of pixels? True 869847 869847\n",
      "getting cut index 8\n",
      "debug removing 0 outlier pixels from 1489\n",
      "debug box delta [19 32  8]\n",
      "debug, Does cut and original label contain the same amount of pixels? True 1397249 1397249\n",
      "getting cut index 9\n",
      "debug removing 0 outlier pixels from 1465\n",
      "debug box delta [21 16  8]\n",
      "debug, Does cut and original label contain the same amount of pixels? True 1350330 1350330\n",
      "getting cut index 10\n",
      "debug removing 0 outlier pixels from 1650\n",
      "debug box delta [20  0 -8]\n",
      "debug, Does cut and original label contain the same amount of pixels? True 1635868 1635868\n",
      "getting cut index 11\n",
      "debug removing 16 outlier pixels from 1371\n",
      "debug box delta [23 48 -8]\n",
      "debug, Does cut and original label contain the same amount of pixels? True 1283062 1283062\n",
      "getting cut index 12\n",
      "debug removing 0 outlier pixels from 1594\n",
      "debug box delta [21 32 -8]\n",
      "debug, Does cut and original label contain the same amount of pixels? True 1518406 1518406\n",
      "getting cut index 13\n",
      "debug removing 0 outlier pixels from 1482\n",
      "debug box delta [23 16  8]\n",
      "debug, Does cut and original label contain the same amount of pixels? True 1504194 1504194\n",
      "getting cut index 14\n",
      "debug removing 0 outlier pixels from 1191\n",
      "debug box delta [25 48  8]\n",
      "debug, Does cut and original label contain the same amount of pixels? True 1084254 1084254\n",
      "getting cut index 15\n",
      "debug removing 0 outlier pixels from 1267\n",
      "debug box delta [25 32  8]\n",
      "debug, Does cut and original label contain the same amount of pixels? True 1221257 1221257\n",
      "getting cut index 16\n",
      "debug removing 2 outlier pixels from 1009\n",
      "debug box delta [21 64 24]\n",
      "debug, Does cut and original label contain the same amount of pixels? True 945639 945639\n",
      "getting cut index 17\n",
      "debug removing 0 outlier pixels from 1498\n",
      "debug box delta [22 16 -8]\n",
      "debug, Does cut and original label contain the same amount of pixels? True 1469035 1469035\n",
      "getting cut index 18\n",
      "debug removing 7 outlier pixels from 1371\n",
      "debug box delta [22 48  8]\n",
      "debug, Does cut and original label contain the same amount of pixels? True 1322571 1322571\n",
      "getting cut index 19\n",
      "debug removing 0 outlier pixels from 1608\n",
      "debug box delta [17 16  8]\n",
      "debug, Does cut and original label contain the same amount of pixels? True 1593516 1593516\n",
      "getting cut index 20\n",
      "debug removing 0 outlier pixels from 1359\n",
      "debug box delta [25 32  8]\n",
      "debug, Does cut and original label contain the same amount of pixels? True 1390348 1390348\n",
      "getting cut index 21\n",
      "debug removing 0 outlier pixels from 1536\n",
      "debug box delta [ 22  16 -24]\n",
      "debug, Does cut and original label contain the same amount of pixels? True 1463017 1463017\n",
      "getting cut index 22\n",
      "debug removing 0 outlier pixels from 1231\n",
      "debug box delta [26 32 24]\n",
      "debug, Does cut and original label contain the same amount of pixels? True 1162215 1162215\n",
      "getting cut index 23\n",
      "debug removing 0 outlier pixels from 1154\n",
      "debug box delta [23 48  8]\n",
      "debug, Does cut and original label contain the same amount of pixels? True 1029805 1029805\n",
      "getting cut index 24\n",
      "debug removing 0 outlier pixels from 1669\n",
      "debug box delta [ 29 -16   8]\n",
      "debug, Does cut and original label contain the same amount of pixels? True 1689537 1689537\n",
      "getting cut index 25\n",
      "debug removing 0 outlier pixels from 1267\n",
      "debug box delta [23 48  8]\n",
      "debug, Does cut and original label contain the same amount of pixels? True 1141739 1141739\n",
      "getting cut index 26\n",
      "debug removing 9 outlier pixels from 1289\n",
      "debug box delta [18 48  8]\n",
      "debug, Does cut and original label contain the same amount of pixels? True 1167835 1167835\n",
      "getting cut index 27\n",
      "debug removing 15 outlier pixels from 1780\n",
      "debug box delta [23  0  8]\n",
      "debug, Does cut and original label contain the same amount of pixels? True 1783264 1783264\n",
      "getting cut index 28\n",
      "debug removing 25 outlier pixels from 1916\n",
      "debug box delta [ 22  16 -24]\n",
      "debug, Does cut and original label contain the same amount of pixels? True 1944758 1944758\n",
      "getting cut index 29\n",
      "debug removing 0 outlier pixels from 1369\n",
      "debug box delta [22 32  8]\n",
      "debug, Does cut and original label contain the same amount of pixels? True 1583396 1583396\n",
      "getting cut index 30\n",
      "debug removing 11 outlier pixels from 1390\n",
      "debug box delta [19 48  8]\n",
      "debug, Does cut and original label contain the same amount of pixels? True 1248609 1248609\n",
      "getting cut index 31\n",
      "debug removing 0 outlier pixels from 1087\n",
      "debug box delta [25 48 24]\n",
      "debug, Does cut and original label contain the same amount of pixels? True 947124 947124\n",
      "getting cut index 32\n",
      "debug removing 39 outlier pixels from 1798\n",
      "debug box delta [16 48  8]\n",
      "debug, Does cut and original label contain the same amount of pixels? True 1648187 1648187\n",
      "getting cut index 33\n",
      "debug removing 0 outlier pixels from 1327\n",
      "debug box delta [20 32  8]\n",
      "debug, Does cut and original label contain the same amount of pixels? True 1214697 1214697\n",
      "getting cut index 34\n",
      "debug removing 0 outlier pixels from 1528\n",
      "debug box delta [24 16 -8]\n",
      "debug, Does cut and original label contain the same amount of pixels? True 1445951 1445951\n",
      "getting cut index 35\n",
      "debug removing 0 outlier pixels from 1981\n",
      "debug box delta [ 14  32 -24]\n",
      "debug, Does cut and original label contain the same amount of pixels? True 1963068 1963068\n",
      "getting cut index 36\n",
      "debug removing 0 outlier pixels from 1403\n",
      "debug box delta [26 16  8]\n",
      "debug, Does cut and original label contain the same amount of pixels? True 1241941 1241941\n",
      "getting cut index 37\n",
      "debug removing 0 outlier pixels from 1417\n",
      "debug box delta [19 32 24]\n",
      "debug, Does cut and original label contain the same amount of pixels? True 1298886 1298886\n",
      "getting cut index 38\n",
      "debug removing 0 outlier pixels from 1567\n",
      "debug box delta [21 32  8]\n",
      "debug, Does cut and original label contain the same amount of pixels? True 1731533 1731533\n",
      "getting cut index 39\n",
      "debug removing 15 outlier pixels from 1286\n",
      "debug box delta [24 48  8]\n",
      "debug, Does cut and original label contain the same amount of pixels? True 1067335 1067335\n",
      "getting cut index 40\n",
      "debug removing 0 outlier pixels from 1328\n",
      "debug box delta [27 32  8]\n",
      "debug, Does cut and original label contain the same amount of pixels? True 1311715 1311715\n",
      "getting cut index 41\n",
      "debug removing 0 outlier pixels from 1559\n",
      "debug box delta [18 32  8]\n",
      "debug, Does cut and original label contain the same amount of pixels? True 1411792 1411792\n",
      "getting cut index 42\n",
      "debug removing 10 outlier pixels from 1102\n",
      "debug box delta [27 48 24]\n",
      "debug, Does cut and original label contain the same amount of pixels? True 951804 951804\n",
      "getting cut index 43\n",
      "debug removing 0 outlier pixels from 1143\n",
      "debug box delta [32 48 24]\n",
      "debug, Does cut and original label contain the same amount of pixels? True 1024831 1024831\n",
      "getting cut index 44\n",
      "debug removing 0 outlier pixels from 1734\n",
      "debug box delta [13 32  8]\n",
      "debug, Does cut and original label contain the same amount of pixels? True 1763923 1763923\n",
      "getting cut index 45\n",
      "debug removing 0 outlier pixels from 1156\n",
      "debug box delta [27 16 24]\n",
      "debug, Does cut and original label contain the same amount of pixels? True 1115633 1115633\n",
      "getting cut index 46\n",
      "debug removing 0 outlier pixels from 1657\n",
      "debug box delta [21 32  8]\n",
      "debug, Does cut and original label contain the same amount of pixels? True 1670156 1670156\n",
      "getting cut index 47\n",
      "debug removing 0 outlier pixels from 1436\n",
      "debug box delta [20 32  8]\n",
      "debug, Does cut and original label contain the same amount of pixels? True 1413179 1413179\n",
      "getting cut index 48\n",
      "debug removing 0 outlier pixels from 1002\n",
      "debug box delta [28 64 24]\n",
      "debug, Does cut and original label contain the same amount of pixels? True 781269 781269\n",
      "getting cut index 49\n",
      "debug removing 0 outlier pixels from 1705\n",
      "debug box delta [20 16  8]\n",
      "debug, Does cut and original label contain the same amount of pixels? True 1756965 1756965\n"
     ]
    }
   ],
   "source": [
    "cut_full_res_dataset = full_res_dataset.copy(copy_lists=False)\n",
    "cut_full_res_dataset = get_cut_lists(low_res_model, low_res_dataset, full_res_dataset, cut_full_res_dataset, low_res_mask_threshold=0.5)"
   ]
  },
  {
   "cell_type": "code",
   "execution_count": 10,
   "metadata": {},
   "outputs": [
    {
     "name": "stdout",
     "output_type": "stream",
     "text": [
      "<torchio.transforms.augmentation.composition.Compose object at 0x7fdc40214fa0>\n",
      "data max 7.112527847290039, min -1.0456511974334717\n",
      "label max 22, min 0\n"
     ]
    },
    {
     "data": {
      "application/vnd.jupyter.widget-view+json": {
       "model_id": "a50637e551e44483ad20dffa1a7e7d90",
       "version_major": 2,
       "version_minor": 0
      },
      "text/plain": [
       "VBox(children=(HBox(children=(IntSlider(value=35, max=71),)),))"
      ]
     },
     "metadata": {},
     "output_type": "display_data"
    },
    {
     "data": {
      "application/vnd.jupyter.widget-view+json": {
       "model_id": "f0edfbed242c4d1a8e87b7f7c7cfc631",
       "version_major": 2,
       "version_minor": 0
      },
      "text/plain": [
       "Output()"
      ]
     },
     "metadata": {},
     "output_type": "display_data"
    }
   ],
   "source": [
    "cut_full_res_dataset.set_output_label(None)\n",
    "print(cut_full_res_dataset.transform)\n",
    "preview_dataset(cut_full_res_dataset, preview_index=0, show_hist=False)"
   ]
  },
  {
   "cell_type": "markdown",
   "metadata": {
    "pycharm": {
     "name": "#%% md\n"
    }
   },
   "source": [
    "### reviewing full res and cut dataset"
   ]
  },
  {
   "cell_type": "code",
   "execution_count": 11,
   "metadata": {
    "pycharm": {
     "name": "#%%\n"
    }
   },
   "outputs": [
    {
     "name": "stdout",
     "output_type": "stream",
     "text": [
      "data type: int16 int8\n",
      "\n",
      "full res shape (1, 160, 512, 512) (1, 160, 512, 512)\n",
      "cut full res shape (1, 72, 192, 168) (1, 72, 192, 168)\n",
      "\n",
      "dataset RAM sizes in GB 5.859375 0.32444000244140625\n",
      "single item RAM in GB 0.0390625 0.078125\n",
      "\n",
      "data max 6.343076229095459, min -1.4126454591751099\n",
      "label max 22, min 0\n"
     ]
    },
    {
     "data": {
      "application/vnd.jupyter.widget-view+json": {
       "model_id": "43114416e9674b9caadf193029739659",
       "version_major": 2,
       "version_minor": 0
      },
      "text/plain": [
       "VBox(children=(HBox(children=(IntSlider(value=35, max=71),)),))"
      ]
     },
     "metadata": {},
     "output_type": "display_data"
    },
    {
     "data": {
      "application/vnd.jupyter.widget-view+json": {
       "model_id": "75b971b6f8ff43e58f73b21f8210fe9f",
       "version_major": 2,
       "version_minor": 0
      },
      "text/plain": [
       "Output()"
      ]
     },
     "metadata": {},
     "output_type": "display_data"
    }
   ],
   "source": [
    "cut_full_res_dataset.show_data_type()\n",
    "print()\n",
    "print('full res shape', full_res_dataset[0][0].shape, full_res_dataset[1][0].shape)\n",
    "print('cut full res shape', cut_full_res_dataset[0][0].shape, cut_full_res_dataset[1][0].shape)\n",
    "print()\n",
    "print('dataset RAM sizes in GB', full_res_dataset.get_data_size() / 1024**3, cut_full_res_dataset.get_data_size() / 1024**3)\n",
    "print('single item RAM in GB', full_res_dataset.label_list[0].nbytes / 1024**3, full_res_dataset.data_list[0].nbytes / 1024**3)\n",
    "print()\n",
    "preview_dataset(cut_full_res_dataset, preview_index=2)"
   ]
  },
  {
   "cell_type": "markdown",
   "metadata": {
    "pycharm": {
     "name": "#%% md\n"
    }
   },
   "source": [
    "# Full resolution cut model"
   ]
  },
  {
   "cell_type": "markdown",
   "metadata": {},
   "source": [
    "## Preparing cut dataset"
   ]
  },
  {
   "cell_type": "code",
   "execution_count": 12,
   "metadata": {
    "pycharm": {
     "name": "#%%\n"
    }
   },
   "outputs": [
    {
     "data": {
      "image/png": "[encoded data removed]",
      "text/plain": [
       "<Figure size 720x720 with 1 Axes>"
      ]
     },
     "metadata": {
      "needs_background": "light"
     },
     "output_type": "display_data"
    },
    {
     "name": "stdout",
     "output_type": "stream",
     "text": [
      "train 40, valid_size 5, test 5, full 50\n",
      "train indices [0, 1, 2, 3, 4, 5, 7, 8, 9, 10, 11, 12, 14, 15, 17, 18, 20, 21, 22, 23, 24, 28, 30, 31, 32, 33, 34, 35, 36, 37, 40, 41, 42, 43, 44, 45, 46, 47, 48, 49]\n",
      "valid indices [6, 13, 19, 25, 38]\n",
      "test indices [16, 26, 27, 29, 39]\n"
     ]
    }
   ],
   "source": [
    "cut_full_res_dataset.set_output_label([OARS_LABELS.EYE_L, OARS_LABELS.EYE_R, OARS_LABELS.LENS_L, OARS_LABELS.LENS_R])\n",
    "plt.figure(figsize=(10, 10))\n",
    "plt.imshow(cut_full_res_dataset.__getitem__(0)[1][47])\n",
    "plt.show()\n",
    "\n",
    "cut_split_dataset_obj = copy_split_dataset(cut_full_res_dataset, low_res_split_dataset_obj)\n",
    "get_dataset_info(cut_full_res_dataset, cut_split_dataset_obj)\n",
    "\n",
    "cut_train_dataset, cut_valid_dataset, cut_test_dataset = itemgetter(\n",
    "    'train_dataset', 'valid_dataset', 'test_dataset')(cut_split_dataset_obj)"
   ]
  },
  {
   "cell_type": "markdown",
   "metadata": {},
   "source": [
    "## Training Cut Model"
   ]
  },
  {
   "cell_type": "code",
   "execution_count": 13,
   "metadata": {},
   "outputs": [
    {
     "name": "stdout",
     "output_type": "stream",
     "text": [
      "Device running \"cuda\"\n",
      "max output channels 128\n",
      "Model number of params: 1193537, trainable 1193537\n"
     ]
    }
   ],
   "source": [
    "import datetime\n",
    "from src.model_and_training.load_checkpoint_model_info import load_checkpoint_model_info\n",
    "\n",
    "if TRAIN_CUT_MODEL:\n",
    "    cut_model_info = prepare_model(epochs=100,\n",
    "                                   learning_rate=3e-4,\n",
    "                                   in_channels=8,\n",
    "                                   dropout_rate=0.2,\n",
    "                                   train_batch_size=2,\n",
    "                                   train_dataset=cut_train_dataset, valid_dataset=cut_valid_dataset, test_dataset=cut_test_dataset)\n",
    "    show_model_info(cut_model_info)\n",
    "\n",
    "    train_loop(cut_model_info)\n",
    "else:\n",
    "    epoch = 100\n",
    "    log_date = datetime.datetime(year=2020, month=10, day=27, hour=14, minute=14, second=51).strftime(\"%Y%m%d-%H%M%S\")\n",
    "    model_name = f'{log_date}_3d_unet'\n",
    "\n",
    "    loaded_model_info = load_checkpoint_model_info(model_name, epoch, cut_train_dataset, cut_valid_dataset, cut_test_dataset)\n",
    "    show_model_info(loaded_model_info)\n",
    "    \n",
    "    # model export\n",
    "    cut_model_info = loaded_model_info\n",
    "    \n",
    "cut_model = cut_model_info['model']"
   ]
  },
  {
   "cell_type": "markdown",
   "metadata": {
    "pycharm": {
     "name": "#%% md\n"
    }
   },
   "source": [
    "160x128x128 = 2_621_440 \\\n",
    "72x198x168 = 2_395_008"
   ]
  },
  {
   "cell_type": "markdown",
   "metadata": {},
   "source": [
    "## Cut Model evaluation"
   ]
  },
  {
   "cell_type": "code",
   "execution_count": 14,
   "metadata": {},
   "outputs": [
    {
     "name": "stdout",
     "output_type": "stream",
     "text": [
      "moved model to cpu\n",
      "CUDA Memory Usage\n",
      "GPU:        GeForce RTX 2070\n",
      "Allocated:  0.0 GB\n",
      "Cached:     0.0 GB\n",
      "Max memory: 0.0 GB\n",
      "Max Cached: 0.0 GB\n"
     ]
    }
   ],
   "source": [
    "# moving model to cpu and setting to eval mode, preventing model params changes/training\n",
    "cut_model = cut_model.to(cut_model_info['device'])\n",
    "#low_res_model.to(low_res_model_info['device'])\n",
    "cut_model.eval()\n",
    "\n",
    "cut_model_info['model'] = cut_model\n",
    "torch.cuda.empty_cache()\n",
    "print('moved model to cpu')\n",
    "\n",
    "show_cuda_usage()"
   ]
  },
  {
   "cell_type": "code",
   "execution_count": 20,
   "metadata": {
    "pycharm": {
     "name": "#%%\n"
    }
   },
   "outputs": [
    {
     "data": {
      "text/markdown": [
       "### Train Eval"
      ],
      "text/plain": [
       "<IPython.core.display.Markdown object>"
      ]
     },
     "metadata": {},
     "output_type": "display_data"
    },
    {
     "name": "stdout",
     "output_type": "stream",
     "text": [
      "showing number 31\n",
      "loss 0.15285611152648926, dsc 0.8471438884735107, inputs_len 1\n"
     ]
    },
    {
     "data": {
      "image/png": "[encoded data removed]",
      "text/plain": [
       "<Figure size 432x288 with 1 Axes>"
      ]
     },
     "metadata": {
      "needs_background": "light"
     },
     "output_type": "display_data"
    },
    {
     "data": {
      "application/vnd.jupyter.widget-view+json": {
       "model_id": "f5f35b07d9f94f979ddc7884a82fcd45",
       "version_major": 2,
       "version_minor": 0
      },
      "text/plain": [
       "VBox(children=(HBox(children=(IntSlider(value=49, max=71),)),))"
      ]
     },
     "metadata": {},
     "output_type": "display_data"
    },
    {
     "data": {
      "application/vnd.jupyter.widget-view+json": {
       "model_id": "ef237805219b4afab57f38ec038f700c",
       "version_major": 2,
       "version_minor": 0
      },
      "text/plain": [
       "Output()"
      ]
     },
     "metadata": {},
     "output_type": "display_data"
    },
    {
     "name": "stdout",
     "output_type": "stream",
     "text": [
      "DEBUG shapes torch.Size([1, 72, 192, 168]) torch.Size([1, 72, 192, 168]) torch.Size([1, 1, 72, 192, 168])\n",
      "DEBUG prediction max 1.0, min 8.25399092718726e-06\n",
      "DEBUG intersection 4280.10302734375\n",
      "DEBUG label sum 5486.0\n",
      "DEBUG prediction sum 4618.83203125\n",
      "DEBUG intersection2 4280.10302734375\n",
      "DEBUG dsc 0.8471398949623108\n",
      "DEBUG MSE 0.0005345901008695364\n"
     ]
    },
    {
     "data": {
      "text/markdown": [
       "### Valid Eval"
      ],
      "text/plain": [
       "<IPython.core.display.Markdown object>"
      ]
     },
     "metadata": {},
     "output_type": "display_data"
    },
    {
     "name": "stdout",
     "output_type": "stream",
     "text": [
      "showing number 0\n",
      "loss 0.11205476522445679, dsc 0.8879452347755432, inputs_len 1\n"
     ]
    },
    {
     "data": {
      "image/png": "[encoded data removed]",
      "text/plain": [
       "<Figure size 432x288 with 1 Axes>"
      ]
     },
     "metadata": {
      "needs_background": "light"
     },
     "output_type": "display_data"
    },
    {
     "data": {
      "application/vnd.jupyter.widget-view+json": {
       "model_id": "af3ec83ad3004f4d8cf671b71cdc4963",
       "version_major": 2,
       "version_minor": 0
      },
      "text/plain": [
       "VBox(children=(HBox(children=(IntSlider(value=53, max=71),)),))"
      ]
     },
     "metadata": {},
     "output_type": "display_data"
    },
    {
     "data": {
      "application/vnd.jupyter.widget-view+json": {
       "model_id": "793e45cd690c4723a4fa373a1a255e66",
       "version_major": 2,
       "version_minor": 0
      },
      "text/plain": [
       "Output()"
      ]
     },
     "metadata": {},
     "output_type": "display_data"
    },
    {
     "name": "stdout",
     "output_type": "stream",
     "text": [
      "DEBUG shapes torch.Size([1, 72, 192, 168]) torch.Size([1, 72, 192, 168]) torch.Size([1, 1, 72, 192, 168])\n",
      "DEBUG prediction max 1.0, min 3.637258487287909e-06\n",
      "DEBUG intersection 4357.2919921875\n",
      "DEBUG label sum 4754.0\n",
      "DEBUG prediction sum 5060.2890625\n",
      "DEBUG intersection2 4357.2919921875\n",
      "DEBUG dsc 0.8879485726356506\n",
      "DEBUG MSE 0.0003540360485203564\n"
     ]
    }
   ],
   "source": [
    "max_slices = cut_train_dataset[0][1].shape[0]\n",
    "\n",
    "display(Markdown(\"### Train Eval\"))\n",
    "show_model_dataset_pred_preview(cut_model_info, cut_train_dataset, max_slices=max_slices, default_slice=49)\n",
    "\n",
    "display(Markdown(\"### Valid Eval\"))\n",
    "show_model_dataset_pred_preview(cut_model_info, cut_valid_dataset, dataset_index=0, max_slices=max_slices, default_slice=53)\n",
    "\n",
    "# display(Markdown(\"### Test Eval\"))\n",
    "# eval_image_dataset(test_dataset, 78, 'test_plot.png')"
   ]
  },
  {
   "cell_type": "markdown",
   "metadata": {},
   "source": [
    "### Showing label prediction comparision"
   ]
  },
  {
   "cell_type": "code",
   "execution_count": 16,
   "metadata": {},
   "outputs": [],
   "source": [
    "preds, rescaled_preds = get_rescaled_preds(cut_model, cut_full_res_dataset, cut_model_info[\"device\"])"
   ]
  },
  {
   "cell_type": "code",
   "execution_count": 18,
   "metadata": {},
   "outputs": [
    {
     "name": "stdout",
     "output_type": "stream",
     "text": [
      "Train index 31\n",
      "raw prediction: min 0.0, max 1.0, dsc 0.9039333462715149\n",
      "threshold prediction: min 0, max 1, dsc 0.9248927235603333\n"
     ]
    },
    {
     "data": {
      "application/vnd.jupyter.widget-view+json": {
       "model_id": "fa62a2007d3d4a658f301930722b09dc",
       "version_major": 2,
       "version_minor": 0
      },
      "text/plain": [
       "VBox(children=(HBox(children=(IntSlider(value=44, max=71),)),))"
      ]
     },
     "metadata": {},
     "output_type": "display_data"
    },
    {
     "data": {
      "application/vnd.jupyter.widget-view+json": {
       "model_id": "8a7ddb7789b34cf485b4bfb19003bd98",
       "version_major": 2,
       "version_minor": 0
      },
      "text/plain": [
       "Output()"
      ]
     },
     "metadata": {},
     "output_type": "display_data"
    },
    {
     "name": "stdout",
     "output_type": "stream",
     "text": [
      "Valid index 38\n",
      "raw prediction: min 0.0, max 1.0, dsc 0.897625207901001\n",
      "threshold prediction: min 0, max 1, dsc 0.9111812114715576\n"
     ]
    },
    {
     "data": {
      "application/vnd.jupyter.widget-view+json": {
       "model_id": "198f653a199d4023ade81ec10c633250",
       "version_major": 2,
       "version_minor": 0
      },
      "text/plain": [
       "VBox(children=(HBox(children=(IntSlider(value=41, max=71),)),))"
      ]
     },
     "metadata": {},
     "output_type": "display_data"
    },
    {
     "data": {
      "application/vnd.jupyter.widget-view+json": {
       "model_id": "9bdfb4b9046f45cbb9c2762ee5303c88",
       "version_major": 2,
       "version_minor": 0
      },
      "text/plain": [
       "Output()"
      ]
     },
     "metadata": {},
     "output_type": "display_data"
    }
   ],
   "source": [
    "rnd_train_idx = low_res_split_dataset_obj['train_dataset'].indices[0]\n",
    "rnd_valid_idx = low_res_split_dataset_obj['valid_dataset'].indices[0]\n",
    "\n",
    "print(f'Train index {rnd_train_idx}')\n",
    "compare_prediction_with_ground_true(cut_full_res_dataset, rescaled_preds, pred_threshold=0.5, dataset_index=rnd_train_idx, default_slice=44)\n",
    "print(f'Valid index {rnd_valid_idx}')\n",
    "compare_prediction_with_ground_true(cut_full_res_dataset, rescaled_preds, pred_threshold=0.5, dataset_index=rnd_valid_idx, default_slice=41)"
   ]
  },
  {
   "cell_type": "code",
   "execution_count": null,
   "metadata": {},
   "outputs": [],
   "source": []
  },
  {
   "cell_type": "code",
   "execution_count": null,
   "metadata": {},
   "outputs": [],
   "source": []
  },
  {
   "cell_type": "code",
   "execution_count": null,
   "metadata": {},
   "outputs": [],
   "source": []
  },
  {
   "cell_type": "code",
   "execution_count": null,
   "metadata": {},
   "outputs": [],
   "source": []
  },
  {
   "cell_type": "code",
   "execution_count": null,
   "metadata": {},
   "outputs": [],
   "source": []
  },
  {
   "cell_type": "code",
   "execution_count": null,
   "metadata": {},
   "outputs": [],
   "source": []
  },
  {
   "cell_type": "code",
   "execution_count": null,
   "metadata": {},
   "outputs": [],
   "source": []
  }
 ],
 "metadata": {
  "kernelspec": {
   "display_name": "Python 3",
   "language": "python",
   "name": "python3"
  },
  "language_info": {
   "codemirror_mode": {
    "name": "ipython",
    "version": 3
   },
   "file_extension": ".py",
   "mimetype": "text/x-python",
   "name": "python",
   "nbconvert_exporter": "python",
   "pygments_lexer": "ipython3",
   "version": "3.8.5"
  },
  "toc-autonumbering": true,
  "toc-showcode": false,
  "toc-showmarkdowntxt": false,
  "toc-showtags": false
 },
 "nbformat": 4,
 "nbformat_minor": 4
}

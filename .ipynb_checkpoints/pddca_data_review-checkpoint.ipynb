{
 "cells": [
  {
   "cell_type": "code",
   "execution_count": 1,
   "metadata": {},
   "outputs": [
    {
     "name": "stdout",
     "output_type": "stream",
     "text": [
      "If you use TorchIO for your research, please cite the following paper:\n",
      "Pérez-García et al., TorchIO: a Python library for efficient loading,\n",
      "preprocessing, augmentation and patch-based sampling of medical images\n",
      "in deep learning. Credits instructions: https://torchio.readthedocs.io/#credits\n",
      "\n",
      "Dataset biggest bounding box wihtout spinal cord [56, 177, 156]\n",
      "Cut target size [72, 192, 168]\n",
      "Done Init\n"
     ]
    }
   ],
   "source": [
    "IN_COLAB = 'google.colab' in str(get_ipython())\n",
    "if IN_COLAB:\n",
    "    from google.colab import drive\n",
    "    drive.mount('/content/drive')\n",
    "    import sys\n",
    "    sys.path.append('/content/drive/My Drive/dp_tomastik/code')\n",
    "    !bash \"/content/drive/My Drive/dp_tomastik/code/scripts/install_libs.sh\"\n",
    "\n",
    "import matplotlib.pyplot as plt\n",
    "import torch\n",
    "import os\n",
    "import numpy as np\n",
    "import pandas as pd\n",
    "import logging\n",
    "import datetime\n",
    "from torchio import RandomAffine, Compose, ZNormalization\n",
    "\n",
    "import src.dataset.oars_labels_consts as OARS_LABELS\n",
    "from src.consts import DATASET_MAX_BOUNDING_BOX, DESIRE_BOUNDING_BOX_SIZE\n",
    "from src.helpers.threshold_calc_helpers import get_threshold_info_df\n",
    "from src.helpers.show_model_dataset_pred_preview import show_model_dataset_pred_preview\n",
    "from src.dataset.get_cut_lists import get_cut_lists\n",
    "from src.dataset.get_full_res_cut import get_full_res_cut\n",
    "from src.dataset.get_dataset import get_dataset\n",
    "from src.dataset.get_dataset_info import get_dataset_info\n",
    "from src.dataset.preview_dataset import preview_dataset\n",
    "from src.dataset.get_dataset_transform import get_dataset_transform\n",
    "from src.model_and_training.prepare_model import prepare_model\n",
    "from src.model_and_training.train_loop import train_loop\n",
    "from src.model_and_training.show_model_info import show_model_info\n",
    "from src.model_and_training.load_checkpoint_model_info import load_checkpoint_model_info\n",
    "from src.helpers.show_cuda_usage import show_cuda_usage\n",
    "from src.helpers.get_rescaled_pred import get_rescaled_preds\n",
    "from src.dataset.split_dataset import split_dataset, copy_split_dataset\n",
    "from src.helpers.compare_prediction_with_ground_true import compare_prediction_with_ground_true, compare_one_prediction_with_ground_true\n",
    "from src.helpers.get_img_outliers_pixels import get_img_outliers_pixels\n",
    "from src.helpers.get_raw_with_prediction import get_raw_with_prediction\n",
    "from src.model_and_training.getters.get_device import get_device\n",
    "\n",
    "\n",
    "from operator import itemgetter\n",
    "from IPython.display import display, Markdown\n",
    "from ipywidgets import widgets\n",
    "\n",
    "torch.manual_seed(20)\n",
    "logging.basicConfig(filename='logs/pdd_data_check.log', level=logging.DEBUG)\n",
    "\n",
    "print('Dataset biggest bounding box wihtout spinal cord', DATASET_MAX_BOUNDING_BOX)\n",
    "print('Cut target size', DESIRE_BOUNDING_BOX_SIZE)\n",
    "print('Done Init')"
   ]
  },
  {
   "cell_type": "markdown",
   "metadata": {},
   "source": [
    "# PDDCA vs StructSeg2019"
   ]
  },
  {
   "cell_type": "code",
   "execution_count": 12,
   "metadata": {},
   "outputs": [
    {
     "name": "stdout",
     "output_type": "stream",
     "text": [
      "pddca (159, 512, 512) (159, 512, 512)\n",
      "pddca (132, 512, 512) (132, 512, 512)\n",
      "pddca (146, 512, 512) (146, 512, 512)\n",
      "pddca (151, 512, 512) (151, 512, 512)\n",
      "pddca (115, 512, 512) (115, 512, 512)\n",
      "pddca (360, 512, 512) (360, 512, 512)\n",
      "pddca (181, 512, 512) (181, 512, 512)\n",
      "pddca (130, 512, 512) (130, 512, 512)\n",
      "pddca (76, 512, 512) (76, 512, 512)\n",
      "pddca (135, 512, 512) (135, 512, 512)\n",
      "pddca (126, 512, 512) (126, 512, 512)\n",
      "pddca (194, 512, 512) (194, 512, 512)\n",
      "pddca (151, 512, 512) (151, 512, 512)\n",
      "pddca (160, 512, 512) (160, 512, 512)\n",
      "pddca (139, 512, 512) (139, 512, 512)\n",
      "pddca (181, 512, 512) (181, 512, 512)\n",
      "pddca (165, 512, 512) (165, 512, 512)\n",
      "pddca (131, 512, 512) (131, 512, 512)\n",
      "pddca (263, 512, 512) (263, 512, 512)\n",
      "pddca (134, 512, 512) (134, 512, 512)\n",
      "pddca (137, 512, 512) (137, 512, 512)\n",
      "pddca (272, 512, 512) (272, 512, 512)\n",
      "pddca (156, 512, 512) (156, 512, 512)\n",
      "pddca (130, 512, 512) (130, 512, 512)\n",
      "pddca (162, 512, 512) (162, 512, 512)\n",
      "pddca (204, 512, 512) (204, 512, 512)\n",
      "pddca (131, 512, 512) (131, 512, 512)\n",
      "pddca (167, 512, 512) (167, 512, 512)\n",
      "pddca (130, 512, 512) (130, 512, 512)\n",
      "pddca (160, 512, 512) (160, 512, 512)\n",
      "pddca (145, 512, 512) (145, 512, 512)\n",
      "pddca (119, 512, 512) (119, 512, 512)\n",
      "pddca (125, 512, 512) (125, 512, 512)\n",
      "pddca (170, 512, 512) (170, 512, 512)\n",
      "pddca (129, 512, 512) (129, 512, 512)\n",
      "pddca (124, 512, 512) (124, 512, 512)\n",
      "pddca (128, 512, 512) (128, 512, 512)\n",
      "pddca (144, 512, 512) (144, 512, 512)\n",
      "pddca (124, 512, 512) (124, 512, 512)\n",
      "pddca (138, 512, 512) (138, 512, 512)\n",
      "pddca (159, 512, 512) (159, 512, 512)\n",
      "pddca (176, 512, 512) (176, 512, 512)\n",
      "pddca (136, 512, 512) (136, 512, 512)\n",
      "pddca (109, 512, 512) (109, 512, 512)\n",
      "pddca (150, 512, 512) (150, 512, 512)\n",
      "pddca (107, 512, 512) (107, 512, 512)\n",
      "pddca (176, 512, 512) (176, 512, 512)\n",
      "pddca (130, 512, 512) (130, 512, 512)\n",
      "(112, 512, 512) (112, 512, 512)\n",
      "(109, 512, 512) (109, 512, 512)\n",
      "(123, 512, 512) (123, 512, 512)\n",
      "(152, 512, 512) (152, 512, 512)\n",
      "(132, 512, 512) (132, 512, 512)\n",
      "(130, 512, 512) (130, 512, 512)\n",
      "(113, 512, 512) (113, 512, 512)\n",
      "(132, 512, 512) (132, 512, 512)\n",
      "(100, 512, 512) (100, 512, 512)\n",
      "(110, 512, 512) (110, 512, 512)\n",
      "(141, 512, 512) (141, 512, 512)\n",
      "(109, 512, 512) (109, 512, 512)\n",
      "(111, 512, 512) (111, 512, 512)\n",
      "(114, 512, 512) (114, 512, 512)\n",
      "(129, 512, 512) (129, 512, 512)\n",
      "(131, 512, 512) (131, 512, 512)\n",
      "(130, 512, 512) (130, 512, 512)\n",
      "(117, 512, 512) (117, 512, 512)\n",
      "(118, 512, 512) (118, 512, 512)\n",
      "(146, 512, 512) (146, 512, 512)\n",
      "(127, 512, 512) (127, 512, 512)\n",
      "(144, 512, 512) (144, 512, 512)\n",
      "(122, 512, 512) (122, 512, 512)\n",
      "(140, 512, 512) (140, 512, 512)\n",
      "(126, 512, 512) (126, 512, 512)\n",
      "(103, 512, 512) (103, 512, 512)\n",
      "(136, 512, 512) (136, 512, 512)\n",
      "(127, 512, 512) (127, 512, 512)\n",
      "(139, 512, 512) (139, 512, 512)\n",
      "(108, 512, 512) (108, 512, 512)\n",
      "(137, 512, 512) (137, 512, 512)\n",
      "(114, 512, 512) (114, 512, 512)\n",
      "(124, 512, 512) (124, 512, 512)\n",
      "(115, 512, 512) (115, 512, 512)\n",
      "(104, 512, 512) (104, 512, 512)\n",
      "(134, 512, 512) (134, 512, 512)\n",
      "(130, 512, 512) (130, 512, 512)\n",
      "(142, 512, 512) (142, 512, 512)\n",
      "(124, 512, 512) (124, 512, 512)\n",
      "(131, 512, 512) (131, 512, 512)\n",
      "(116, 512, 512) (116, 512, 512)\n",
      "(126, 512, 512) (126, 512, 512)\n",
      "(112, 512, 512) (112, 512, 512)\n",
      "(105, 512, 512) (105, 512, 512)\n",
      "(119, 512, 512) (119, 512, 512)\n",
      "(105, 512, 512) (105, 512, 512)\n",
      "(109, 512, 512) (109, 512, 512)\n",
      "(123, 512, 512) (123, 512, 512)\n",
      "(124, 512, 512) (124, 512, 512)\n",
      "(126, 512, 512) (126, 512, 512)\n"
     ]
    }
   ],
   "source": [
    "from pathlib import Path\n",
    "import SimpleITK as sitk\n",
    "import nrrd\n",
    "import os\n",
    "\n",
    "\n",
    "# PDDCA\n",
    "d =\"./data/PDDCA-1.4.1\"\n",
    "pddca_items = [o for o in os.listdir(d) if os.path.isdir(os.path.join(d,o))]\n",
    "\n",
    "for item_id in pddca_items:\n",
    "    data_filepath = Path.joinpath(Path(d), f'./{item_id}/img.nrrd')\n",
    "    label_filepath = Path.joinpath(Path(d), f'./{item_id}/structures/BrainStem.nrrd')\n",
    "\n",
    "    pddca_data, header = nrrd.read(data_filepath)\n",
    "    pddca_label, header = nrrd.read(label_filepath)\n",
    "\n",
    "    pddca_data = np.transpose(pddca_data, axes=[2, 0, 1]).swapaxes(-2,-1)[...,::-1]\n",
    "    pddca_label = np.transpose(pddca_label, axes=[2, 0, 1]).swapaxes(-2,-1)[...,::-1]\n",
    "    print(\"pddca\", pddca_data.shape, pddca_label.shape)\n",
    "\n",
    "# STRUCTSEG2019\n",
    "d =\"./data/HaN_OAR\"\n",
    "struct_items = [o for o in os.listdir(d) if os.path.isdir(os.path.join(d,o))]\n",
    "\n",
    "for item_id in struct_items:\n",
    "    data_filepath = Path.joinpath(Path(d), f'./{item_id}/data.nii.gz')\n",
    "    label_filepath = Path.joinpath(Path(d), f'./{item_id}/label.nii.gz')\n",
    "\n",
    "    struct_data = sitk.ReadImage(str(data_filepath))\n",
    "    struct_data = sitk.GetArrayFromImage(struct_data)\n",
    "\n",
    "    struct_label = sitk.ReadImage(str(label_filepath))\n",
    "    struct_label = sitk.GetArrayFromImage(struct_label)\n",
    "    print(\"struct2019\", struct_data.shape, struct_label.shape)"
   ]
  },
  {
   "cell_type": "code",
   "execution_count": 13,
   "metadata": {},
   "outputs": [
    {
     "data": {
      "application/vnd.jupyter.widget-view+json": {
       "model_id": "83115c37645c4aa4872aaaea0bd1d32d",
       "version_major": 2,
       "version_minor": 0
      },
      "text/plain": [
       "VBox(children=(HBox(children=(IntSlider(value=62, max=125),)),))"
      ]
     },
     "metadata": {},
     "output_type": "display_data"
    },
    {
     "data": {
      "application/vnd.jupyter.widget-view+json": {
       "model_id": "936ac243ac4e4b4db81c70d8f95a450b",
       "version_major": 2,
       "version_minor": 0
      },
      "text/plain": [
       "Output()"
      ]
     },
     "metadata": {},
     "output_type": "display_data"
    }
   ],
   "source": [
    "max_slices = struct_data.shape[0]\n",
    "def f(slice_index):\n",
    "    plt.figure(figsize=(20, 20))\n",
    "    plt.subplot(2, 2, 1)\n",
    "    plt.imshow(struct_data[slice_index], cmap=\"gray\")\n",
    "    plt.subplot(2, 2, 2)\n",
    "    plt.imshow(struct_label[slice_index], cmap=\"gray\")\n",
    "    plt.subplot(2, 2, 3)\n",
    "    plt.imshow(pddca_data[slice_index], cmap=\"gray\")\n",
    "    plt.subplot(2, 2, 4)\n",
    "    plt.imshow(pddca_label[slice_index], cmap=\"gray\")\n",
    "    plt.show()\n",
    "\n",
    "sliceSlider = widgets.IntSlider(min=0, max=max_slices - 1, step=1, value=(max_slices - 1) / 2)\n",
    "ui = widgets.VBox([widgets.HBox([sliceSlider])])\n",
    "out = widgets.interactive_output(f, {'slice_index': sliceSlider})\n",
    "# noinspection PyTypeChecker\n",
    "display(ui, out)"
   ]
  },
  {
   "cell_type": "markdown",
   "metadata": {},
   "source": [
    "# Atlas loading"
   ]
  },
  {
   "cell_type": "code",
   "execution_count": 43,
   "metadata": {},
   "outputs": [
    {
     "data": {
      "text/plain": [
       "((136, 120, 219), (136, 120, 219), (136, 120, 219), (136, 120, 219))"
      ]
     },
     "execution_count": 43,
     "metadata": {},
     "output_type": "execute_result"
    }
   ],
   "source": [
    "atlas_ri = sitk.GetArrayFromImage(sitk.ReadImage('./data/PDDCA-1.2-atlas/probabilistic_atlas/RI.mhd'))\n",
    "atlas_brainstem_map = sitk.GetArrayFromImage(sitk.ReadImage('./data/PDDCA-1.2-atlas/probabilistic_atlas/brain_stem_map.mhd'))\n",
    "atlas_left_parotid_map = sitk.GetArrayFromImage(sitk.ReadImage('./data/PDDCA-1.2-atlas/probabilistic_atlas/left_parotid_map.mhd'))\n",
    "atlas_right_parotid_map = sitk.GetArrayFromImage(sitk.ReadImage('./data/PDDCA-1.2-atlas/probabilistic_atlas/right_parotid_map.mhd'))\n",
    "\n",
    "atlas.shape, atlas_brainstem_map.shape, atlas_left_parotid_map.shape, atlas_right_parotid_map.shape"
   ]
  },
  {
   "cell_type": "code",
   "execution_count": 46,
   "metadata": {},
   "outputs": [
    {
     "data": {
      "application/vnd.jupyter.widget-view+json": {
       "model_id": "88e684318e9c41cd9969fc196875b109",
       "version_major": 2,
       "version_minor": 0
      },
      "text/plain": [
       "VBox(children=(HBox(children=(IntSlider(value=67, max=135),)),))"
      ]
     },
     "metadata": {},
     "output_type": "display_data"
    },
    {
     "data": {
      "application/vnd.jupyter.widget-view+json": {
       "model_id": "75ec9811548d434da03b6eeda7153424",
       "version_major": 2,
       "version_minor": 0
      },
      "text/plain": [
       "Output()"
      ]
     },
     "metadata": {},
     "output_type": "display_data"
    }
   ],
   "source": [
    "max_slices = atlas.shape[0]\n",
    "def f(slice_index):\n",
    "    plt.figure(figsize=(30, 16))\n",
    "    plt.subplot(2, 2, 1)\n",
    "    plt.imshow(atlas[slice_index], cmap=\"gray\")\n",
    "    plt.subplot(2, 2, 2)\n",
    "    plt.imshow(atlas_brainstem_map[slice_index], cmap=\"gray\")\n",
    "    plt.subplot(2, 2, 3)\n",
    "    plt.imshow(atlas_left_parotid_map[slice_index], cmap=\"gray\")\n",
    "    plt.subplot(2, 2, 4)\n",
    "    plt.imshow(atlas_right_parotid_map[slice_index], cmap=\"gray\")\n",
    "    plt.show()\n",
    "\n",
    "sliceSlider = widgets.IntSlider(min=0, max=max_slices - 1, step=1, value=(max_slices - 1) / 2)\n",
    "ui = widgets.VBox([widgets.HBox([sliceSlider])])\n",
    "out = widgets.interactive_output(f, {'slice_index': sliceSlider})\n",
    "# noinspection PyTypeChecker\n",
    "display(ui, out)"
   ]
  },
  {
   "cell_type": "code",
   "execution_count": null,
   "metadata": {},
   "outputs": [],
   "source": []
  }
 ],
 "metadata": {
  "kernelspec": {
   "display_name": "Python 3",
   "language": "python",
   "name": "python3"
  },
  "language_info": {
   "codemirror_mode": {
    "name": "ipython",
    "version": 3
   },
   "file_extension": ".py",
   "mimetype": "text/x-python",
   "name": "python",
   "nbconvert_exporter": "python",
   "pygments_lexer": "ipython3",
   "version": "3.8.5"
  }
 },
 "nbformat": 4,
 "nbformat_minor": 4
}

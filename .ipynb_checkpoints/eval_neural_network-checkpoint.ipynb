{
 "cells": [
  {
   "cell_type": "code",
   "execution_count": 1,
   "metadata": {},
   "outputs": [
    {
     "data": {
      "text/plain": [
       "<torch._C.Generator at 0x7f67159f7730>"
      ]
     },
     "execution_count": 1,
     "metadata": {},
     "output_type": "execute_result"
    }
   ],
   "source": [
    "import sys\n",
    "import os\n",
    "import numpy as np\n",
    "import SimpleITK as sitk\n",
    "import cv2\n",
    "import matplotlib.pyplot as plt\n",
    "import matplotlib.patches as mpatches\n",
    "import datetime\n",
    "import pandas as pd\n",
    "import torch\n",
    "\n",
    "IN_COLAB = False\n",
    "\n",
    "from contextlib import nullcontext\n",
    "from time import time\n",
    "from pathlib import Path\n",
    "from IPython.display import display, Markdown\n",
    "from ipywidgets import interact, IntSlider\n",
    "from ipywidgets import widgets\n",
    "from sklearn.metrics import roc_curve, auc, roc_auc_score\n",
    "\n",
    "from torch import nn\n",
    "import torch.nn.functional as F\n",
    "\n",
    "from src.han_oars_dataset import HaNOarsDataset\n",
    "from src.unet_architecture import UNet\n",
    "from src.helpers import calc_dsc, calc_jaccard\n",
    "\n",
    "MAX_PADDING_SLICES=160\n",
    "torch.manual_seed(18)"
   ]
  },
  {
   "cell_type": "markdown",
   "metadata": {},
   "source": [
    "# Evaluation"
   ]
  },
  {
   "cell_type": "markdown",
   "metadata": {},
   "source": [
    "## Chossing model"
   ]
  },
  {
   "cell_type": "code",
   "execution_count": 2,
   "metadata": {},
   "outputs": [
    {
     "data": {
      "text/plain": [
       "['20200423-005539_3d_unet',\n",
       " '20200426-202445_3d_unet',\n",
       " '20200505-205420_3d_unet',\n",
       " '20200505-224539_3d_unet',\n",
       " '20200509-152114_3d_unet',\n",
       " '20200510-012205_3d_unet',\n",
       " '20200510-131237_3d_unet']"
      ]
     },
     "execution_count": 2,
     "metadata": {},
     "output_type": "execute_result"
    }
   ],
   "source": [
    "folders = []\n",
    "for folder in os.scandir('models'):\n",
    "    if folder.is_dir() and not folder.name.startswith('.'):\n",
    "        folders.append(folder.name)\n",
    "sorted(folders)"
   ]
  },
  {
   "cell_type": "code",
   "execution_count": 3,
   "metadata": {},
   "outputs": [],
   "source": [
    "binary_cross_entropy_folder = \"20200509-152114_3d_unet\"\n",
    "mse_folder = \"20200510-012205_3d_unet\"\n",
    "dice_loss_folder = \"20200510-131237_3d_unet\""
   ]
  },
  {
   "cell_type": "code",
   "execution_count": 4,
   "metadata": {},
   "outputs": [],
   "source": [
    "train_indices = [3, 4, 5, 7, 8, 9, 10, 11, 12, 13, 14, 15, 16, 17, 19, 20, 21, 22, 23, 24, 25, 26, 27, 29, 30, 31, 32, 33, 35, 36, 37, 38, 41, 42, 44, 45, 47, 48, 49, 50]\n",
    "valid_indices = [1, 6, 18, 34, 46]\n",
    "test_indices = [2, 28, 39, 40, 43]\n",
    "model_folder = dice_loss_folder"
   ]
  },
  {
   "cell_type": "code",
   "execution_count": 5,
   "metadata": {},
   "outputs": [
    {
     "name": "stdout",
     "output_type": "stream",
     "text": [
      "models/20200510-131237_3d_unet/checkpoint_20200510-131237_3d_unet_epoch_100.pkl\n"
     ]
    }
   ],
   "source": [
    "model_folder_path = f'models/{model_folder}'\n",
    "max_epoch = 0\n",
    "checkpoint_file_name = ''\n",
    "for file in os.scandir(model_folder_path):\n",
    "    epoch = int(file.name.split('.pkl')[0].split('_')[-1])\n",
    "    if (epoch > max_epoch):\n",
    "        max_epoch = epoch\n",
    "        checkpoint_file_name = file.name\n",
    "\n",
    "model_checkpoint_path = f'{model_folder_path}/{checkpoint_file_name}'\n",
    "print(model_checkpoint_path)"
   ]
  },
  {
   "cell_type": "markdown",
   "metadata": {},
   "source": [
    "## Loading model and dataset"
   ]
  },
  {
   "cell_type": "code",
   "execution_count": 6,
   "metadata": {},
   "outputs": [
    {
     "name": "stdout",
     "output_type": "stream",
     "text": [
      "max output channels 256\n",
      "CUDA using 4x dataset\n"
     ]
    }
   ],
   "source": [
    "with torch.no_grad():\n",
    "    device = torch.device('cuda')\n",
    "    state = torch.load(model_checkpoint_path, map_location=device)\n",
    "\n",
    "    ### PARAMS\n",
    "    # model\n",
    "    in_channels = 16\n",
    "\n",
    "    model = UNet(in_channels=in_channels).to(device)\n",
    "    model.load_state_dict(state['state_dict'], )\n",
    "    model.eval()\n",
    "    \n",
    "# Dataset\n",
    "dataset_size = 50\n",
    "if (IN_COLAB):\n",
    "    print('COLAB using 4x dataset')\n",
    "    dataset = HaNOarsDataset('/content/drive/My Drive/data/HaN_OAR_eyes+lens_shrink4x_padded160', dataset_size)\n",
    "else:\n",
    "    if torch.cuda.is_available():\n",
    "        print('CUDA using 4x dataset')\n",
    "        dataset = HaNOarsDataset('./data/HaN_OAR_eyes+lens_shrink4x_padded160', dataset_size)\n",
    "    else:\n",
    "        print('CPU using 16x dataset')\n",
    "        dataset = HaNOarsDataset('./data/HaN_OAR_eyes+lens_shrink16x_padded160', dataset_size)"
   ]
  },
  {
   "cell_type": "markdown",
   "metadata": {},
   "source": [
    "## Calculating DSC for different thresholds\n",
    "\n",
    "finding best threshold in training data"
   ]
  },
  {
   "cell_type": "code",
   "execution_count": 7,
   "metadata": {},
   "outputs": [
    {
     "name": "stdout",
     "output_type": "stream",
     "text": [
      "starting calc dsc per threshold\n",
      "done train\n",
      "done valid\n",
      "done test\n",
      "----------- Sorted by threshold value\n"
     ]
    },
    {
     "data": {
      "text/plain": [
       "0.00    0.000254\n",
       "0.01    0.904876\n",
       "0.02    0.903263\n",
       "0.03    0.901921\n",
       "0.04    0.901528\n",
       "          ...   \n",
       "0.96    0.870977\n",
       "0.97    0.869285\n",
       "0.98    0.866479\n",
       "0.99    0.862528\n",
       "1.00    0.003208\n",
       "Length: 101, dtype: float64"
      ]
     },
     "metadata": {},
     "output_type": "display_data"
    },
    {
     "name": "stdout",
     "output_type": "stream",
     "text": [
      "----------- Sorted by average DSC\n"
     ]
    },
    {
     "data": {
      "text/plain": [
       "0.00    0.000254\n",
       "1.00    0.003208\n",
       "0.99    0.862528\n",
       "0.98    0.866479\n",
       "0.97    0.869285\n",
       "          ...   \n",
       "0.05    0.901194\n",
       "0.04    0.901528\n",
       "0.03    0.901921\n",
       "0.02    0.903263\n",
       "0.01    0.904876\n",
       "Length: 101, dtype: float64"
      ]
     },
     "metadata": {},
     "output_type": "display_data"
    },
    {
     "name": "stdout",
     "output_type": "stream",
     "text": [
      "----------- Curve\n"
     ]
    },
    {
     "data": {
      "image/png": "[encoded data removed]",
      "text/plain": [
       "<Figure size 432x288 with 1 Axes>"
      ]
     },
     "metadata": {
      "needs_background": "light"
     },
     "output_type": "display_data"
    },
    {
     "name": "stdout",
     "output_type": "stream",
     "text": [
      "----------- Best Threshold\n",
      "dsc on train: 0.9048763647428076, threshold 0.01\n",
      "----------- Eval\n",
      "--valid--\n"
     ]
    },
    {
     "data": {
      "text/plain": [
       "index\n",
       "1     0.953184\n",
       "6     0.935135\n",
       "18    0.931330\n",
       "34    0.826087\n",
       "46    0.930451\n",
       "Name: thres_rescaled_dsc_0.01, dtype: float64"
      ]
     },
     "metadata": {},
     "output_type": "display_data"
    },
    {
     "name": "stdout",
     "output_type": "stream",
     "text": [
      "--test--\n"
     ]
    },
    {
     "data": {
      "text/plain": [
       "index\n",
       "2     0.941250\n",
       "28    0.957831\n",
       "39    0.950680\n",
       "40    0.919598\n",
       "43    0.911483\n",
       "Name: thres_rescaled_dsc_0.01, dtype: float64"
      ]
     },
     "metadata": {},
     "output_type": "display_data"
    },
    {
     "name": "stdout",
     "output_type": "stream",
     "text": [
      "Results DSC: train 0.9048763647428079 valid 0.9152374424357358 test 0.9361685681896628\n"
     ]
    }
   ],
   "source": [
    "rescaled_preds = []\n",
    "for i in range(50):\n",
    "    data, label = dataset[i]\n",
    "    data_input = torch.from_numpy(np.array([data])).to(device).float()\n",
    "    data_input.shape\n",
    "    # batch, channel, slices, x, y\n",
    "    prediction = model(data_input)[0].cpu().detach().numpy()[0]\n",
    "    rescaled_pred = (prediction - prediction.min()) / prediction.max()\n",
    "    rescaled_preds.append(rescaled_pred)\n",
    "\n",
    "info_list = []\n",
    "def calc_helper(index, info_list, is_train=False, is_valid=False, is_test=False):\n",
    "    data, label = dataset[index]\n",
    "    rescaled_pred = rescaled_preds[index]\n",
    "    \n",
    "    info = {}\n",
    "    info['index'] = index\n",
    "    info['dsc'] = calc_dsc(label, prediction)\n",
    "    info['rescaled_dsc'] = calc_dsc(label, rescaled_pred)\n",
    "    info['is_train'] = is_train\n",
    "    info['is_valid'] = is_valid\n",
    "    info['is_test'] = is_test\n",
    "    \n",
    "    step = 0.01\n",
    "    for thresh in np.arange(0, 1 + step, step):\n",
    "        tmp_text = \"{:.2f}\".format(thresh)\n",
    "        info[f'thres_rescaled_dsc_{tmp_text}'] = calc_dsc(label, (rescaled_pred > thresh) * 1)\n",
    "        \n",
    "    info_list.append(info)\n",
    "    return info_list\n",
    "\n",
    "print('starting calc dsc per threshold')\n",
    "for index in train_indices:\n",
    "    info_list = calc_helper(index-1, info_list, is_train=True)\n",
    "print('done train')\n",
    "for index in valid_indices:\n",
    "    info_list = calc_helper(index-1, info_list, is_valid=True)\n",
    "print('done valid')\n",
    "for index in test_indices:\n",
    "    info_list = calc_helper(index-1, info_list, is_test=True)\n",
    "print('done test')\n",
    "info_df = pd.DataFrame(info_list)\n",
    "\n",
    "trian_calc_tmp = info_df[info_df['is_train']].mean().drop(['index', 'dsc', 'rescaled_dsc', 'is_train', 'is_valid', 'is_test']).copy()\n",
    "trian_calc_tmp.index = trian_calc_tmp.index.str.split('_').map(lambda x: eval(x[-1]))\n",
    "\n",
    "print('----------- Sorted by threshold value')\n",
    "display(trian_calc_tmp)\n",
    "print('----------- Sorted by average DSC')\n",
    "display(trian_calc_tmp.sort_values())\n",
    "print('----------- Curve')\n",
    "trian_calc_tmp.plot()\n",
    "plt.show()\n",
    "print('----------- Best Threshold')\n",
    "best_threshold = trian_calc_tmp.index[trian_calc_tmp.argmax()]\n",
    "print(f'dsc on train: {trian_calc_tmp.max()}, threshold {best_threshold}')\n",
    "info_df = info_df.set_index('index')\n",
    "info_df.index = info_df.index + 1\n",
    "\n",
    "print('----------- Eval')\n",
    "best_threshold_column = f'thres_rescaled_dsc_{best_threshold}'\n",
    "train_tmp = info_df[info_df['is_train']][best_threshold_column]\n",
    "valid_tmp = info_df[info_df['is_valid']][best_threshold_column]\n",
    "test_tmp = info_df[info_df['is_test']][best_threshold_column]\n",
    "print('--valid--')\n",
    "display(valid_tmp)\n",
    "print('--test--')\n",
    "display(test_tmp)\n",
    "print(f'Results DSC: train {train_tmp.mean()} valid {valid_tmp.mean()} test {test_tmp.mean()}')"
   ]
  },
  {
   "cell_type": "code",
   "execution_count": 13,
   "metadata": {},
   "outputs": [
    {
     "data": {
      "application/vnd.jupyter.widget-view+json": {
       "model_id": "32e7bb7b4db84c46812edb709972ea09",
       "version_major": 2,
       "version_minor": 0
      },
      "text/plain": [
       "VBox(children=(HBox(children=(IntSlider(value=33, max=50, min=1),)),))"
      ]
     },
     "metadata": {},
     "output_type": "display_data"
    },
    {
     "data": {
      "application/vnd.jupyter.widget-view+json": {
       "model_id": "38b0405b9479468a985183f398d42dd7",
       "version_major": 2,
       "version_minor": 0
      },
      "text/plain": [
       "Output()"
      ]
     },
     "metadata": {},
     "output_type": "display_data"
    }
   ],
   "source": [
    "y_true = []\n",
    "y_scores = []\n",
    "for i in range(50):\n",
    "    data, label = dataset[i]\n",
    "    y_true.append(label)\n",
    "    y_scores.append(rescaled_preds[i])\n",
    "y_true = np.array(y_true)\n",
    "y_scores = np.array(y_scores)\n",
    "y_true.shape, y_scores.shape\n",
    "\n",
    "\n",
    "datasetSlider = widgets.IntSlider(min=1, max=50, step=1, value=33)\n",
    "ui1 = widgets.VBox([\n",
    "    widgets.HBox([datasetSlider])\n",
    "])\n",
    "\n",
    "def g(dataset_i):\n",
    "    print(f'showing dataset {dataset_i}')\n",
    "    fpr, tpr, thresholds = roc_curve(dataset[dataset_i-1][1].flatten(), rescaled_preds[dataset_i-1].flatten())\n",
    "    # fpr, tpr, thresholds = roc_curve(y_true.flatten(), y_scores.flatten())\n",
    "    print(fpr, tpr)\n",
    "    roc_auc = auc(fpr, tpr)\n",
    "\n",
    "    print(\"\\nArea under the ROC curve: \" + str(roc_auc))\n",
    "    plt.figure()\n",
    "    plt.plot(fpr, tpr,'-',label='Area Under the Curve (AUC = %0.4f)' % roc_auc)\n",
    "    plt.title('ROC curve')\n",
    "    plt.xlabel(\"FPR (False Positive Rate)\")\n",
    "    plt.ylabel(\"TPR (True Positive Rate)\")\n",
    "    plt.legend(loc=\"lower right\")\n",
    "    plt.show()\n",
    "\n",
    "out = widgets.interactive_output(g, { 'dataset_i': datasetSlider })\n",
    "display(ui1, out)"
   ]
  },
  {
   "cell_type": "markdown",
   "metadata": {},
   "source": [
    "## Evaluating best threshold"
   ]
  },
  {
   "cell_type": "code",
   "execution_count": 9,
   "metadata": {},
   "outputs": [
    {
     "data": {
      "text/html": [
       "<div>\n",
       "<style scoped>\n",
       "    .dataframe tbody tr th:only-of-type {\n",
       "        vertical-align: middle;\n",
       "    }\n",
       "\n",
       "    .dataframe tbody tr th {\n",
       "        vertical-align: top;\n",
       "    }\n",
       "\n",
       "    .dataframe thead th {\n",
       "        text-align: right;\n",
       "    }\n",
       "</style>\n",
       "<table border=\"1\" class=\"dataframe\">\n",
       "  <thead>\n",
       "    <tr style=\"text-align: right;\">\n",
       "      <th></th>\n",
       "      <th>thres_rescaled_dsc_0.01</th>\n",
       "      <th>is_train</th>\n",
       "    </tr>\n",
       "    <tr>\n",
       "      <th>index</th>\n",
       "      <th></th>\n",
       "      <th></th>\n",
       "    </tr>\n",
       "  </thead>\n",
       "  <tbody>\n",
       "    <tr>\n",
       "      <th>15</th>\n",
       "      <td>0.627494</td>\n",
       "      <td>True</td>\n",
       "    </tr>\n",
       "    <tr>\n",
       "      <th>25</th>\n",
       "      <td>0.806849</td>\n",
       "      <td>True</td>\n",
       "    </tr>\n",
       "    <tr>\n",
       "      <th>34</th>\n",
       "      <td>0.826087</td>\n",
       "      <td>False</td>\n",
       "    </tr>\n",
       "    <tr>\n",
       "      <th>21</th>\n",
       "      <td>0.827778</td>\n",
       "      <td>True</td>\n",
       "    </tr>\n",
       "    <tr>\n",
       "      <th>30</th>\n",
       "      <td>0.836700</td>\n",
       "      <td>True</td>\n",
       "    </tr>\n",
       "    <tr>\n",
       "      <th>38</th>\n",
       "      <td>0.837349</td>\n",
       "      <td>True</td>\n",
       "    </tr>\n",
       "    <tr>\n",
       "      <th>44</th>\n",
       "      <td>0.846547</td>\n",
       "      <td>True</td>\n",
       "    </tr>\n",
       "    <tr>\n",
       "      <th>5</th>\n",
       "      <td>0.861217</td>\n",
       "      <td>True</td>\n",
       "    </tr>\n",
       "    <tr>\n",
       "      <th>36</th>\n",
       "      <td>0.876204</td>\n",
       "      <td>True</td>\n",
       "    </tr>\n",
       "    <tr>\n",
       "      <th>49</th>\n",
       "      <td>0.879276</td>\n",
       "      <td>True</td>\n",
       "    </tr>\n",
       "    <tr>\n",
       "      <th>50</th>\n",
       "      <td>0.885827</td>\n",
       "      <td>True</td>\n",
       "    </tr>\n",
       "    <tr>\n",
       "      <th>3</th>\n",
       "      <td>0.886179</td>\n",
       "      <td>True</td>\n",
       "    </tr>\n",
       "    <tr>\n",
       "      <th>31</th>\n",
       "      <td>0.890547</td>\n",
       "      <td>True</td>\n",
       "    </tr>\n",
       "    <tr>\n",
       "      <th>11</th>\n",
       "      <td>0.901786</td>\n",
       "      <td>True</td>\n",
       "    </tr>\n",
       "    <tr>\n",
       "      <th>42</th>\n",
       "      <td>0.904130</td>\n",
       "      <td>True</td>\n",
       "    </tr>\n",
       "    <tr>\n",
       "      <th>43</th>\n",
       "      <td>0.911483</td>\n",
       "      <td>False</td>\n",
       "    </tr>\n",
       "    <tr>\n",
       "      <th>37</th>\n",
       "      <td>0.911894</td>\n",
       "      <td>True</td>\n",
       "    </tr>\n",
       "    <tr>\n",
       "      <th>23</th>\n",
       "      <td>0.918502</td>\n",
       "      <td>True</td>\n",
       "    </tr>\n",
       "    <tr>\n",
       "      <th>40</th>\n",
       "      <td>0.919598</td>\n",
       "      <td>False</td>\n",
       "    </tr>\n",
       "    <tr>\n",
       "      <th>19</th>\n",
       "      <td>0.921722</td>\n",
       "      <td>True</td>\n",
       "    </tr>\n",
       "    <tr>\n",
       "      <th>10</th>\n",
       "      <td>0.921836</td>\n",
       "      <td>True</td>\n",
       "    </tr>\n",
       "    <tr>\n",
       "      <th>12</th>\n",
       "      <td>0.921971</td>\n",
       "      <td>True</td>\n",
       "    </tr>\n",
       "    <tr>\n",
       "      <th>8</th>\n",
       "      <td>0.923810</td>\n",
       "      <td>True</td>\n",
       "    </tr>\n",
       "    <tr>\n",
       "      <th>41</th>\n",
       "      <td>0.925706</td>\n",
       "      <td>True</td>\n",
       "    </tr>\n",
       "    <tr>\n",
       "      <th>47</th>\n",
       "      <td>0.928184</td>\n",
       "      <td>True</td>\n",
       "    </tr>\n",
       "    <tr>\n",
       "      <th>48</th>\n",
       "      <td>0.928846</td>\n",
       "      <td>True</td>\n",
       "    </tr>\n",
       "    <tr>\n",
       "      <th>46</th>\n",
       "      <td>0.930451</td>\n",
       "      <td>False</td>\n",
       "    </tr>\n",
       "    <tr>\n",
       "      <th>18</th>\n",
       "      <td>0.931330</td>\n",
       "      <td>False</td>\n",
       "    </tr>\n",
       "    <tr>\n",
       "      <th>24</th>\n",
       "      <td>0.931481</td>\n",
       "      <td>True</td>\n",
       "    </tr>\n",
       "    <tr>\n",
       "      <th>6</th>\n",
       "      <td>0.935135</td>\n",
       "      <td>False</td>\n",
       "    </tr>\n",
       "    <tr>\n",
       "      <th>35</th>\n",
       "      <td>0.936508</td>\n",
       "      <td>True</td>\n",
       "    </tr>\n",
       "    <tr>\n",
       "      <th>13</th>\n",
       "      <td>0.937073</td>\n",
       "      <td>True</td>\n",
       "    </tr>\n",
       "    <tr>\n",
       "      <th>20</th>\n",
       "      <td>0.937113</td>\n",
       "      <td>True</td>\n",
       "    </tr>\n",
       "    <tr>\n",
       "      <th>9</th>\n",
       "      <td>0.937247</td>\n",
       "      <td>True</td>\n",
       "    </tr>\n",
       "    <tr>\n",
       "      <th>16</th>\n",
       "      <td>0.937681</td>\n",
       "      <td>True</td>\n",
       "    </tr>\n",
       "    <tr>\n",
       "      <th>32</th>\n",
       "      <td>0.940803</td>\n",
       "      <td>True</td>\n",
       "    </tr>\n",
       "    <tr>\n",
       "      <th>14</th>\n",
       "      <td>0.941048</td>\n",
       "      <td>True</td>\n",
       "    </tr>\n",
       "    <tr>\n",
       "      <th>2</th>\n",
       "      <td>0.941250</td>\n",
       "      <td>False</td>\n",
       "    </tr>\n",
       "    <tr>\n",
       "      <th>26</th>\n",
       "      <td>0.943252</td>\n",
       "      <td>True</td>\n",
       "    </tr>\n",
       "    <tr>\n",
       "      <th>45</th>\n",
       "      <td>0.945578</td>\n",
       "      <td>True</td>\n",
       "    </tr>\n",
       "    <tr>\n",
       "      <th>22</th>\n",
       "      <td>0.945946</td>\n",
       "      <td>True</td>\n",
       "    </tr>\n",
       "    <tr>\n",
       "      <th>27</th>\n",
       "      <td>0.946009</td>\n",
       "      <td>True</td>\n",
       "    </tr>\n",
       "    <tr>\n",
       "      <th>33</th>\n",
       "      <td>0.946457</td>\n",
       "      <td>True</td>\n",
       "    </tr>\n",
       "    <tr>\n",
       "      <th>4</th>\n",
       "      <td>0.947750</td>\n",
       "      <td>True</td>\n",
       "    </tr>\n",
       "    <tr>\n",
       "      <th>29</th>\n",
       "      <td>0.948101</td>\n",
       "      <td>True</td>\n",
       "    </tr>\n",
       "    <tr>\n",
       "      <th>7</th>\n",
       "      <td>0.950000</td>\n",
       "      <td>True</td>\n",
       "    </tr>\n",
       "    <tr>\n",
       "      <th>39</th>\n",
       "      <td>0.950680</td>\n",
       "      <td>False</td>\n",
       "    </tr>\n",
       "    <tr>\n",
       "      <th>17</th>\n",
       "      <td>0.952652</td>\n",
       "      <td>True</td>\n",
       "    </tr>\n",
       "    <tr>\n",
       "      <th>1</th>\n",
       "      <td>0.953184</td>\n",
       "      <td>False</td>\n",
       "    </tr>\n",
       "    <tr>\n",
       "      <th>28</th>\n",
       "      <td>0.957831</td>\n",
       "      <td>False</td>\n",
       "    </tr>\n",
       "  </tbody>\n",
       "</table>\n",
       "</div>"
      ],
      "text/plain": [
       "       thres_rescaled_dsc_0.01  is_train\n",
       "index                                   \n",
       "15                    0.627494      True\n",
       "25                    0.806849      True\n",
       "34                    0.826087     False\n",
       "21                    0.827778      True\n",
       "30                    0.836700      True\n",
       "38                    0.837349      True\n",
       "44                    0.846547      True\n",
       "5                     0.861217      True\n",
       "36                    0.876204      True\n",
       "49                    0.879276      True\n",
       "50                    0.885827      True\n",
       "3                     0.886179      True\n",
       "31                    0.890547      True\n",
       "11                    0.901786      True\n",
       "42                    0.904130      True\n",
       "43                    0.911483     False\n",
       "37                    0.911894      True\n",
       "23                    0.918502      True\n",
       "40                    0.919598     False\n",
       "19                    0.921722      True\n",
       "10                    0.921836      True\n",
       "12                    0.921971      True\n",
       "8                     0.923810      True\n",
       "41                    0.925706      True\n",
       "47                    0.928184      True\n",
       "48                    0.928846      True\n",
       "46                    0.930451     False\n",
       "18                    0.931330     False\n",
       "24                    0.931481      True\n",
       "6                     0.935135     False\n",
       "35                    0.936508      True\n",
       "13                    0.937073      True\n",
       "20                    0.937113      True\n",
       "9                     0.937247      True\n",
       "16                    0.937681      True\n",
       "32                    0.940803      True\n",
       "14                    0.941048      True\n",
       "2                     0.941250     False\n",
       "26                    0.943252      True\n",
       "45                    0.945578      True\n",
       "22                    0.945946      True\n",
       "27                    0.946009      True\n",
       "33                    0.946457      True\n",
       "4                     0.947750      True\n",
       "29                    0.948101      True\n",
       "7                     0.950000      True\n",
       "39                    0.950680     False\n",
       "17                    0.952652      True\n",
       "1                     0.953184     False\n",
       "28                    0.957831     False"
      ]
     },
     "execution_count": 9,
     "metadata": {},
     "output_type": "execute_result"
    }
   ],
   "source": [
    "info_df[[best_threshold_column, 'is_train']].sort_values(by=best_threshold_column)"
   ]
  },
  {
   "cell_type": "code",
   "execution_count": 10,
   "metadata": {},
   "outputs": [
    {
     "data": {
      "application/vnd.jupyter.widget-view+json": {
       "model_id": "366af59a30614be19ec07d1541941664",
       "version_major": 2,
       "version_minor": 0
      },
      "text/plain": [
       "VBox(children=(HBox(children=(IntSlider(value=33, max=50, min=1), FloatSlider(value=0.5, max=1.0, step=0.05)))…"
      ]
     },
     "metadata": {},
     "output_type": "display_data"
    },
    {
     "data": {
      "application/vnd.jupyter.widget-view+json": {
       "model_id": "2e061b50aceb460f93d3821bd0de64f6",
       "version_major": 2,
       "version_minor": 0
      },
      "text/plain": [
       "Output()"
      ]
     },
     "metadata": {},
     "output_type": "display_data"
    }
   ],
   "source": [
    "datasetSlider = widgets.IntSlider(min=1, max=50, step=1, value=33)\n",
    "customThresSlider = widgets.FloatSlider(min=0, max=1, step=0.05, value=0.5)\n",
    "ui1 = widgets.VBox([\n",
    "    widgets.HBox([datasetSlider, customThresSlider])\n",
    "])\n",
    "\n",
    "def g(dataset_i, custom_thresh):\n",
    "    print(f'showing dataset {dataset_i}')\n",
    "    data, label = dataset[dataset_i-1]\n",
    "    data_input = torch.from_numpy(np.array([data])).to(device).float()\n",
    "    data_input.shape\n",
    "    # batch, channel, slices, x, y\n",
    "    prediction = model(data_input)[0].cpu().detach().numpy()[0]\n",
    "    rescaled_pred = (prediction - prediction.min()) / prediction.max()\n",
    "    thres_rescaled_pred = (rescaled_pred > best_threshold) * 1\n",
    "    # TODO Remove\n",
    "    thres_rescaled_pred = (rescaled_pred >= custom_thresh) * 1\n",
    "\n",
    "    print(f'data min {data.min()} max {data.max()}')\n",
    "    print(f'label min {label.min()} max {label.max()}')\n",
    "    print(f'prediction min {prediction.min()} max {prediction.max()}')\n",
    "    print(f'norm_pred min {rescaled_pred.min()} max {rescaled_pred.max()}')\n",
    "    print(f'dsc {calc_dsc(label, prediction)}')\n",
    "    print(f'rescaled dsc {calc_dsc(label, rescaled_pred)}')\n",
    "    print(f'thres_rescaled dsc {calc_dsc(label, thres_rescaled_pred)}')\n",
    "    \n",
    "    \n",
    "    inverted_label = 1 - label\n",
    "    tp = (label * thres_rescaled_pred).sum()\n",
    "    fp = (inverted_label * thres_rescaled_pred).sum()\n",
    "    tpr = tp / label.sum()\n",
    "    fpr = fp / inverted_label.sum()\n",
    "    print(f'label sum {label.sum()}, thres_rescaled_pred sum {thres_rescaled_pred.sum()}')\n",
    "    print(f'TP {tp}, FP {fp}, TPR {tpr}, FPR {fpr}')\n",
    "\n",
    "    sliceSlider = widgets.IntSlider(min=0, max=MAX_PADDING_SLICES-1, step=1, value=101)\n",
    "    ui2 = widgets.VBox([\n",
    "        widgets.HBox([sliceSlider])\n",
    "    ])\n",
    "\n",
    "    def f(a):\n",
    "        inter_img = (label[a] & thres_rescaled_pred[a])\n",
    "        inter_img = np.expand_dims(inter_img, axis=-1).astype(np.uint8)\n",
    "        inter_img = cv2.cvtColor(inter_img, cv2.COLOR_GRAY2BGR) * 255\n",
    "        inter_img[:, :, 0] = 0\n",
    "        inter_img[:, :, 2] = 0\n",
    "\n",
    "        bad_img = label[a] - thres_rescaled_pred[a]\n",
    "        bad_img = np.expand_dims(bad_img, axis=-1).astype(np.uint8)\n",
    "        bad_img = cv2.cvtColor(bad_img, cv2.COLOR_GRAY2BGR) * 255\n",
    "        bad_img[:, :, 1] = 0\n",
    "        bad_img[:, :, 2] = 0\n",
    "\n",
    "        bad_img2 = thres_rescaled_pred[a] - label[a]\n",
    "        bad_img2 = np.expand_dims(bad_img2, axis=-1).astype(np.uint8)\n",
    "        bad_img2 = cv2.cvtColor(bad_img2, cv2.COLOR_GRAY2BGR) * 255\n",
    "        bad_img2[:, :, 0] = 0\n",
    "        bad_img2[:, :, 1] = 0\n",
    "\n",
    "        plt.figure(figsize=(30, 30))\n",
    "\n",
    "        plt.subplot(3, 3, 1)\n",
    "        plt.title('input')\n",
    "        plt.imshow(data[0][a], cmap=\"gray\")\n",
    "        \n",
    "        plt.subplot(3, 3, 2)\n",
    "        plt.title('label')\n",
    "        plt.imshow(label[a], cmap=\"gray\")\n",
    "        \n",
    "        plt.subplot(3, 3, 4)\n",
    "        plt.title('prediction')\n",
    "        plt.imshow(prediction[a], cmap=\"gray\", vmin=0, vmax=1)\n",
    "        \n",
    "        plt.subplot(3, 3, 3)\n",
    "        plt.title('prediction')\n",
    "        tmp = inter_img + bad_img + bad_img2\n",
    "        plt.legend(handles=[mpatches.Patch(color=(0, 1, 0), label=\"Interception\"), mpatches.Patch(color=(1, 0, 0), label=\"Label - Prediction\"), mpatches.Patch(color=(0, 0, 1), label=\"Prediction - Label\")])\n",
    "        plt.imshow(tmp)\n",
    "                \n",
    "        plt.subplot(3, 3, 5)\n",
    "        plt.title('rescaled prediction')\n",
    "        plt.imshow(rescaled_pred[a], cmap=\"gray\", vmin=0, vmax=1)\n",
    "        \n",
    "        plt.subplot(3, 3, 6)\n",
    "        plt.title('rescaled and threshold prediction')\n",
    "        plt.imshow(thres_rescaled_pred[a], cmap=\"gray\")\n",
    "        \n",
    "        plt.subplot(3, 3, 7)\n",
    "        plt.title('inverted label')\n",
    "        plt.imshow(inverted_label[a], cmap=\"gray\")\n",
    "        \n",
    "        plt.subplot(3, 3, 8)\n",
    "        plt.title('inverted label * threshold prediction')\n",
    "        plt.imshow(inverted_label[a] * thres_rescaled_pred[a], cmap=\"gray\")\n",
    "\n",
    "        plt.show()\n",
    "\n",
    "    out = widgets.interactive_output(f, { 'a': sliceSlider })\n",
    "    display(ui2, out)\n",
    "\n",
    "out = widgets.interactive_output(g, { 'dataset_i': datasetSlider, 'custom_thresh': customThresSlider })\n",
    "display(ui1, out)"
   ]
  },
  {
   "cell_type": "code",
   "execution_count": null,
   "metadata": {},
   "outputs": [],
   "source": []
  }
 ],
 "metadata": {
  "kernelspec": {
   "display_name": "Python 3",
   "language": "python",
   "name": "python3"
  },
  "language_info": {
   "codemirror_mode": {
    "name": "ipython",
    "version": 3
   },
   "file_extension": ".py",
   "mimetype": "text/x-python",
   "name": "python",
   "nbconvert_exporter": "python",
   "pygments_lexer": "ipython3",
   "version": "3.8.5"
  }
 },
 "nbformat": 4,
 "nbformat_minor": 4
}

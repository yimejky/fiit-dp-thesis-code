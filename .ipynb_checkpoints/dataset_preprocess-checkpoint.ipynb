{
 "cells": [
  {
   "cell_type": "code",
   "execution_count": 1,
   "metadata": {},
   "outputs": [],
   "source": [
    "import os\n",
    "import numpy as np\n",
    "import SimpleITK as sitk\n",
    "import cv2\n",
    "import matplotlib.pyplot as plt\n",
    "import datetime\n",
    "\n",
    "from pathlib import Path\n",
    "from IPython.display import display, Markdown\n",
    "from ipywidgets import interact, IntSlider\n",
    "from ipywidgets import widgets\n",
    "\n",
    "import torch\n",
    "from torch import nn\n",
    "import torch.nn.functional as F\n",
    "\n",
    "from src.consts import IN_COLAB, MAX_PADDING_SLICES, DATASET_MAX_BOUNDING_BOX, DATASET_PADDING_VALUE"
   ]
  },
  {
   "cell_type": "code",
   "execution_count": 2,
   "metadata": {},
   "outputs": [],
   "source": [
    "def generate_parsed_dataset(root_dir_path, output_path, shrink_factor, idx):\n",
    "    i = str(idx + 1)\n",
    "    data_filepath = Path.joinpath(root_dir_path, f'./{i}/data.nii.gz')\n",
    "    label_filepath = Path.joinpath(root_dir_path, f'./{i}/label.nii.gz')\n",
    "\n",
    "    data = sitk.ReadImage(str(data_filepath));\n",
    "    label = sitk.ReadImage(str(label_filepath));\n",
    "    \n",
    "    # eyes filtering\n",
    "    # label = (label == 2) | (label == 3) | (label == 4) | (label == 5)\n",
    "\n",
    "    # adding slices to MAX_PADDING_SLICES = 160\n",
    "    padding_filter = sitk.ConstantPadImageFilter()\n",
    "    padding = (0, 0, MAX_PADDING_SLICES - data.GetSize()[2])\n",
    "    padding_filter.SetPadUpperBound(padding)\n",
    "    padding_filter.SetConstant(DATASET_PADDING_VALUE)\n",
    "\n",
    "    data_padded = padding_filter.Execute(data)\n",
    "    label_padded = padding_filter.Execute(label)\n",
    "\n",
    "    # shrinking resolution\n",
    "    shrink_filter = sitk.ShrinkImageFilter()\n",
    "    shrink_size = (shrink_factor, shrink_factor, 1)\n",
    "\n",
    "    data_shrink = shrink_filter.Execute(data_padded, shrink_size)\n",
    "    label_shrink = shrink_filter.Execute(label_padded, shrink_size)\n",
    "    \n",
    "    data_output = data_shrink\n",
    "    labal_output = label_shrink\n",
    "    \n",
    "    # creating folder for item\n",
    "    data_output_filepath = Path.joinpath(output_path, f'./{i}/data.nii.gz')\n",
    "    label_output_filepath = Path.joinpath(output_path, f'./{i}/label.nii.gz')\n",
    "    data_output_filepath.parent.mkdir(parents=True, exist_ok=True)\n",
    "    label_output_filepath.parent.mkdir(parents=True, exist_ok=True)\n",
    "    \n",
    "    # saving parsed\n",
    "    sitk.WriteImage(data_output, str(data_output_filepath))\n",
    "    sitk.WriteImage(labal_output, str(label_output_filepath))\n",
    "    \n",
    "    return data_output, labal_output"
   ]
  },
  {
   "cell_type": "code",
   "execution_count": 3,
   "metadata": {},
   "outputs": [],
   "source": [
    "for shrink_factor in [1, 2, 4, 8, 16]:\n",
    "    for i in range(50):\n",
    "        data, label = generate_parsed_dataset(\n",
    "            Path('./data/HaN_OAR'),\n",
    "            Path(f'./data/HaN_OAR_shrink{shrink_factor}x_padded{MAX_PADDING_SLICES}'),\n",
    "            shrink_factor, i)"
   ]
  },
  {
   "cell_type": "code",
   "execution_count": 4,
   "metadata": {},
   "outputs": [
    {
     "name": "stdout",
     "output_type": "stream",
     "text": [
      "(32, 32, 160) (32, 32, 160)\n"
     ]
    },
    {
     "data": {
      "application/vnd.jupyter.widget-view+json": {
       "model_id": "46ddecfd16a54e4d9c173d73045bf011",
       "version_major": 2,
       "version_minor": 0
      },
      "text/plain": [
       "VBox(children=(HBox(children=(IntSlider(value=101, max=159),)),))"
      ]
     },
     "metadata": {},
     "output_type": "display_data"
    },
    {
     "data": {
      "application/vnd.jupyter.widget-view+json": {
       "model_id": "33e30d2ab68f4b0287a4e11594a412c9",
       "version_major": 2,
       "version_minor": 0
      },
      "text/plain": [
       "Output()"
      ]
     },
     "metadata": {},
     "output_type": "display_data"
    }
   ],
   "source": [
    "print(data.GetSize(), label.GetSize())\n",
    "aSlider = widgets.IntSlider(min=0, max=MAX_PADDING_SLICES-1, step=1, value=101)\n",
    "\n",
    "ui = widgets.VBox([widgets.HBox([aSlider])])\n",
    "\n",
    "def f(a):\n",
    "    plt.figure(figsize=(20, 10))\n",
    "    plt.subplot(1, 2, 1)\n",
    "    plt.imshow(sitk.GetArrayFromImage(data)[a], cmap=\"gray\")\n",
    "    plt.subplot(1, 2, 2)\n",
    "    plt.imshow(sitk.GetArrayFromImage(label)[a])\n",
    "    plt.show()\n",
    "\n",
    "out = widgets.interactive_output(f, {'a': aSlider })\n",
    "display(ui, out)"
   ]
  },
  {
   "cell_type": "code",
   "execution_count": 5,
   "metadata": {},
   "outputs": [
    {
     "data": {
      "text/plain": [
       "(-1024, 3071, (32, 32))"
      ]
     },
     "execution_count": 5,
     "metadata": {},
     "output_type": "execute_result"
    }
   ],
   "source": [
    "tmp = sitk.GetArrayFromImage(data)\n",
    "tmp.min(), tmp.max(), tmp[0].shape"
   ]
  },
  {
   "cell_type": "code",
   "execution_count": 6,
   "metadata": {},
   "outputs": [
    {
     "data": {
      "text/plain": [
       "(0,\n",
       " 22,\n",
       " array([ 1,  2,  3,  4,  7,  9, 10, 12, 13, 14, 15, 16, 17, 18, 19, 20, 21,\n",
       "        22], dtype=uint8))"
      ]
     },
     "execution_count": 6,
     "metadata": {},
     "output_type": "execute_result"
    }
   ],
   "source": [
    "tmp = sitk.GetArrayFromImage(label) \n",
    "tmp.min(), tmp.max(), np.unique(tmp[tmp > 0])"
   ]
  }
 ],
 "metadata": {
  "kernelspec": {
   "display_name": "Python 3",
   "language": "python",
   "name": "python3"
  },
  "language_info": {
   "codemirror_mode": {
    "name": "ipython",
    "version": 3
   },
   "file_extension": ".py",
   "mimetype": "text/x-python",
   "name": "python",
   "nbconvert_exporter": "python",
   "pygments_lexer": "ipython3",
   "version": "3.8.5"
  }
 },
 "nbformat": 4,
 "nbformat_minor": 4
}

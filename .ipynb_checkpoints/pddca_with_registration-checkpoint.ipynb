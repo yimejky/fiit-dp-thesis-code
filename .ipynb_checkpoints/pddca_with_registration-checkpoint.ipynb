{
 "cells": [
  {
   "cell_type": "code",
   "execution_count": 1,
   "metadata": {},
   "outputs": [
    {
     "name": "stdout",
     "output_type": "stream",
     "text": [
      "If you use TorchIO for your research, please cite the following paper:\n",
      "Pérez-García et al., TorchIO: a Python library for efficient loading,\n",
      "preprocessing, augmentation and patch-based sampling of medical images\n",
      "in deep learning. Credits instructions: https://torchio.readthedocs.io/#credits\n",
      "\n",
      "Dataset biggest bounding box wihtout spinal cord [56, 177, 156]\n",
      "Cut target size [72, 192, 168]\n",
      "Done Init\n"
     ]
    }
   ],
   "source": [
    "IN_COLAB = 'google.colab' in str(get_ipython())\n",
    "if IN_COLAB:\n",
    "    from google.colab import drive\n",
    "    drive.mount('/content/drive')\n",
    "    import sys\n",
    "    sys.path.append('/content/drive/My Drive/dp_tomastik/code')\n",
    "    !bash \"/content/drive/My Drive/dp_tomastik/code/scripts/install_libs.sh\"\n",
    "\n",
    "import matplotlib.pyplot as plt\n",
    "import torch\n",
    "import os\n",
    "import numpy as np\n",
    "import pandas as pd\n",
    "import logging\n",
    "import datetime\n",
    "from torchio import RandomAffine, Compose, ZNormalization\n",
    "\n",
    "import src.dataset.oars_labels_consts as OARS_LABELS\n",
    "from src.consts import DATASET_MAX_BOUNDING_BOX, DESIRE_BOUNDING_BOX_SIZE\n",
    "from src.helpers.threshold_calc_helpers import get_threshold_info_df\n",
    "from src.helpers.show_model_dataset_pred_preview import show_model_dataset_pred_preview\n",
    "from src.dataset.get_cut_lists import get_cut_lists\n",
    "from src.dataset.get_full_res_cut import get_full_res_cut\n",
    "from src.dataset.get_dataset import get_dataset\n",
    "from src.dataset.get_dataset_info import get_dataset_info\n",
    "from src.dataset.preview_dataset import preview_dataset\n",
    "from src.dataset.get_dataset_transform import get_dataset_transform\n",
    "from src.model_and_training.prepare_model import prepare_model\n",
    "from src.model_and_training.train_loop import train_loop\n",
    "from src.model_and_training.show_model_info import show_model_info\n",
    "from src.model_and_training.load_checkpoint_model_info import load_checkpoint_model_info\n",
    "from src.helpers.show_cuda_usage import show_cuda_usage\n",
    "from src.helpers.get_rescaled_pred import get_rescaled_preds\n",
    "from src.dataset.split_dataset import split_dataset, copy_split_dataset\n",
    "from src.helpers.compare_prediction_with_ground_true import compare_prediction_with_ground_true, compare_one_prediction_with_ground_true\n",
    "from src.helpers.get_img_outliers_pixels import get_img_outliers_pixels\n",
    "from src.helpers.get_raw_with_prediction import get_raw_with_prediction\n",
    "from src.model_and_training.getters.get_device import get_device\n",
    "\n",
    "\n",
    "from operator import itemgetter\n",
    "from IPython.display import display, Markdown\n",
    "from ipywidgets import widgets\n",
    "\n",
    "torch.manual_seed(20)\n",
    "logging.basicConfig(filename='logs/pdd_data_check.log', level=logging.DEBUG)\n",
    "\n",
    "print('Dataset biggest bounding box wihtout spinal cord', DATASET_MAX_BOUNDING_BOX)\n",
    "print('Cut target size', DESIRE_BOUNDING_BOX_SIZE)\n",
    "print('Done Init')"
   ]
  },
  {
   "cell_type": "code",
   "execution_count": 2,
   "metadata": {},
   "outputs": [],
   "source": [
    "TRAIN_REGISTRATION=False\n",
    "TRANSFORM_REGISTRATION=False\n",
    "DISPLAY_REGISTRATION=False"
   ]
  },
  {
   "cell_type": "markdown",
   "metadata": {},
   "source": [
    "# PDDCA"
   ]
  },
  {
   "cell_type": "code",
   "execution_count": 3,
   "metadata": {},
   "outputs": [],
   "source": [
    "def preview_3d_image(img):\n",
    "    if type(img) is sitk.SimpleITK.Image:\n",
    "        img = sitk.GetArrayFromImage(img)\n",
    "\n",
    "    max_slices = img.shape[0]\n",
    "    def f(slice_index):    \n",
    "        plt.figure(figsize=(16, 16))\n",
    "        plt.imshow(img[slice_index])\n",
    "        plt.show()\n",
    "        print(f\"debug: {img.min()}, {img.max()}\")\n",
    "        print(f\"debug: unique {np.unique(img[slice_index])}\")\n",
    "\n",
    "    sliceSlider = widgets.IntSlider(min=0, max=max_slices - 1, step=1, value=(max_slices - 1) / 2)\n",
    "    ui = widgets.VBox([widgets.HBox([sliceSlider])])\n",
    "    out = widgets.interactive_output(f, {'slice_index': sliceSlider})\n",
    "    # noinspection PyTypeChecker\n",
    "    display(ui, out)"
   ]
  },
  {
   "cell_type": "code",
   "execution_count": 4,
   "metadata": {},
   "outputs": [],
   "source": [
    "from pathlib import Path\n",
    "import SimpleITK as sitk\n",
    "import nrrd\n",
    "import os\n",
    "import cv2\n",
    "import sys\n",
    "\n",
    "LOAD_PDDCA = False\n",
    "if LOAD_PDDCA:\n",
    "    # PDDCA\n",
    "    d =\"./data/PDDCA-1.4.1\"\n",
    "    pddca_dir_items = sorted([o for o in os.listdir(d) if os.path.isdir(os.path.join(d,o))])\n",
    "\n",
    "    ignore_items = ['0522c0014', '0522c0077', '0522c0079', '0522c0147', '0522c0159', '0522c0161', '0522c0190', '0522c0226', \n",
    "                    '0522c0329', '0522c0330', '0522c0427', '0522c0433', '0522c0441', '0522c0455', '0522c0457', '0522c0479']\n",
    "    print(f'Loading {len(pddca_dir_items) - len(ignore_items)} items')\n",
    "\n",
    "    pddca_items = list() \n",
    "    for item_id in pddca_dir_items:\n",
    "        if item_id in ignore_items:\n",
    "            # print(f\"pddca {item_id}: ignoring\")\n",
    "            continue\n",
    "\n",
    "        # parsing data\n",
    "        data_filepath = Path.joinpath(Path(d), f'./{item_id}/img.nrrd')\n",
    "        pddca_data, header = nrrd.read(data_filepath)\n",
    "        pddca_data = pddca_data.astype(np.int16)\n",
    "        pddca_data = np.transpose(pddca_data, axes=[2, 0, 1]).swapaxes(-2,-1)[...,::-1]\n",
    "\n",
    "        # parsing labels\n",
    "        oar_labels = [\"BrainStem\", \"Chiasm\", \"Mandible\", \"OpticNerve_L\", \"OpticNerve_R\", \"Parotid_L\", \"Parotid_R\", \"Submandibular_L\", \"Submandibular_R\"]\n",
    "        pddca_label = np.zeros(pddca_data.shape, dtype=np.int8)\n",
    "\n",
    "        for OAR_INDEX, OAR_KEY in enumerate(oar_labels):\n",
    "            label_filepath = Path.joinpath(Path(d), f'./{item_id}/structures/{OAR_KEY}.nrrd')\n",
    "            oar_pddca_label, header = nrrd.read(label_filepath)\n",
    "            oar_pddca_label = oar_pddca_label.astype(np.int8)\n",
    "            oar_pddca_label = np.transpose(oar_pddca_label, axes=[2, 0, 1]).swapaxes(-2,-1)[...,::-1]\n",
    "            pddca_label += oar_pddca_label*(OAR_INDEX+1)\n",
    "\n",
    "        # appending\n",
    "        pddca_items.append((pddca_data, pddca_label))\n",
    "        print(f\"pddca {item_id}: {pddca_data.max()}, {pddca_data.min()}, {pddca_label.max()}, {pddca_label.min()}, {pddca_data.dtype}, {pddca_label.dtype}, {pddca_data.shape}, {pddca_label.shape}\")\n",
    "\n",
    "    print('Done loading')"
   ]
  },
  {
   "cell_type": "code",
   "execution_count": 5,
   "metadata": {},
   "outputs": [],
   "source": [
    "LOAD_PDDCA = False\n",
    "if LOAD_PDDCA:\n",
    "    item_index = 1\n",
    "    pddca_data, pddca_label = pddca_items[item_index]\n",
    "\n",
    "    max_slices = pddca_data.shape[0]\n",
    "    def f(slice_index):    \n",
    "        plt.figure(figsize=(20, 20))\n",
    "        plt.subplot(2, 2, 1)\n",
    "        plt.imshow(pddca_data[slice_index], cmap=\"gray\")\n",
    "        plt.subplot(2, 2, 2)\n",
    "        plt.imshow(pddca_label[slice_index])\n",
    "        plt.subplot(2, 2, 3)\n",
    "\n",
    "        tmp_combine = np.stack((pddca_data[slice_index],) * 3, axis=-1)\n",
    "        tmp_combine -= tmp_combine.min()\n",
    "        tmp_combine = tmp_combine / tmp_combine.max()    \n",
    "        tmp = (pddca_label[slice_index] > 1) * 1\n",
    "        tmp_cond = tmp > 0\n",
    "        tmp_combine[tmp_cond, 0] = tmp[tmp_cond]\n",
    "\n",
    "        plt.imshow(tmp_combine)\n",
    "        plt.show()\n",
    "        print(f\"debug: {pddca_data.min()}, {pddca_data.max()}\")\n",
    "        print(f\"debug: {tmp_combine.min()}, {tmp_combine.max()}\")\n",
    "        print(f\"debug: unique {np.unique(pddca_label[slice_index])}\")\n",
    "\n",
    "    sliceSlider = widgets.IntSlider(min=0, max=max_slices - 1, step=1, value=(max_slices - 1) / 2)\n",
    "    ui = widgets.VBox([widgets.HBox([sliceSlider])])\n",
    "    out = widgets.interactive_output(f, {'slice_index': sliceSlider})\n",
    "    # noinspection PyTypeChecker\n",
    "    display(ui, out)"
   ]
  },
  {
   "cell_type": "markdown",
   "metadata": {},
   "source": [
    "# STRUCT SEG 2019"
   ]
  },
  {
   "cell_type": "code",
   "execution_count": 6,
   "metadata": {},
   "outputs": [
    {
     "name": "stdout",
     "output_type": "stream",
     "text": [
      "CUDA using 1x dataset\n",
      "filtering labels\n",
      "filtering labels done\n",
      "parsing dataset to numpy\n",
      "numpy parsing done\n"
     ]
    },
    {
     "data": {
      "text/plain": [
       "<src.dataset.han_oars_dataset.HaNOarsDataset at 0x7fc39f4e8df0>"
      ]
     },
     "execution_count": 6,
     "metadata": {},
     "output_type": "execute_result"
    }
   ],
   "source": [
    "filter_labels = OARS_LABELS.OARS_LABELS_LIST\n",
    "if OARS_LABELS.SPINAL_CORD in filter_labels:\n",
    "    filter_labels.remove(OARS_LABELS.SPINAL_CORD)\n",
    "\n",
    "full_res_dataset = get_dataset(dataset_size=50, shrink_factor=1, filter_labels=filter_labels, unify_labels=False)\n",
    "full_res_dataset.to_numpy()"
   ]
  },
  {
   "cell_type": "markdown",
   "metadata": {},
   "source": [
    "# Registration"
   ]
  },
  {
   "cell_type": "code",
   "execution_count": 7,
   "metadata": {},
   "outputs": [],
   "source": [
    "def get_registration_transform_sitk(fixed, moving, show=True):\n",
    "    \"\"\"https://simpleitk.readthedocs.io/en/master/link_ImageRegistrationMethod3_docs.html\"\"\"\n",
    "    def command_iteration(method):\n",
    "        if (method.GetOptimizerIteration() == 0):\n",
    "            print(\"Estimated Scales: \", method.GetOptimizerScales())\n",
    "        print(\"{0:3} = {1:7.5f} : {2}\".format(method.GetOptimizerIteration(),\n",
    "                                              method.GetMetricValue(),\n",
    "                                              method.GetOptimizerPosition()))\n",
    "\n",
    "    R = sitk.ImageRegistrationMethod()\n",
    "    R.SetMetricAsCorrelation()\n",
    "    R.SetOptimizerAsRegularStepGradientDescent(learningRate=2.0,\n",
    "                                               minStep=1e-4,\n",
    "                                               numberOfIterations=500,\n",
    "                                               gradientMagnitudeTolerance=1e-6)\n",
    "    R.SetOptimizerScalesFromIndexShift()\n",
    "    tx = sitk.CenteredTransformInitializer(fixed, moving, sitk.Similarity3DTransform())\n",
    "    R.SetInitialTransform(tx)\n",
    "    R.SetInterpolator(sitk.sitkLinear)\n",
    "    R.AddCommand(sitk.sitkIterationEvent, lambda: command_iteration(R))\n",
    "\n",
    "    output_transform = R.Execute(fixed, moving)\n",
    "\n",
    "    print(\"-------\")\n",
    "    print(output_transform)\n",
    "    print(\"Optimizer stop condition: {0}\".format(R.GetOptimizerStopConditionDescription()))\n",
    "    print(\" Iteration: {0}\".format(R.GetOptimizerIteration()))\n",
    "    print(\" Metric value: {0}\".format(R.GetMetricValue()))\n",
    "\n",
    "    if show:\n",
    "        resampler = sitk.ResampleImageFilter()\n",
    "        resampler.SetReferenceImage(fixed)\n",
    "        resampler.SetInterpolator(sitk.sitkLinear)\n",
    "        resampler.SetDefaultPixelValue(1)\n",
    "        resampler.SetTransform(output_transform)\n",
    "\n",
    "        out = resampler.Execute(moving)\n",
    "\n",
    "        simg1 = sitk.Cast(sitk.RescaleIntensity(fixed), sitk.sitkUInt8)\n",
    "        simg2 = sitk.Cast(sitk.RescaleIntensity(out), sitk.sitkUInt8)\n",
    "        cimg = sitk.Compose(simg1, simg2, simg1 // 2. + simg2 // 2.)\n",
    "        preview_3d_image(cimg)\n",
    "\n",
    "    return output_transform"
   ]
  },
  {
   "cell_type": "code",
   "execution_count": 8,
   "metadata": {
    "scrolled": true
   },
   "outputs": [],
   "source": [
    "if TRAIN_REGISTRATION:\n",
    "    fixed_data, fixed_label = pddca_items[0]\n",
    "    moving_data, moving_label = full_res_dataset.get_raw_item_with_label_filter(0)\n",
    "\n",
    "    fixed_data = fixed_data.astype(np.float32)\n",
    "    moving_data = moving_data.astype(np.float32)[0]\n",
    "    print(fixed_data.dtype, moving_data.dtype, fixed_data.shape, moving_data.shape)\n",
    "\n",
    "    fixed_sitk = sitk.GetImageFromArray(fixed_data)\n",
    "    moving_sitk = sitk.GetImageFromArray(moving_data)\n",
    "\n",
    "    output_transform = get_registration_transform_sitk(fixed_sitk, moving_sitk)"
   ]
  },
  {
   "cell_type": "code",
   "execution_count": 9,
   "metadata": {},
   "outputs": [],
   "source": [
    "if TRANSFORM_REGISTRATION:\n",
    "    def transform(image, transform):\n",
    "        ref_image = image\n",
    "        interpolator = sitk.sitkNearestNeighbor\n",
    "        default_value = 0\n",
    "        return sitk.Resample(image, ref_image, transform, interpolator, default_value)\n",
    "\n",
    "    fixed_label_sitk = sitk.GetImageFromArray(fixed_label)\n",
    "    trans_fixed_label = transform(fixed_label_sitk, output_transform.GetInverse())\n",
    "    trans_fixed_label_np = sitk.GetArrayFromImage(trans_fixed_label)"
   ]
  },
  {
   "cell_type": "code",
   "execution_count": 10,
   "metadata": {},
   "outputs": [],
   "source": [
    "if DISPLAY_REGISTRATION:\n",
    "    max_slices = trans_fixed_label_np.shape[0]\n",
    "\n",
    "    def f(slice_index):\n",
    "        plt.figure(figsize=(20, 20))\n",
    "        plt.subplot(2, 2, 1).title.set_text(\"Transformed label from atlas\")\n",
    "        plt.imshow(trans_fixed_label_np[slice_index])\n",
    "        plt.subplot(2, 2, 2).title.set_text(\"Dataset label\")\n",
    "        plt.imshow(moving_label[0, slice_index])\n",
    "        plt.show()\n",
    "\n",
    "    sliceSlider = widgets.IntSlider(min=0, max=max_slices - 1, step=1, value=(max_slices - 1) / 2)\n",
    "    ui = widgets.VBox([widgets.HBox([sliceSlider])])\n",
    "    out = widgets.interactive_output(f, {'slice_index': sliceSlider})\n",
    "    # noinspection PyTypeChecker\n",
    "    display(ui, out)"
   ]
  },
  {
   "cell_type": "markdown",
   "metadata": {},
   "source": [
    "# Atlas loading"
   ]
  },
  {
   "cell_type": "code",
   "execution_count": 11,
   "metadata": {},
   "outputs": [
    {
     "data": {
      "text/plain": [
       "((136, 120, 219), (136, 120, 219), (136, 120, 219), (136, 120, 219))"
      ]
     },
     "execution_count": 11,
     "metadata": {},
     "output_type": "execute_result"
    }
   ],
   "source": [
    "atlas_ri = sitk.GetArrayFromImage(sitk.ReadImage('./data/PDDCA-1.2-atlas/probabilistic_atlas/RI.mhd'))\n",
    "atlas_brainstem_map = sitk.GetArrayFromImage(sitk.ReadImage('./data/PDDCA-1.2-atlas/probabilistic_atlas/brain_stem_map.mhd'))\n",
    "atlas_left_parotid_map = sitk.GetArrayFromImage(sitk.ReadImage('./data/PDDCA-1.2-atlas/probabilistic_atlas/left_parotid_map.mhd'))\n",
    "atlas_right_parotid_map = sitk.GetArrayFromImage(sitk.ReadImage('./data/PDDCA-1.2-atlas/probabilistic_atlas/right_parotid_map.mhd'))\n",
    "\n",
    "atlas_ri.shape, atlas_brainstem_map.shape, atlas_left_parotid_map.shape, atlas_right_parotid_map.shape"
   ]
  },
  {
   "cell_type": "code",
   "execution_count": 12,
   "metadata": {},
   "outputs": [
    {
     "data": {
      "application/vnd.jupyter.widget-view+json": {
       "model_id": "4b05eb6f0cc7445b988192a3dc992d28",
       "version_major": 2,
       "version_minor": 0
      },
      "text/plain": [
       "VBox(children=(HBox(children=(IntSlider(value=67, max=135),)),))"
      ]
     },
     "metadata": {},
     "output_type": "display_data"
    },
    {
     "data": {
      "application/vnd.jupyter.widget-view+json": {
       "model_id": "d697e2581a1b46e397dfb7ce15411fd1",
       "version_major": 2,
       "version_minor": 0
      },
      "text/plain": [
       "Output()"
      ]
     },
     "metadata": {},
     "output_type": "display_data"
    }
   ],
   "source": [
    "max_slices = atlas_ri.shape[0]\n",
    "def f(slice_index):\n",
    "    plt.figure(figsize=(30, 16))\n",
    "    plt.subplot(2, 2, 1)\n",
    "    plt.imshow(atlas_ri[slice_index], cmap=\"gray\")\n",
    "    plt.subplot(2, 2, 2)\n",
    "    plt.imshow(atlas_brainstem_map[slice_index], cmap=\"gray\")\n",
    "    plt.subplot(2, 2, 3)\n",
    "    plt.imshow(atlas_left_parotid_map[slice_index], cmap=\"gray\")\n",
    "    plt.subplot(2, 2, 4)\n",
    "    plt.imshow(atlas_right_parotid_map[slice_index], cmap=\"gray\")\n",
    "    plt.show()\n",
    "\n",
    "sliceSlider = widgets.IntSlider(min=0, max=max_slices - 1, step=1, value=(max_slices - 1) / 2)\n",
    "ui = widgets.VBox([widgets.HBox([sliceSlider])])\n",
    "out = widgets.interactive_output(f, {'slice_index': sliceSlider})\n",
    "# noinspection PyTypeChecker\n",
    "display(ui, out)"
   ]
  },
  {
   "cell_type": "code",
   "execution_count": 13,
   "metadata": {},
   "outputs": [],
   "source": [
    "## TODO: register atlas to NN input, think about speeding up because of data augmentation\n",
    "## TODO: implement architecture CRNF"
   ]
  },
  {
   "cell_type": "code",
   "execution_count": 14,
   "metadata": {},
   "outputs": [
    {
     "data": {
      "text/plain": [
       "((136, 120, 219), [72, 192, 168])"
      ]
     },
     "execution_count": 14,
     "metadata": {},
     "output_type": "execute_result"
    }
   ],
   "source": [
    "atlas_ri.shape, DESIRE_BOUNDING_BOX_SIZE"
   ]
  }
 ],
 "metadata": {
  "kernelspec": {
   "display_name": "Python 3",
   "language": "python",
   "name": "python3"
  },
  "language_info": {
   "codemirror_mode": {
    "name": "ipython",
    "version": 3
   },
   "file_extension": ".py",
   "mimetype": "text/x-python",
   "name": "python",
   "nbconvert_exporter": "python",
   "pygments_lexer": "ipython3",
   "version": "3.8.5"
  }
 },
 "nbformat": 4,
 "nbformat_minor": 4
}

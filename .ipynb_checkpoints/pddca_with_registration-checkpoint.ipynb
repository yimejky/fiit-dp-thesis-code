{
 "cells": [
  {
   "cell_type": "code",
   "execution_count": 2,
   "metadata": {},
   "outputs": [
    {
     "name": "stdout",
     "output_type": "stream",
     "text": [
      "Dataset biggest bounding box wihtout spinal cord [56, 177, 156]\n",
      "Cut target size [72, 192, 168]\n",
      "Done Init\n"
     ]
    }
   ],
   "source": [
    "IN_COLAB = 'google.colab' in str(get_ipython())\n",
    "if IN_COLAB:\n",
    "    from google.colab import drive\n",
    "    drive.mount('/content/drive')\n",
    "    import sys\n",
    "    sys.path.append('/content/drive/My Drive/dp_tomastik/code')\n",
    "    !bash \"/content/drive/My Drive/dp_tomastik/code/scripts/install_libs.sh\"\n",
    "\n",
    "import matplotlib.pyplot as plt\n",
    "import torch\n",
    "import os\n",
    "import numpy as np\n",
    "import pandas as pd\n",
    "import logging\n",
    "import datetime\n",
    "from torchio import RandomAffine, Compose, ZNormalization\n",
    "\n",
    "\n",
    "\n",
    "from src.dataset import get_cut_lists\n",
    "from src.dataset import get_full_res_cut\n",
    "from src.dataset import get_dataset\n",
    "from src.dataset import get_dataset_info\n",
    "from src.dataset import get_dataset_transform\n",
    "from src.dataset import split_dataset, copy_split_dataset\n",
    "from src.dataset import OARS_LABELS\n",
    "\n",
    "from src.model_and_training import prepare_model\n",
    "from src.model_and_training import train_loop\n",
    "from src.model_and_training import show_model_info\n",
    "from src.model_and_training import load_checkpoint_model_info\n",
    "from src.model_and_training.getters import get_device\n",
    "\n",
    "from src.helpers import preview_dataset\n",
    "from src.helpers import get_threshold_info_df\n",
    "from src.helpers import preview_model_dataset_pred\n",
    "from src.helpers import show_cuda_usage\n",
    "from src.helpers import get_rescaled_preds\n",
    "from src.helpers import compare_prediction_with_ground_true, compare_one_prediction_with_ground_true\n",
    "from src.helpers import get_registration_transform_non_rigid_sitk\n",
    "from src.helpers import get_img_outliers_pixels\n",
    "from src.helpers import get_raw_with_prediction\n",
    "\n",
    "from src.consts import DATASET_MAX_BOUNDING_BOX, DESIRE_BOUNDING_BOX_SIZE\n",
    "\n",
    "\n",
    "from operator import itemgetter\n",
    "from IPython.display import display, Markdown\n",
    "from ipywidgets import widgets\n",
    "\n",
    "torch.manual_seed(20)\n",
    "logging.basicConfig(filename='logs/pdd_data_check.log', level=logging.DEBUG)\n",
    "\n",
    "print('Dataset biggest bounding box wihtout spinal cord', DATASET_MAX_BOUNDING_BOX)\n",
    "print('Cut target size', DESIRE_BOUNDING_BOX_SIZE)\n",
    "print('Done Init')"
   ]
  },
  {
   "cell_type": "code",
   "execution_count": 3,
   "metadata": {},
   "outputs": [],
   "source": [
    "TRAIN_REGISTRATION=True\n",
    "TRANSFORM_REGISTRATION=True\n",
    "DISPLAY_REGISTRATION=True"
   ]
  },
  {
   "cell_type": "markdown",
   "metadata": {},
   "source": [
    "# PDDCA"
   ]
  },
  {
   "cell_type": "code",
   "execution_count": 4,
   "metadata": {},
   "outputs": [],
   "source": [
    "def preview_3d_image(img):\n",
    "    if type(img) is sitk.SimpleITK.Image:\n",
    "        img = sitk.GetArrayFromImage(img)\n",
    "\n",
    "    max_slices = img.shape[0]\n",
    "    def f(slice_index):    \n",
    "        plt.figure(figsize=(16, 16))\n",
    "        plt.imshow(img[slice_index])\n",
    "        plt.show()\n",
    "        print(f\"debug: {img.min()}, {img.max()}\")\n",
    "        print(f\"debug: unique {np.unique(img[slice_index])}\")\n",
    "\n",
    "    sliceSlider = widgets.IntSlider(min=0, max=max_slices - 1, step=1, value=(max_slices - 1) / 2)\n",
    "    ui = widgets.VBox([widgets.HBox([sliceSlider])])\n",
    "    out = widgets.interactive_output(f, {'slice_index': sliceSlider})\n",
    "    # noinspection PyTypeChecker\n",
    "    display(ui, out)"
   ]
  },
  {
   "cell_type": "code",
   "execution_count": 5,
   "metadata": {},
   "outputs": [
    {
     "name": "stdout",
     "output_type": "stream",
     "text": [
      "Loading 32 items\n",
      "pddca 0522c0001: 3051, -1024, 16, 0, int16, int8, (107, 512, 512), (107, 512, 512)\n",
      "pddca 0522c0002: 3059, -1024, 9, 0, int16, int8, (130, 512, 512), (130, 512, 512)\n",
      "pddca 0522c0003: 3059, -1024, 9, 0, int16, int8, (134, 512, 512), (134, 512, 512)\n",
      "pddca 0522c0009: 3051, -1024, 9, 0, int16, int8, (144, 512, 512), (144, 512, 512)\n",
      "pddca 0522c0013: 3059, -1024, 9, 0, int16, int8, (138, 512, 512), (138, 512, 512)\n",
      "pddca 0522c0017: 2117, -1024, 10, 0, int16, int8, (156, 512, 512), (156, 512, 512)\n",
      "pddca 0522c0057: 2955, -1024, 9, 0, int16, int8, (145, 512, 512), (145, 512, 512)\n",
      "pddca 0522c0070: 3051, -1024, 9, 0, int16, int8, (128, 512, 512), (128, 512, 512)\n",
      "pddca 0522c0081: 3075, -1024, 9, 0, int16, int8, (160, 512, 512), (160, 512, 512)\n",
      "pddca 0522c0125: 3075, -1024, 16, 0, int16, int8, (76, 512, 512), (76, 512, 512)\n",
      "pddca 0522c0132: 3051, -1024, 9, 0, int16, int8, (115, 512, 512), (115, 512, 512)\n",
      "pddca 0522c0149: 2980, -1024, 9, 0, int16, int8, (129, 512, 512), (129, 512, 512)\n",
      "pddca 0522c0195: 3051, -1024, 9, 0, int16, int8, (130, 512, 512), (130, 512, 512)\n",
      "pddca 0522c0248: 3075, -1024, 9, 0, int16, int8, (176, 512, 512), (176, 512, 512)\n",
      "pddca 0522c0251: 2955, -1024, 9, 0, int16, int8, (119, 512, 512), (119, 512, 512)\n",
      "pddca 0522c0253: 2867, -1024, 9, 0, int16, int8, (160, 512, 512), (160, 512, 512)\n",
      "pddca 0522c0328: 2955, -1024, 9, 0, int16, int8, (194, 512, 512), (194, 512, 512)\n",
      "pddca 0522c0555: 2955, -1024, 9, 0, int16, int8, (263, 512, 512), (263, 512, 512)\n",
      "pddca 0522c0576: 3051, -1024, 9, 0, int16, int8, (204, 512, 512), (204, 512, 512)\n",
      "pddca 0522c0598: 3027, -1024, 9, 0, int16, int8, (135, 512, 512), (135, 512, 512)\n",
      "pddca 0522c0659: 3075, -1024, 16, 0, int16, int8, (165, 512, 512), (165, 512, 512)\n",
      "pddca 0522c0661: 3075, -1024, 9, 0, int16, int8, (151, 512, 512), (151, 512, 512)\n",
      "pddca 0522c0667: 3075, -1024, 9, 0, int16, int8, (146, 512, 512), (146, 512, 512)\n",
      "pddca 0522c0669: 3075, -1024, 9, 0, int16, int8, (137, 512, 512), (137, 512, 512)\n",
      "pddca 0522c0708: 3075, -1024, 9, 0, int16, int8, (159, 512, 512), (159, 512, 512)\n",
      "pddca 0522c0727: 3027, -1024, 9, 0, int16, int8, (131, 512, 512), (131, 512, 512)\n",
      "pddca 0522c0746: 2955, -1024, 9, 0, int16, int8, (109, 512, 512), (109, 512, 512)\n",
      "pddca 0522c0788: 3027, -1024, 9, 0, int16, int8, (131, 512, 512), (131, 512, 512)\n",
      "pddca 0522c0806: 3051, -1024, 9, 0, int16, int8, (124, 512, 512), (124, 512, 512)\n",
      "pddca 0522c0845: 3075, -1024, 9, 0, int16, int8, (167, 512, 512), (167, 512, 512)\n",
      "pddca 0522c0857: 3027, -1024, 9, 0, int16, int8, (151, 512, 512), (151, 512, 512)\n",
      "pddca 0522c0878: 3047, -1024, 9, 0, int16, int8, (132, 512, 512), (132, 512, 512)\n",
      "Done loading\n"
     ]
    }
   ],
   "source": [
    "from pathlib import Path\n",
    "import SimpleITK as sitk\n",
    "import nrrd\n",
    "import os\n",
    "import cv2\n",
    "import sys\n",
    "\n",
    "LOAD_PDDCA = True\n",
    "if LOAD_PDDCA:\n",
    "    # PDDCA\n",
    "    d =\"./data/PDDCA-1.4.1\"\n",
    "    pddca_dir_items = sorted([o for o in os.listdir(d) if os.path.isdir(os.path.join(d,o))])\n",
    "\n",
    "    ignore_items = ['0522c0014', '0522c0077', '0522c0079', '0522c0147', '0522c0159', '0522c0161', '0522c0190', '0522c0226', \n",
    "                    '0522c0329', '0522c0330', '0522c0427', '0522c0433', '0522c0441', '0522c0455', '0522c0457', '0522c0479']\n",
    "    print(f'Loading {len(pddca_dir_items) - len(ignore_items)} items')\n",
    "\n",
    "    pddca_items = list() \n",
    "    for item_id in pddca_dir_items:\n",
    "        if item_id in ignore_items:\n",
    "            # print(f\"pddca {item_id}: ignoring\")\n",
    "            continue\n",
    "\n",
    "        # parsing data\n",
    "        data_filepath = Path.joinpath(Path(d), f'./{item_id}/img.nrrd')\n",
    "        pddca_data, header = nrrd.read(data_filepath)\n",
    "        pddca_data = pddca_data.astype(np.int16)\n",
    "        pddca_data = np.transpose(pddca_data, axes=[2, 0, 1]).swapaxes(-2,-1)[...,::-1]\n",
    "\n",
    "        # parsing labels\n",
    "        oar_labels = [\"BrainStem\", \"Chiasm\", \"Mandible\", \"OpticNerve_L\", \"OpticNerve_R\", \"Parotid_L\", \"Parotid_R\", \"Submandibular_L\", \"Submandibular_R\"]\n",
    "        pddca_label = np.zeros(pddca_data.shape, dtype=np.int8)\n",
    "\n",
    "        for OAR_INDEX, OAR_KEY in enumerate(oar_labels):\n",
    "            label_filepath = Path.joinpath(Path(d), f'./{item_id}/structures/{OAR_KEY}.nrrd')\n",
    "            oar_pddca_label, header = nrrd.read(label_filepath)\n",
    "            oar_pddca_label = oar_pddca_label.astype(np.int8)\n",
    "            oar_pddca_label = np.transpose(oar_pddca_label, axes=[2, 0, 1]).swapaxes(-2,-1)[...,::-1]\n",
    "            pddca_label += oar_pddca_label*(OAR_INDEX+1)\n",
    "\n",
    "        # appending\n",
    "        pddca_items.append((pddca_data, pddca_label))\n",
    "        print(f\"pddca {item_id}: {pddca_data.max()}, {pddca_data.min()}, {pddca_label.max()}, {pddca_label.min()}, {pddca_data.dtype}, {pddca_label.dtype}, {pddca_data.shape}, {pddca_label.shape}\")\n",
    "\n",
    "    print('Done loading')"
   ]
  },
  {
   "cell_type": "code",
   "execution_count": 6,
   "metadata": {},
   "outputs": [
    {
     "data": {
      "text/plain": [
       "(132, 512, 512)"
      ]
     },
     "execution_count": 6,
     "metadata": {},
     "output_type": "execute_result"
    }
   ],
   "source": [
    "pddca_label.shape"
   ]
  },
  {
   "cell_type": "code",
   "execution_count": 7,
   "metadata": {},
   "outputs": [
    {
     "data": {
      "application/vnd.jupyter.widget-view+json": {
       "model_id": "26f7bb77924040f9aba64c36148ccb8f",
       "version_major": 2,
       "version_minor": 0
      },
      "text/plain": [
       "VBox(children=(HBox(children=(IntSlider(value=64, max=129),)),))"
      ]
     },
     "metadata": {},
     "output_type": "display_data"
    },
    {
     "data": {
      "application/vnd.jupyter.widget-view+json": {
       "model_id": "8c9f90dba8cd488da68eedbb2553fd14",
       "version_major": 2,
       "version_minor": 0
      },
      "text/plain": [
       "Output()"
      ]
     },
     "metadata": {},
     "output_type": "display_data"
    }
   ],
   "source": [
    "if LOAD_PDDCA:\n",
    "    item_index = 1\n",
    "    pddca_data, pddca_label = pddca_items[item_index]\n",
    "\n",
    "    max_slices = pddca_data.shape[0]\n",
    "    def f(slice_index):    \n",
    "        plt.figure(figsize=(20, 20))\n",
    "        plt.subplot(2, 2, 1)\n",
    "        plt.imshow(pddca_data[slice_index], cmap=\"gray\")\n",
    "        plt.subplot(2, 2, 2)\n",
    "        plt.imshow(pddca_label[slice_index])\n",
    "        plt.subplot(2, 2, 3)\n",
    "\n",
    "        tmp_combine = np.stack((pddca_data[slice_index],) * 3, axis=-1)\n",
    "        tmp_combine -= tmp_combine.min()\n",
    "        tmp_combine = tmp_combine / tmp_combine.max()    \n",
    "        tmp = (pddca_label[slice_index] > 1) * 1\n",
    "        tmp_cond = tmp > 0\n",
    "        tmp_combine[tmp_cond, 0] = tmp[tmp_cond]\n",
    "\n",
    "        plt.imshow(tmp_combine)\n",
    "        plt.show()\n",
    "        print(f\"debug: {pddca_data.min()}, {pddca_data.max()}\")\n",
    "        print(f\"debug: {tmp_combine.min()}, {tmp_combine.max()}\")\n",
    "        print(f\"debug: unique {np.unique(pddca_label[slice_index])}\")\n",
    "\n",
    "    sliceSlider = widgets.IntSlider(min=0, max=max_slices - 1, step=1, value=(max_slices - 1) / 2)\n",
    "    ui = widgets.VBox([widgets.HBox([sliceSlider])])\n",
    "    out = widgets.interactive_output(f, {'slice_index': sliceSlider})\n",
    "    # noinspection PyTypeChecker\n",
    "    display(ui, out)"
   ]
  },
  {
   "cell_type": "markdown",
   "metadata": {},
   "source": [
    "# STRUCT SEG 2019"
   ]
  },
  {
   "cell_type": "code",
   "execution_count": 8,
   "metadata": {},
   "outputs": [
    {
     "name": "stdout",
     "output_type": "stream",
     "text": [
      "CUDA using 4x dataset\n",
      "filtering labels\n",
      "filtering labels done\n",
      "parsing dataset to numpy\n",
      "numpy parsing done\n"
     ]
    },
    {
     "data": {
      "text/plain": [
       "<src.dataset.han_oars_dataset.HaNOarsDataset at 0x7f72a7e48f10>"
      ]
     },
     "execution_count": 8,
     "metadata": {},
     "output_type": "execute_result"
    }
   ],
   "source": [
    "filter_labels = OARS_LABELS.OARS_LABELS_LIST\n",
    "if OARS_LABELS.SPINAL_CORD in filter_labels:\n",
    "    filter_labels.remove(OARS_LABELS.SPINAL_CORD)\n",
    "\n",
    "full_res_dataset = get_dataset(dataset_size=50, shrink_factor=4, filter_labels=filter_labels, unify_labels=False)\n",
    "full_res_dataset.to_numpy()"
   ]
  },
  {
   "cell_type": "markdown",
   "metadata": {},
   "source": [
    "# Registration"
   ]
  },
  {
   "cell_type": "code",
   "execution_count": 9,
   "metadata": {},
   "outputs": [
    {
     "data": {
      "text/plain": [
       "((136, 120, 219), (136, 120, 219), (136, 120, 219), (136, 120, 219))"
      ]
     },
     "execution_count": 9,
     "metadata": {},
     "output_type": "execute_result"
    }
   ],
   "source": [
    "atlas_ri = sitk.GetArrayFromImage(sitk.ReadImage('./data/PDDCA-1.2-atlas/probabilistic_atlas/RI.mhd'))\n",
    "atlas_brainstem_map = sitk.GetArrayFromImage(sitk.ReadImage('./data/PDDCA-1.2-atlas/probabilistic_atlas/brain_stem_map.mhd'))\n",
    "atlas_left_parotid_map = sitk.GetArrayFromImage(sitk.ReadImage('./data/PDDCA-1.2-atlas/probabilistic_atlas/left_parotid_map.mhd'))\n",
    "atlas_right_parotid_map = sitk.GetArrayFromImage(sitk.ReadImage('./data/PDDCA-1.2-atlas/probabilistic_atlas/right_parotid_map.mhd'))\n",
    "\n",
    "atlas_ri.shape, atlas_brainstem_map.shape, atlas_left_parotid_map.shape, atlas_right_parotid_map.shape"
   ]
  },
  {
   "cell_type": "code",
   "execution_count": 10,
   "metadata": {},
   "outputs": [
    {
     "data": {
      "text/plain": [
       "((1, 160, 128, 128), (1, 160, 128, 128), (107, 512, 512), (107, 512, 512))"
      ]
     },
     "execution_count": 10,
     "metadata": {},
     "output_type": "execute_result"
    }
   ],
   "source": [
    "data, label = pddca_items[0]\n",
    "moving_data, moving_label = full_res_dataset.get_raw_item_with_label_filter(0)\n",
    "\n",
    "moving_data.shape, moving_label.shape, data.shape, label.shape"
   ]
  },
  {
   "cell_type": "code",
   "execution_count": 11,
   "metadata": {},
   "outputs": [],
   "source": [
    "from src.helpers import get_registration_transform_rigid_sitk, get_registration_transform_non_rigid_sitk"
   ]
  },
  {
   "cell_type": "code",
   "execution_count": 46,
   "metadata": {},
   "outputs": [
    {
     "name": "stdout",
     "output_type": "stream",
     "text": [
      "float32 float32 (160, 128, 128) (76, 120, 128)\n",
      "32-bit float 32-bit float\n",
      "--------- Resolution Changing ---------\n",
      "itk::simple::BSplineTransform\n",
      " BSplineTransform (0xda7e8f0)\n",
      "   RTTI typeinfo:   itk::BSplineTransform<double, 3u, 3u>\n",
      "   Reference Count: 9\n",
      "   Modified Time: 253510\n",
      "   Debug: Off\n",
      "   Object Name: \n",
      "   Observers: \n",
      "     none\n",
      "   CoefficientImage: [ 0xdb59300, 0xe148130, 0x2abb7700 ]\n",
      "   TransformDomainOrigin: [1.5, 1.5, 1.5]\n",
      "   TransformDomainPhysicalDimensions: [127, 127, 159]\n",
      "   TransformDomainDirection: 1 0 0\n",
      "0 1 0\n",
      "0 0 1\n",
      "\n",
      "   GridSize: [5, 5, 5]\n",
      "   GridOrigin: [-62, -62, -78]\n",
      "   GridSpacing: [63.5, 63.5, 79.5]\n",
      "   GridDirection: 1 0 0\n",
      "0 1 0\n",
      "0 0 1\n",
      "\n",
      "\n",
      "  0 =   -0.32657\n",
      "  1 =   -0.32690\n",
      "  2 =   -0.32680\n",
      "  3 =   -0.32678\n",
      "Optimizer stop condition: GradientDescentLineSearchOptimizerv4Template: Convergence checker passed at iteration 4.\n",
      " Iteration: 4\n",
      " Metric value: -0.3268974499241361\n",
      "--------- Resolution Changing ---------\n",
      "itk::simple::BSplineTransform\n",
      " BSplineTransform (0xda7e8f0)\n",
      "   RTTI typeinfo:   itk::BSplineTransform<double, 3u, 3u>\n",
      "   Reference Count: 9\n",
      "   Modified Time: 284724\n",
      "   Debug: Off\n",
      "   Object Name: \n",
      "   Observers: \n",
      "     none\n",
      "   CoefficientImage: [ 0xdb59300, 0xe148130, 0x2abb7700 ]\n",
      "   TransformDomainOrigin: [0.5, 0.5, 0.5]\n",
      "   TransformDomainPhysicalDimensions: [127, 127, 159]\n",
      "   TransformDomainDirection: 1 0 0\n",
      "0 1 0\n",
      "0 0 1\n",
      "\n",
      "   GridSize: [7, 7, 7]\n",
      "   GridOrigin: [-31.25, -31.25, -39.25]\n",
      "   GridSpacing: [31.75, 31.75, 39.75]\n",
      "   GridDirection: 1 0 0\n",
      "0 1 0\n",
      "0 0 1\n",
      "\n",
      "\n",
      "  0 =   -0.29855\n",
      "  1 =   -0.29853\n",
      "  2 =   -0.29849\n",
      "  3 =   -0.29843\n",
      "Optimizer stop condition: GradientDescentLineSearchOptimizerv4Template: Convergence checker passed at iteration 4.\n",
      " Iteration: 4\n",
      " Metric value: -0.29854960576573375\n",
      "--------- Resolution Changing ---------\n",
      "itk::simple::BSplineTransform\n",
      " BSplineTransform (0xda7e8f0)\n",
      "   RTTI typeinfo:   itk::BSplineTransform<double, 3u, 3u>\n",
      "   Reference Count: 9\n",
      "   Modified Time: 315928\n",
      "   Debug: Off\n",
      "   Object Name: \n",
      "   Observers: \n",
      "     none\n",
      "   CoefficientImage: [ 0xdb59300, 0xe148130, 0x2abb7700 ]\n",
      "   TransformDomainOrigin: [0, 0, 0]\n",
      "   TransformDomainPhysicalDimensions: [127, 127, 159]\n",
      "   TransformDomainDirection: 1 0 0\n",
      "0 1 0\n",
      "0 0 1\n",
      "\n",
      "   GridSize: [13, 13, 13]\n",
      "   GridOrigin: [-12.7, -12.7, -15.9]\n",
      "   GridSpacing: [12.7, 12.7, 15.9]\n",
      "   GridDirection: 1 0 0\n",
      "0 1 0\n",
      "0 0 1\n",
      "\n",
      "\n",
      "  0 =   -0.21762\n",
      "  1 =   -0.21762\n",
      "  2 =   -0.21762\n",
      "  3 =   -0.21762\n",
      "-------\n",
      "itk::simple::BSplineTransform\n",
      " BSplineTransform (0xda7e8f0)\n",
      "   RTTI typeinfo:   itk::BSplineTransform<double, 3u, 3u>\n",
      "   Reference Count: 3\n",
      "   Modified Time: 337554\n",
      "   Debug: Off\n",
      "   Object Name: \n",
      "   Observers: \n",
      "     none\n",
      "   CoefficientImage: [ 0xdb59300, 0xe148130, 0x2abb7700 ]\n",
      "   TransformDomainOrigin: [0, 0, 0]\n",
      "   TransformDomainPhysicalDimensions: [127, 127, 159]\n",
      "   TransformDomainDirection: 1 0 0\n",
      "0 1 0\n",
      "0 0 1\n",
      "\n",
      "   GridSize: [13, 13, 13]\n",
      "   GridOrigin: [-12.7, -12.7, -15.9]\n",
      "   GridSpacing: [12.7, 12.7, 15.9]\n",
      "   GridDirection: 1 0 0\n",
      "0 1 0\n",
      "0 0 1\n",
      "\n",
      "\n",
      "itk::simple::Transform\n",
      " BSplineTransform (0xda7e8f0)\n",
      "   RTTI typeinfo:   itk::BSplineTransform<double, 3u, 3u>\n",
      "   Reference Count: 3\n",
      "   Modified Time: 337554\n",
      "   Debug: Off\n",
      "   Object Name: \n",
      "   Observers: \n",
      "     none\n",
      "   CoefficientImage: [ 0xdb59300, 0xe148130, 0x2abb7700 ]\n",
      "   TransformDomainOrigin: [0, 0, 0]\n",
      "   TransformDomainPhysicalDimensions: [127, 127, 159]\n",
      "   TransformDomainDirection: 1 0 0\n",
      "0 1 0\n",
      "0 0 1\n",
      "\n",
      "   GridSize: [13, 13, 13]\n",
      "   GridOrigin: [-12.7, -12.7, -15.9]\n",
      "   GridSpacing: [12.7, 12.7, 15.9]\n",
      "   GridDirection: 1 0 0\n",
      "0 1 0\n",
      "0 0 1\n",
      "\n",
      "\n",
      "Optimizer stop condition: GradientDescentLineSearchOptimizerv4Template: Convergence checker passed at iteration 4.\n",
      " Iteration: 4\n",
      " Metric value: -0.21761713596527527\n"
     ]
    },
    {
     "data": {
      "application/vnd.jupyter.widget-view+json": {
       "model_id": "6a3310a19bf941efb5a4b7f4ea67691c",
       "version_major": 2,
       "version_minor": 0
      },
      "text/plain": [
       "VBox(children=(HBox(children=(IntSlider(value=79, max=159),)),))"
      ]
     },
     "metadata": {},
     "output_type": "display_data"
    },
    {
     "data": {
      "application/vnd.jupyter.widget-view+json": {
       "model_id": "5f923abc7edf43e6af3a815f09015d7b",
       "version_major": 2,
       "version_minor": 0
      },
      "text/plain": [
       "Output()"
      ]
     },
     "metadata": {},
     "output_type": "display_data"
    }
   ],
   "source": [
    "if TRAIN_REGISTRATION:\n",
    "    fixed_data, fixed_label = full_res_dataset.get_raw_item_with_label_filter(0)\n",
    "    moving_data, moving_label = (atlas_ri[60:, :, 46:-45], atlas_brainstem_map[60:, :, 46:-45])\n",
    "\n",
    "    fixed_data = fixed_data.astype(np.float32)[0]\n",
    "    moving_data = moving_data.astype(np.float32)\n",
    "    print(fixed_data.dtype, moving_data.dtype, fixed_data.shape, moving_data.shape)\n",
    "\n",
    "    fixed_data_sitk = sitk.GetImageFromArray(fixed_data)\n",
    "    moving_data_sitk = sitk.GetImageFromArray(moving_data)\n",
    "\n",
    "    # output_transform = get_registration_transform_rigid_sitk(fixed_data_sitk, moving_data_sitk, show=True)\n",
    "    output_transform = get_registration_transform_non_rigid_sitk(fixed_data_sitk, moving_data_sitk, show=True)"
   ]
  },
  {
   "cell_type": "code",
   "execution_count": 26,
   "metadata": {},
   "outputs": [],
   "source": [
    "if TRANSFORM_REGISTRATION:\n",
    "    moving_label_sitk = sitk.GetImageFromArray(moving_label)\n",
    "    trans_fixed_label = transform_sitk(fixed_data_sitk, moving_label_sitk, output_transform)\n",
    "    trans_fixed_label_np = sitk.GetArrayFromImage(trans_fixed_label)"
   ]
  },
  {
   "cell_type": "code",
   "execution_count": 28,
   "metadata": {},
   "outputs": [
    {
     "data": {
      "application/vnd.jupyter.widget-view+json": {
       "model_id": "d0911d5ea5d7413797a1c3a9b4958000",
       "version_major": 2,
       "version_minor": 0
      },
      "text/plain": [
       "VBox(children=(HBox(children=(IntSlider(value=79, max=159),)),))"
      ]
     },
     "metadata": {},
     "output_type": "display_data"
    },
    {
     "data": {
      "application/vnd.jupyter.widget-view+json": {
       "model_id": "af4f14b28c9142f4b5faaa73157410e9",
       "version_major": 2,
       "version_minor": 0
      },
      "text/plain": [
       "Output()"
      ]
     },
     "metadata": {},
     "output_type": "display_data"
    }
   ],
   "source": [
    "if DISPLAY_REGISTRATION:\n",
    "    max_slices = trans_fixed_label_np.shape[0]\n",
    "\n",
    "    def f(slice_index):\n",
    "        plt.figure(figsize=(20, 20))\n",
    "        plt.subplot(2, 2, 1).title.set_text(\"Transformed label from atlas\")\n",
    "        plt.imshow(trans_fixed_label_np[slice_index])\n",
    "        plt.subplot(2, 2, 2).title.set_text(\"Dataset label\")\n",
    "        plt.imshow(moving_label[slice_index])\n",
    "        plt.show()\n",
    "\n",
    "    sliceSlider = widgets.IntSlider(min=0, max=max_slices - 1, step=1, value=(max_slices - 1) / 2)\n",
    "    ui = widgets.VBox([widgets.HBox([sliceSlider])])\n",
    "    out = widgets.interactive_output(f, {'slice_index': sliceSlider})\n",
    "    # noinspection PyTypeChecker\n",
    "    display(ui, out)"
   ]
  },
  {
   "cell_type": "markdown",
   "metadata": {},
   "source": [
    "# Atlas loading"
   ]
  },
  {
   "cell_type": "code",
   "execution_count": null,
   "metadata": {},
   "outputs": [],
   "source": [
    "atlas_ri = sitk.GetArrayFromImage(sitk.ReadImage('./data/PDDCA-1.2-atlas/probabilistic_atlas/RI.mhd'))\n",
    "atlas_brainstem_map = sitk.GetArrayFromImage(sitk.ReadImage('./data/PDDCA-1.2-atlas/probabilistic_atlas/brain_stem_map.mhd'))\n",
    "atlas_left_parotid_map = sitk.GetArrayFromImage(sitk.ReadImage('./data/PDDCA-1.2-atlas/probabilistic_atlas/left_parotid_map.mhd'))\n",
    "atlas_right_parotid_map = sitk.GetArrayFromImage(sitk.ReadImage('./data/PDDCA-1.2-atlas/probabilistic_atlas/right_parotid_map.mhd'))\n",
    "\n",
    "atlas_ri.shape, atlas_brainstem_map.shape, atlas_left_parotid_map.shape, atlas_right_parotid_map.shape"
   ]
  },
  {
   "cell_type": "code",
   "execution_count": null,
   "metadata": {},
   "outputs": [],
   "source": [
    "max_slices = atlas_ri.shape[0]\n",
    "def f(slice_index):\n",
    "    plt.figure(figsize=(30, 16))\n",
    "    plt.subplot(2, 2, 1)\n",
    "    plt.imshow(atlas_ri[slice_index], cmap=\"gray\")\n",
    "    plt.subplot(2, 2, 2)\n",
    "    plt.imshow(atlas_brainstem_map[slice_index], cmap=\"gray\")\n",
    "    plt.subplot(2, 2, 3)\n",
    "    plt.imshow(atlas_left_parotid_map[slice_index], cmap=\"gray\")\n",
    "    plt.subplot(2, 2, 4)\n",
    "    plt.imshow(atlas_right_parotid_map[slice_index], cmap=\"gray\")\n",
    "    plt.show()\n",
    "\n",
    "sliceSlider = widgets.IntSlider(min=0, max=max_slices - 1, step=1, value=(max_slices - 1) / 2)\n",
    "ui = widgets.VBox([widgets.HBox([sliceSlider])])\n",
    "out = widgets.interactive_output(f, {'slice_index': sliceSlider})\n",
    "# noinspection PyTypeChecker\n",
    "display(ui, out)"
   ]
  },
  {
   "cell_type": "code",
   "execution_count": null,
   "metadata": {},
   "outputs": [],
   "source": [
    "## TODO: register atlas to NN input, think about speeding up because of data augmentation\n",
    "## TODO: implement architecture CRNF"
   ]
  },
  {
   "cell_type": "code",
   "execution_count": null,
   "metadata": {},
   "outputs": [],
   "source": [
    "atlas_ri.shape, DESIRE_BOUNDING_BOX_SIZE"
   ]
  }
 ],
 "metadata": {
  "kernelspec": {
   "display_name": "Python 3",
   "language": "python",
   "name": "python3"
  },
  "language_info": {
   "codemirror_mode": {
    "name": "ipython",
    "version": 3
   },
   "file_extension": ".py",
   "mimetype": "text/x-python",
   "name": "python",
   "nbconvert_exporter": "python",
   "pygments_lexer": "ipython3",
   "version": "3.8.5"
  }
 },
 "nbformat": 4,
 "nbformat_minor": 4
}

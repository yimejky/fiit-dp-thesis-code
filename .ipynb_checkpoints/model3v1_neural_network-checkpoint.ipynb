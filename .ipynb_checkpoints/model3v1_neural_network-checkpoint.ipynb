{
 "cells": [
  {
   "cell_type": "code",
   "execution_count": 1,
   "metadata": {},
   "outputs": [
    {
     "name": "stdout",
     "output_type": "stream",
     "text": [
      "If you use TorchIO for your research, please cite the following paper:\n",
      "Pérez-García et al., TorchIO: a Python library for efficient loading,\n",
      "preprocessing, augmentation and patch-based sampling of medical images\n",
      "in deep learning. Credits instructions: https://torchio.readthedocs.io/#credits\n",
      "\n",
      "Dataset biggest bounding box wihtout spinal cord [56, 177, 156]\n",
      "Cut target size [72, 192, 168]\n",
      "Done Init\n"
     ]
    }
   ],
   "source": [
    "IN_COLAB = 'google.colab' in str(get_ipython())\n",
    "if IN_COLAB:\n",
    "    from google.colab import drive\n",
    "    drive.mount('/content/drive')\n",
    "    import sys\n",
    "    sys.path.append('/content/drive/My Drive/dp_tomastik/code')\n",
    "    !bash \"/content/drive/My Drive/dp_tomastik/code/scripts/install_libs.sh\"\n",
    "\n",
    "import matplotlib.pyplot as plt\n",
    "import torch\n",
    "import os\n",
    "import numpy as np\n",
    "import pandas as pd\n",
    "import logging\n",
    "import datetime\n",
    "from torchio import RandomAffine, Compose, ZNormalization\n",
    "\n",
    "import src.dataset.oars_labels_consts as OARS_LABELS\n",
    "from src.consts import DATASET_MAX_BOUNDING_BOX, DESIRE_BOUNDING_BOX_SIZE\n",
    "from src.helpers.threshold_calc_helpers import get_threshold_info_df\n",
    "from src.helpers.show_model_dataset_pred_preview import show_model_dataset_pred_preview\n",
    "from src.dataset.get_cut_lists import get_cut_lists\n",
    "from src.dataset.get_full_res_cut import get_full_res_cut\n",
    "from src.dataset.get_dataset import get_dataset\n",
    "from src.dataset.get_dataset_info import get_dataset_info\n",
    "from src.dataset.preview_dataset import preview_dataset\n",
    "from src.dataset.get_dataset_transform import get_dataset_transform\n",
    "from src.model_and_training.prepare_model import prepare_model\n",
    "from src.model_and_training.train_loop import train_loop\n",
    "from src.model_and_training.show_model_info import show_model_info\n",
    "from src.model_and_training.load_checkpoint_model_info import load_checkpoint_model_info\n",
    "from src.helpers.show_cuda_usage import show_cuda_usage\n",
    "from src.helpers.get_rescaled_pred import get_rescaled_preds\n",
    "from src.dataset.split_dataset import split_dataset, copy_split_dataset\n",
    "from src.helpers.compare_prediction_with_ground_true import compare_prediction_with_ground_true, compare_one_prediction_with_ground_true\n",
    "from src.helpers.get_img_outliers_pixels import get_img_outliers_pixels\n",
    "from src.helpers.get_raw_with_prediction import get_raw_with_prediction\n",
    "from src.model_and_training.getters.get_device import get_device\n",
    "\n",
    "\n",
    "from operator import itemgetter\n",
    "from IPython.display import display, Markdown\n",
    "from ipywidgets import widgets\n",
    "\n",
    "torch.manual_seed(20)\n",
    "logging.basicConfig(filename='logs/unetv3_model.log', level=logging.DEBUG)\n",
    "\n",
    "print('Dataset biggest bounding box wihtout spinal cord', DATASET_MAX_BOUNDING_BOX)\n",
    "print('Cut target size', DESIRE_BOUNDING_BOX_SIZE)\n",
    "print('Done Init')"
   ]
  },
  {
   "cell_type": "markdown",
   "metadata": {},
   "source": [
    "# Dataset loading"
   ]
  },
  {
   "cell_type": "code",
   "execution_count": 2,
   "metadata": {},
   "outputs": [
    {
     "name": "stdout",
     "output_type": "stream",
     "text": [
      "CUDA using 8x dataset\n",
      "filtering labels\n",
      "filtering labels done\n",
      "parsing dataset to numpy\n",
      "numpy parsing done\n",
      "train 40, valid_size 5, test 5, full 50\n",
      "train indices [0, 1, 2, 3, 4, 5, 7, 8, 9, 10, 11, 12, 14, 15, 17, 18, 20, 21, 22, 23, 24, 28, 30, 31, 32, 33, 34, 35, 36, 37, 40, 41, 42, 43, 44, 45, 46, 47, 48, 49]\n",
      "valid indices [6, 13, 19, 25, 38]\n",
      "test indices [16, 26, 27, 29, 39]\n"
     ]
    }
   ],
   "source": [
    "# filter_labels = [OARS_LABELS.EYE_L, OARS_LABELS.EYE_R, OARS_LABELS.LENS_L, OARS_LABELS.LENS_R]\n",
    "filter_labels = OARS_LABELS.OARS_LABELS_LIST\n",
    "if OARS_LABELS.SPINAL_CORD in filter_labels:\n",
    "    filter_labels.remove(OARS_LABELS.SPINAL_CORD)\n",
    "dataset = get_dataset(shrink_factor=8, filter_labels=filter_labels)\n",
    "\n",
    "dataset.to_numpy()\n",
    "split_dataset_obj = split_dataset(dataset)\n",
    "\n",
    "get_dataset_info(dataset, split_dataset_obj)\n",
    "train_dataset, valid_dataset, test_dataset = itemgetter('train_dataset', 'valid_dataset', 'test_dataset')(split_dataset_obj)"
   ]
  },
  {
   "cell_type": "markdown",
   "metadata": {},
   "source": [
    "# UNetV3"
   ]
  },
  {
   "cell_type": "code",
   "execution_count": 3,
   "metadata": {},
   "outputs": [
    {
     "name": "stdout",
     "output_type": "stream",
     "text": [
      "data max 3071, min -1024\n",
      "label max 1, min 0\n"
     ]
    },
    {
     "data": {
      "application/vnd.jupyter.widget-view+json": {
       "model_id": "d0d18a0dd52741848dbe3089d3ad9216",
       "version_major": 2,
       "version_minor": 0
      },
      "text/plain": [
       "VBox(children=(HBox(children=(IntSlider(value=79, max=159), IntSlider(value=0, max=0))),))"
      ]
     },
     "metadata": {},
     "output_type": "display_data"
    },
    {
     "data": {
      "application/vnd.jupyter.widget-view+json": {
       "model_id": "93323cc3fb6746aab8069732c750e96f",
       "version_major": 2,
       "version_minor": 0
      },
      "text/plain": [
       "Output()"
      ]
     },
     "metadata": {},
     "output_type": "display_data"
    }
   ],
   "source": [
    "preview_dataset(dataset, preview_index=2, show_hist=False)"
   ]
  },
  {
   "cell_type": "code",
   "execution_count": 4,
   "metadata": {},
   "outputs": [],
   "source": [
    "from src.model_and_training.unet_architecture_v3 import UNetV3\n",
    "from src.model_and_training.unet_architecture_v3v1 import UNetV3v1\n",
    "from src.model_and_training.unet_architecture_v2 import UNetV2\n",
    "\n",
    "TRAIN_MODEL3=False\n",
    "if TRAIN_MODEL3:\n",
    "    log_date = datetime.datetime.now().strftime(\"%Y%m%d-%H%M%S\")\n",
    "    model_name = f'{log_date}_3d_unet_model3'\n",
    "\n",
    "    print(f'Training model with dataset MODEL3')\n",
    "    print(f'folder \\'{model_name}\\'')\n",
    "    model_info = prepare_model(epochs=50,\n",
    "                               learning_rate=1e-5,\n",
    "                               in_channels=8,\n",
    "                               input_data_channels=1,\n",
    "                               output_label_channels=1,\n",
    "                               dropout_rate=0.2,\n",
    "                               train_batch_size=1,\n",
    "                               model_name=model_name,\n",
    "                               train_dataset=train_dataset, \n",
    "                               valid_dataset=valid_dataset, \n",
    "                               test_dataset=test_dataset,\n",
    "                               model_class=UNetV3v1) # UNetV3, UNetV3v1\n",
    "    show_model_info(model_info)\n",
    "    print('\\n\\n')\n",
    "    train_loop(model_info)\n",
    "    print('\\n\\n')\n",
    "    \n",
    "    # loading model checkpoint\n",
    "    model_info = model_info\n",
    "\n",
    "    # moving model to cpu/cuda with eval mode\n",
    "    model_info['device'] = 'cpu'\n",
    "    model_info['model'] = model_info['model'].to(model_info['device'])\n",
    "    model_info['model'].eval()\n",
    "\n",
    "    # preview\n",
    "    MAX_PADDING_SLICES=160\n",
    "\n",
    "    display((Markdown(\"## Model evaluation\"),))\n",
    "\n",
    "    display((Markdown(\"### Train Eval\"),))\n",
    "    show_model_dataset_pred_preview(model_info, train_dataset, max_slices=MAX_PADDING_SLICES, default_slice=90)\n",
    "\n",
    "    display((Markdown(\"### Valid Eval\"),))\n",
    "    show_model_dataset_pred_preview(model_info, valid_dataset, max_slices=MAX_PADDING_SLICES, default_slice=90)\n",
    "\n",
    "    # display(Markdown(\"### Test Eval\"))\n",
    "    # eval_image_dataset(test_dataset, 78, 'test_plot.png')\n",
    "    \n",
    "# UNetV3\n",
    "# Epoch [50] train done\n",
    "# Batch eval [1] loss 0.37472, dsc 0.62528\n",
    "# Batch eval [2] loss 0.39908, dsc 0.60092\n",
    "# Batch eval [3] loss 0.39951, dsc 0.60049\n",
    "# Batch eval [4] loss 0.38327, dsc 0.61673\n",
    "# Batch eval [5] loss 0.36132, dsc 0.63868\n",
    "# Epoch [50] valid done\n",
    "# Epoch [50] T 2145.86s, deltaT 43.58s, loss: train 0.33236, valid 0.38358, dsc: train 0.66764, valid 0.61642\n",
    "\n",
    "# UNetV2\n",
    "# Epoch [50] train done\n",
    "# Batch eval [1] loss 0.23973, dsc 0.76027\n",
    "# Batch eval [2] loss 0.24580, dsc 0.75420\n",
    "# Batch eval [3] loss 0.25798, dsc 0.74202\n",
    "# Batch eval [4] loss 0.24973, dsc 0.75027\n",
    "# Batch eval [5] loss 0.26769, dsc 0.73231\n",
    "# Epoch [50] valid done\n",
    "# Epoch [50] T 1410.82s, deltaT 28.02s, loss: train 0.20945, valid 0.25219, dsc: train 0.79055, valid 0.74781\n",
    "\n",
    "\n",
    "# UNetV3 - 20210301-115221_3d_unet_model3\n",
    "# Without channel expansion\n",
    "# Epoch [50] train done\n",
    "# Batch eval [1] loss 0.38633, dsc 0.61367\n",
    "# Batch eval [2] loss 0.37051, dsc 0.62949\n",
    "# Batch eval [3] loss 0.39343, dsc 0.60657\n",
    "# Batch eval [4] loss 0.37833, dsc 0.62167\n",
    "# Batch eval [5] loss 0.36725, dsc 0.63275\n",
    "# Epoch [50] valid done\n",
    "# Epoch [50] T 2363.05s, deltaT 42.47s, loss: train 0.33946, valid 0.37917, dsc: train 0.66054, valid 0.62083\n",
    "# Elapsed time 0:39:23"
   ]
  },
  {
   "cell_type": "markdown",
   "metadata": {},
   "source": [
    "## UNet V3v1"
   ]
  },
  {
   "cell_type": "code",
   "execution_count": 5,
   "metadata": {},
   "outputs": [
    {
     "data": {
      "text/plain": [
       "UNetV3v1(\n",
       "  (dconv_down1): Sequential(\n",
       "    (0): Sequential(\n",
       "      (0): Conv3d(1, 8, kernel_size=(3, 3, 3), stride=(1, 1, 1), padding=(1, 1, 1))\n",
       "      (1): BatchNorm3d(8, eps=1e-05, momentum=0.1, affine=True, track_running_stats=True)\n",
       "      (2): ReLU(inplace=True)\n",
       "      (3): Conv3d(8, 16, kernel_size=(3, 3, 3), stride=(1, 1, 1), padding=(1, 1, 1))\n",
       "      (4): BatchNorm3d(16, eps=1e-05, momentum=0.1, affine=True, track_running_stats=True)\n",
       "      (5): ReLU(inplace=True)\n",
       "    )\n",
       "    (1): Dropout(p=0.2, inplace=False)\n",
       "  )\n",
       "  (cse_down1): Sequential(\n",
       "    (0): Linear(in_features=16, out_features=8, bias=True)\n",
       "    (1): Linear(in_features=8, out_features=16, bias=True)\n",
       "    (2): Sigmoid()\n",
       "  )\n",
       "  (dconv_atten1): Sequential(\n",
       "    (0): Conv3d(16, 1, kernel_size=(1, 1, 1), stride=(1, 1, 1))\n",
       "    (1): BatchNorm3d(1, eps=1e-05, momentum=0.1, affine=True, track_running_stats=True)\n",
       "    (2): Sigmoid()\n",
       "  )\n",
       "  (pool1): MaxPool3d(kernel_size=2, stride=2, padding=0, dilation=1, ceil_mode=True)\n",
       "  (atten_pool1): MaxPool3d(kernel_size=2, stride=2, padding=0, dilation=1, ceil_mode=True)\n",
       "  (dconv_down2): Sequential(\n",
       "    (0): Sequential(\n",
       "      (0): Conv3d(16, 16, kernel_size=(3, 3, 3), stride=(1, 1, 1), padding=(1, 1, 1))\n",
       "      (1): BatchNorm3d(16, eps=1e-05, momentum=0.1, affine=True, track_running_stats=True)\n",
       "      (2): ReLU(inplace=True)\n",
       "      (3): Conv3d(16, 32, kernel_size=(3, 3, 3), stride=(1, 1, 1), padding=(1, 1, 1))\n",
       "      (4): BatchNorm3d(32, eps=1e-05, momentum=0.1, affine=True, track_running_stats=True)\n",
       "      (5): ReLU(inplace=True)\n",
       "    )\n",
       "    (1): Dropout(p=0.2, inplace=False)\n",
       "  )\n",
       "  (cse_down2): Sequential(\n",
       "    (0): Linear(in_features=32, out_features=16, bias=True)\n",
       "    (1): Linear(in_features=16, out_features=32, bias=True)\n",
       "    (2): Sigmoid()\n",
       "  )\n",
       "  (dconv_atten2): Sequential(\n",
       "    (0): Conv3d(32, 1, kernel_size=(1, 1, 1), stride=(1, 1, 1))\n",
       "    (1): BatchNorm3d(1, eps=1e-05, momentum=0.1, affine=True, track_running_stats=True)\n",
       "    (2): Sigmoid()\n",
       "  )\n",
       "  (dconv_merge_atten2): Sequential(\n",
       "    (0): Conv3d(2, 1, kernel_size=(1, 1, 1), stride=(1, 1, 1))\n",
       "    (1): BatchNorm3d(1, eps=1e-05, momentum=0.1, affine=True, track_running_stats=True)\n",
       "    (2): Sigmoid()\n",
       "  )\n",
       "  (pool2): MaxPool3d(kernel_size=2, stride=2, padding=0, dilation=1, ceil_mode=True)\n",
       "  (atten_pool2): MaxPool3d(kernel_size=2, stride=2, padding=0, dilation=1, ceil_mode=True)\n",
       "  (dconv_down3): Sequential(\n",
       "    (0): Sequential(\n",
       "      (0): Conv3d(32, 32, kernel_size=(3, 3, 3), stride=(1, 1, 1), padding=(1, 1, 1))\n",
       "      (1): BatchNorm3d(32, eps=1e-05, momentum=0.1, affine=True, track_running_stats=True)\n",
       "      (2): ReLU(inplace=True)\n",
       "      (3): Conv3d(32, 64, kernel_size=(3, 3, 3), stride=(1, 1, 1), padding=(1, 1, 1))\n",
       "      (4): BatchNorm3d(64, eps=1e-05, momentum=0.1, affine=True, track_running_stats=True)\n",
       "      (5): ReLU(inplace=True)\n",
       "    )\n",
       "    (1): Dropout(p=0.2, inplace=False)\n",
       "  )\n",
       "  (cse_down3): Sequential(\n",
       "    (0): Linear(in_features=64, out_features=32, bias=True)\n",
       "    (1): Linear(in_features=32, out_features=64, bias=True)\n",
       "    (2): Sigmoid()\n",
       "  )\n",
       "  (dconv_atten3): Sequential(\n",
       "    (0): Conv3d(64, 1, kernel_size=(1, 1, 1), stride=(1, 1, 1))\n",
       "    (1): BatchNorm3d(1, eps=1e-05, momentum=0.1, affine=True, track_running_stats=True)\n",
       "    (2): Sigmoid()\n",
       "  )\n",
       "  (dconv_merge_atten3): Sequential(\n",
       "    (0): Conv3d(2, 1, kernel_size=(1, 1, 1), stride=(1, 1, 1))\n",
       "    (1): BatchNorm3d(1, eps=1e-05, momentum=0.1, affine=True, track_running_stats=True)\n",
       "    (2): Sigmoid()\n",
       "  )\n",
       "  (pool3): MaxPool3d(kernel_size=2, stride=2, padding=0, dilation=1, ceil_mode=True)\n",
       "  (atten_pool3): MaxPool3d(kernel_size=2, stride=2, padding=0, dilation=1, ceil_mode=True)\n",
       "  (dconv_middle): Sequential(\n",
       "    (0): Sequential(\n",
       "      (0): Conv3d(64, 64, kernel_size=(3, 3, 3), stride=(1, 1, 1), padding=(1, 1, 1))\n",
       "      (1): BatchNorm3d(64, eps=1e-05, momentum=0.1, affine=True, track_running_stats=True)\n",
       "      (2): ReLU(inplace=True)\n",
       "      (3): Conv3d(64, 128, kernel_size=(3, 3, 3), stride=(1, 1, 1), padding=(1, 1, 1))\n",
       "      (4): BatchNorm3d(128, eps=1e-05, momentum=0.1, affine=True, track_running_stats=True)\n",
       "      (5): ReLU(inplace=True)\n",
       "    )\n",
       "    (1): Dropout(p=0.2, inplace=False)\n",
       "  )\n",
       "  (cse_mid): Sequential(\n",
       "    (0): Linear(in_features=128, out_features=64, bias=True)\n",
       "    (1): Linear(in_features=64, out_features=128, bias=True)\n",
       "    (2): Sigmoid()\n",
       "  )\n",
       "  (middle_atten): Sequential(\n",
       "    (0): Conv3d(128, 1, kernel_size=(1, 1, 1), stride=(1, 1, 1))\n",
       "    (1): BatchNorm3d(1, eps=1e-05, momentum=0.1, affine=True, track_running_stats=True)\n",
       "    (2): Sigmoid()\n",
       "  )\n",
       "  (middle_merge_atten): Sequential(\n",
       "    (0): Conv3d(2, 1, kernel_size=(1, 1, 1), stride=(1, 1, 1))\n",
       "    (1): BatchNorm3d(1, eps=1e-05, momentum=0.1, affine=True, track_running_stats=True)\n",
       "    (2): Sigmoid()\n",
       "  )\n",
       "  (up1): ConvTranspose3d(128, 128, kernel_size=(2, 2, 2), stride=(2, 2, 2), bias=False)\n",
       "  (dconv_up1): Sequential(\n",
       "    (0): Conv3d(192, 64, kernel_size=(3, 3, 3), stride=(1, 1, 1), padding=(1, 1, 1))\n",
       "    (1): BatchNorm3d(64, eps=1e-05, momentum=0.1, affine=True, track_running_stats=True)\n",
       "    (2): ReLU(inplace=True)\n",
       "    (3): Conv3d(64, 64, kernel_size=(3, 3, 3), stride=(1, 1, 1), padding=(1, 1, 1))\n",
       "    (4): BatchNorm3d(64, eps=1e-05, momentum=0.1, affine=True, track_running_stats=True)\n",
       "    (5): ReLU(inplace=True)\n",
       "  )\n",
       "  (cse_up1): Sequential(\n",
       "    (0): Linear(in_features=64, out_features=32, bias=True)\n",
       "    (1): Linear(in_features=32, out_features=64, bias=True)\n",
       "    (2): Sigmoid()\n",
       "  )\n",
       "  (atten_up1): Upsample(scale_factor=2.0, mode=nearest)\n",
       "  (atten_dconv_up1): Sequential(\n",
       "    (0): Conv3d(64, 1, kernel_size=(1, 1, 1), stride=(1, 1, 1))\n",
       "    (1): BatchNorm3d(1, eps=1e-05, momentum=0.1, affine=True, track_running_stats=True)\n",
       "    (2): Sigmoid()\n",
       "  )\n",
       "  (atten_dconv_merge_up1): Sequential(\n",
       "    (0): Conv3d(2, 1, kernel_size=(1, 1, 1), stride=(1, 1, 1))\n",
       "    (1): BatchNorm3d(1, eps=1e-05, momentum=0.1, affine=True, track_running_stats=True)\n",
       "    (2): Sigmoid()\n",
       "  )\n",
       "  (up2): ConvTranspose3d(64, 64, kernel_size=(2, 2, 2), stride=(2, 2, 2), bias=False)\n",
       "  (dconv_up2): Sequential(\n",
       "    (0): Conv3d(96, 32, kernel_size=(3, 3, 3), stride=(1, 1, 1), padding=(1, 1, 1))\n",
       "    (1): BatchNorm3d(32, eps=1e-05, momentum=0.1, affine=True, track_running_stats=True)\n",
       "    (2): ReLU(inplace=True)\n",
       "    (3): Conv3d(32, 32, kernel_size=(3, 3, 3), stride=(1, 1, 1), padding=(1, 1, 1))\n",
       "    (4): BatchNorm3d(32, eps=1e-05, momentum=0.1, affine=True, track_running_stats=True)\n",
       "    (5): ReLU(inplace=True)\n",
       "  )\n",
       "  (cse_up2): Sequential(\n",
       "    (0): Linear(in_features=32, out_features=16, bias=True)\n",
       "    (1): Linear(in_features=16, out_features=32, bias=True)\n",
       "    (2): Sigmoid()\n",
       "  )\n",
       "  (atten_up2): Upsample(scale_factor=2.0, mode=nearest)\n",
       "  (atten_dconv_up2): Sequential(\n",
       "    (0): Conv3d(32, 1, kernel_size=(1, 1, 1), stride=(1, 1, 1))\n",
       "    (1): BatchNorm3d(1, eps=1e-05, momentum=0.1, affine=True, track_running_stats=True)\n",
       "    (2): Sigmoid()\n",
       "  )\n",
       "  (atten_dconv_merge_up2): Sequential(\n",
       "    (0): Conv3d(2, 1, kernel_size=(1, 1, 1), stride=(1, 1, 1))\n",
       "    (1): BatchNorm3d(1, eps=1e-05, momentum=0.1, affine=True, track_running_stats=True)\n",
       "    (2): Sigmoid()\n",
       "  )\n",
       "  (up3): ConvTranspose3d(32, 32, kernel_size=(2, 2, 2), stride=(2, 2, 2), bias=False)\n",
       "  (dconv_up3): Sequential(\n",
       "    (0): Conv3d(48, 16, kernel_size=(3, 3, 3), stride=(1, 1, 1), padding=(1, 1, 1))\n",
       "    (1): BatchNorm3d(16, eps=1e-05, momentum=0.1, affine=True, track_running_stats=True)\n",
       "    (2): ReLU(inplace=True)\n",
       "    (3): Conv3d(16, 16, kernel_size=(3, 3, 3), stride=(1, 1, 1), padding=(1, 1, 1))\n",
       "    (4): BatchNorm3d(16, eps=1e-05, momentum=0.1, affine=True, track_running_stats=True)\n",
       "    (5): ReLU(inplace=True)\n",
       "  )\n",
       "  (cse_up3): Sequential(\n",
       "    (0): Linear(in_features=16, out_features=8, bias=True)\n",
       "    (1): Linear(in_features=8, out_features=16, bias=True)\n",
       "    (2): Sigmoid()\n",
       "  )\n",
       "  (atten_up3): Upsample(scale_factor=2.0, mode=nearest)\n",
       "  (atten_dconv_up3): Sequential(\n",
       "    (0): Conv3d(16, 1, kernel_size=(1, 1, 1), stride=(1, 1, 1))\n",
       "    (1): BatchNorm3d(1, eps=1e-05, momentum=0.1, affine=True, track_running_stats=True)\n",
       "    (2): Sigmoid()\n",
       "  )\n",
       "  (atten_dconv_merge_up3): Sequential(\n",
       "    (0): Conv3d(2, 1, kernel_size=(1, 1, 1), stride=(1, 1, 1))\n",
       "    (1): BatchNorm3d(1, eps=1e-05, momentum=0.1, affine=True, track_running_stats=True)\n",
       "    (2): Sigmoid()\n",
       "  )\n",
       "  (final): Conv3d(16, 1, kernel_size=(1, 1, 1), stride=(1, 1, 1))\n",
       "  (sigmoid): Sigmoid()\n",
       ")"
      ]
     },
     "execution_count": 5,
     "metadata": {},
     "output_type": "execute_result"
    }
   ],
   "source": [
    "epoch=50\n",
    "unetv3_model_name='20210302-125519_3d_unet_model3'\n",
    "\n",
    "# loading model checkpoint\n",
    "unetv3_model_info = load_checkpoint_model_info(unetv3_model_name, epoch, \n",
    "                                               train_dataset, \n",
    "                                               valid_dataset, \n",
    "                                               test_dataset,\n",
    "                                               model_class=UNetV3v1)\n",
    "# unetv3_model_info = model_info\n",
    "\n",
    "# moving model to cpu/cuda with eval mode\n",
    "unetv3_model_info['device'] = 'cpu'\n",
    "unetv3_model_info['model'] = unetv3_model_info['model'].to(unetv3_model_info['device'])\n",
    "unetv3_model_info['model'].eval()"
   ]
  },
  {
   "cell_type": "code",
   "execution_count": 6,
   "metadata": {},
   "outputs": [
    {
     "data": {
      "text/plain": [
       "(<IPython.core.display.Markdown object>,)"
      ]
     },
     "metadata": {},
     "output_type": "display_data"
    },
    {
     "data": {
      "text/plain": [
       "(<IPython.core.display.Markdown object>,)"
      ]
     },
     "metadata": {},
     "output_type": "display_data"
    },
    {
     "name": "stdout",
     "output_type": "stream",
     "text": [
      "showing number 0\n",
      "DEBUG: Writing to tensorboard epoch 0, step 0\n",
      "DEBUG: Writing to tensorboard epoch 0, step 0\n",
      "DEBUG: Writing to tensorboard epoch 0, step 0\n",
      "DEBUG: Writing to tensorboard epoch 0, step 0\n",
      "loss 0.38988858461380005, dsc 0.6101114153862, inputs_len 1\n"
     ]
    },
    {
     "data": {
      "image/png": "[encoded data removed]",
      "text/plain": [
       "<Figure size 432x288 with 1 Axes>"
      ]
     },
     "metadata": {
      "needs_background": "light"
     },
     "output_type": "display_data"
    },
    {
     "data": {
      "application/vnd.jupyter.widget-view+json": {
       "model_id": "70cd5228ec174b58bcc00c11cb903c31",
       "version_major": 2,
       "version_minor": 0
      },
      "text/plain": [
       "VBox(children=(HBox(children=(IntSlider(value=90, max=159),)),))"
      ]
     },
     "metadata": {},
     "output_type": "display_data"
    },
    {
     "data": {
      "application/vnd.jupyter.widget-view+json": {
       "model_id": "a57e11575cc64cb29153e0e1e28ddde5",
       "version_major": 2,
       "version_minor": 0
      },
      "text/plain": [
       "Output()"
      ]
     },
     "metadata": {},
     "output_type": "display_data"
    },
    {
     "name": "stdout",
     "output_type": "stream",
     "text": [
      "DEBUG shapes torch.Size([1, 160, 64, 64]) torch.Size([1, 1, 160, 64, 64]) torch.Size([1, 1, 160, 64, 64])\n",
      "DEBUG prediction max 1.0, min 0.0\n",
      "DEBUG intersection 672.2408447265625\n",
      "DEBUG label sum 1186.0\n",
      "DEBUG prediction sum 1017.6657104492188\n",
      "DEBUG intersection2 672.2408447265625\n",
      "DEBUG dsc 0.6101114153862\n",
      "DEBUG MSE 0.0012393001234158874\n"
     ]
    },
    {
     "data": {
      "text/plain": [
       "(<IPython.core.display.Markdown object>,)"
      ]
     },
     "metadata": {},
     "output_type": "display_data"
    },
    {
     "name": "stdout",
     "output_type": "stream",
     "text": [
      "showing number 0\n",
      "DEBUG: Writing to tensorboard epoch 0, step 0\n",
      "DEBUG: Writing to tensorboard epoch 0, step 0\n",
      "DEBUG: Writing to tensorboard epoch 0, step 0\n",
      "DEBUG: Writing to tensorboard epoch 0, step 0\n",
      "loss 0.5668909549713135, dsc 0.4331090748310089, inputs_len 1\n"
     ]
    },
    {
     "data": {
      "image/png": "[encoded data removed]",
      "text/plain": [
       "<Figure size 432x288 with 1 Axes>"
      ]
     },
     "metadata": {
      "needs_background": "light"
     },
     "output_type": "display_data"
    },
    {
     "data": {
      "application/vnd.jupyter.widget-view+json": {
       "model_id": "0e71ad5e35d54bce9a3e3520f6182613",
       "version_major": 2,
       "version_minor": 0
      },
      "text/plain": [
       "VBox(children=(HBox(children=(IntSlider(value=90, max=159),)),))"
      ]
     },
     "metadata": {},
     "output_type": "display_data"
    },
    {
     "data": {
      "application/vnd.jupyter.widget-view+json": {
       "model_id": "8e0466ecca17468985d3c3b243315f91",
       "version_major": 2,
       "version_minor": 0
      },
      "text/plain": [
       "Output()"
      ]
     },
     "metadata": {},
     "output_type": "display_data"
    },
    {
     "name": "stdout",
     "output_type": "stream",
     "text": [
      "DEBUG shapes torch.Size([1, 160, 64, 64]) torch.Size([1, 1, 160, 64, 64]) torch.Size([1, 1, 160, 64, 64])\n",
      "DEBUG prediction max 1.0, min 0.0\n",
      "DEBUG intersection 944.40185546875\n",
      "DEBUG label sum 2262.0\n",
      "DEBUG prediction sum 2099.03466796875\n",
      "DEBUG intersection2 944.40185546875\n",
      "DEBUG dsc 0.4331090748310089\n",
      "DEBUG MSE 0.003532520029693842\n"
     ]
    }
   ],
   "source": [
    "MAX_PADDING_SLICES=160\n",
    "\n",
    "display((Markdown(\"## Model evaluation\"),))\n",
    "\n",
    "display((Markdown(\"### Train Eval\"),))\n",
    "show_model_dataset_pred_preview(unetv3_model_info, train_dataset, max_slices=MAX_PADDING_SLICES, default_slice=90)\n",
    "\n",
    "display((Markdown(\"### Valid Eval\"),))\n",
    "show_model_dataset_pred_preview(unetv3_model_info, valid_dataset, max_slices=MAX_PADDING_SLICES, default_slice=90)\n",
    "\n",
    "# display(Markdown(\"### Test Eval\"))\n",
    "# eval_image_dataset(test_dataset, 78, 'test_plot.png')"
   ]
  },
  {
   "cell_type": "markdown",
   "metadata": {},
   "source": [
    "## UNET V2"
   ]
  },
  {
   "cell_type": "code",
   "execution_count": 7,
   "metadata": {},
   "outputs": [
    {
     "data": {
      "text/plain": [
       "UNetV2(\n",
       "  (dconv_down1): Sequential(\n",
       "    (0): Sequential(\n",
       "      (0): Conv3d(1, 8, kernel_size=(3, 3, 3), stride=(1, 1, 1), padding=(1, 1, 1))\n",
       "      (1): BatchNorm3d(8, eps=1e-05, momentum=0.1, affine=True, track_running_stats=True)\n",
       "      (2): ReLU(inplace=True)\n",
       "      (3): Conv3d(8, 16, kernel_size=(3, 3, 3), stride=(1, 1, 1), padding=(1, 1, 1))\n",
       "      (4): BatchNorm3d(16, eps=1e-05, momentum=0.1, affine=True, track_running_stats=True)\n",
       "      (5): ReLU(inplace=True)\n",
       "    )\n",
       "    (1): Dropout(p=0.2, inplace=False)\n",
       "  )\n",
       "  (pool1): MaxPool3d(kernel_size=2, stride=2, padding=0, dilation=1, ceil_mode=True)\n",
       "  (dconv_down2): Sequential(\n",
       "    (0): Sequential(\n",
       "      (0): Conv3d(16, 16, kernel_size=(3, 3, 3), stride=(1, 1, 1), padding=(1, 1, 1))\n",
       "      (1): BatchNorm3d(16, eps=1e-05, momentum=0.1, affine=True, track_running_stats=True)\n",
       "      (2): ReLU(inplace=True)\n",
       "      (3): Conv3d(16, 32, kernel_size=(3, 3, 3), stride=(1, 1, 1), padding=(1, 1, 1))\n",
       "      (4): BatchNorm3d(32, eps=1e-05, momentum=0.1, affine=True, track_running_stats=True)\n",
       "      (5): ReLU(inplace=True)\n",
       "    )\n",
       "    (1): Dropout(p=0.2, inplace=False)\n",
       "  )\n",
       "  (pool2): MaxPool3d(kernel_size=2, stride=2, padding=0, dilation=1, ceil_mode=True)\n",
       "  (dconv_down3): Sequential(\n",
       "    (0): Sequential(\n",
       "      (0): Conv3d(32, 32, kernel_size=(3, 3, 3), stride=(1, 1, 1), padding=(1, 1, 1))\n",
       "      (1): BatchNorm3d(32, eps=1e-05, momentum=0.1, affine=True, track_running_stats=True)\n",
       "      (2): ReLU(inplace=True)\n",
       "      (3): Conv3d(32, 64, kernel_size=(3, 3, 3), stride=(1, 1, 1), padding=(1, 1, 1))\n",
       "      (4): BatchNorm3d(64, eps=1e-05, momentum=0.1, affine=True, track_running_stats=True)\n",
       "      (5): ReLU(inplace=True)\n",
       "    )\n",
       "    (1): Dropout(p=0.2, inplace=False)\n",
       "  )\n",
       "  (pool3): MaxPool3d(kernel_size=2, stride=2, padding=0, dilation=1, ceil_mode=True)\n",
       "  (dconv_middle): Sequential(\n",
       "    (0): Sequential(\n",
       "      (0): Conv3d(64, 64, kernel_size=(3, 3, 3), stride=(1, 1, 1), padding=(1, 1, 1))\n",
       "      (1): BatchNorm3d(64, eps=1e-05, momentum=0.1, affine=True, track_running_stats=True)\n",
       "      (2): ReLU(inplace=True)\n",
       "      (3): Conv3d(64, 128, kernel_size=(3, 3, 3), stride=(1, 1, 1), padding=(1, 1, 1))\n",
       "      (4): BatchNorm3d(128, eps=1e-05, momentum=0.1, affine=True, track_running_stats=True)\n",
       "      (5): ReLU(inplace=True)\n",
       "    )\n",
       "    (1): Dropout(p=0.2, inplace=False)\n",
       "  )\n",
       "  (up1): ConvTranspose3d(128, 128, kernel_size=(2, 2, 2), stride=(2, 2, 2), bias=False)\n",
       "  (dconv_up1): Sequential(\n",
       "    (0): Conv3d(192, 64, kernel_size=(3, 3, 3), stride=(1, 1, 1), padding=(1, 1, 1))\n",
       "    (1): BatchNorm3d(64, eps=1e-05, momentum=0.1, affine=True, track_running_stats=True)\n",
       "    (2): ReLU(inplace=True)\n",
       "    (3): Conv3d(64, 64, kernel_size=(3, 3, 3), stride=(1, 1, 1), padding=(1, 1, 1))\n",
       "    (4): BatchNorm3d(64, eps=1e-05, momentum=0.1, affine=True, track_running_stats=True)\n",
       "    (5): ReLU(inplace=True)\n",
       "  )\n",
       "  (up2): ConvTranspose3d(64, 64, kernel_size=(2, 2, 2), stride=(2, 2, 2), bias=False)\n",
       "  (dconv_up2): Sequential(\n",
       "    (0): Conv3d(96, 32, kernel_size=(3, 3, 3), stride=(1, 1, 1), padding=(1, 1, 1))\n",
       "    (1): BatchNorm3d(32, eps=1e-05, momentum=0.1, affine=True, track_running_stats=True)\n",
       "    (2): ReLU(inplace=True)\n",
       "    (3): Conv3d(32, 32, kernel_size=(3, 3, 3), stride=(1, 1, 1), padding=(1, 1, 1))\n",
       "    (4): BatchNorm3d(32, eps=1e-05, momentum=0.1, affine=True, track_running_stats=True)\n",
       "    (5): ReLU(inplace=True)\n",
       "  )\n",
       "  (up3): ConvTranspose3d(32, 32, kernel_size=(2, 2, 2), stride=(2, 2, 2), bias=False)\n",
       "  (dconv_up3): Sequential(\n",
       "    (0): Conv3d(48, 16, kernel_size=(3, 3, 3), stride=(1, 1, 1), padding=(1, 1, 1))\n",
       "    (1): BatchNorm3d(16, eps=1e-05, momentum=0.1, affine=True, track_running_stats=True)\n",
       "    (2): ReLU(inplace=True)\n",
       "    (3): Conv3d(16, 16, kernel_size=(3, 3, 3), stride=(1, 1, 1), padding=(1, 1, 1))\n",
       "    (4): BatchNorm3d(16, eps=1e-05, momentum=0.1, affine=True, track_running_stats=True)\n",
       "    (5): ReLU(inplace=True)\n",
       "  )\n",
       "  (final): Conv3d(16, 1, kernel_size=(1, 1, 1), stride=(1, 1, 1))\n",
       "  (sigmoid): Sigmoid()\n",
       ")"
      ]
     },
     "execution_count": 7,
     "metadata": {},
     "output_type": "execute_result"
    }
   ],
   "source": [
    "epoch=50\n",
    "unetv2_model_name='20210223-134555_3d_unet_model3'\n",
    "\n",
    "# loading model checkpoint\n",
    "unetv2_model_info = load_checkpoint_model_info(unetv2_model_name, epoch, train_dataset, valid_dataset, test_dataset)\n",
    "\n",
    "# moving model to cpu/cuda with eval mode\n",
    "unetv2_model_info['device'] = 'cpu'\n",
    "unetv2_model_info['model'] = unetv2_model_info['model'].to(unetv2_model_info['device'])\n",
    "unetv2_model_info['model'].eval()"
   ]
  },
  {
   "cell_type": "code",
   "execution_count": 8,
   "metadata": {},
   "outputs": [
    {
     "data": {
      "text/plain": [
       "(<IPython.core.display.Markdown object>,)"
      ]
     },
     "metadata": {},
     "output_type": "display_data"
    },
    {
     "data": {
      "text/plain": [
       "(<IPython.core.display.Markdown object>,)"
      ]
     },
     "metadata": {},
     "output_type": "display_data"
    },
    {
     "name": "stdout",
     "output_type": "stream",
     "text": [
      "showing number 0\n",
      "loss 0.24454593658447266, dsc 0.7554540634155273, inputs_len 1\n"
     ]
    },
    {
     "data": {
      "image/png": "[encoded data removed]",
      "text/plain": [
       "<Figure size 432x288 with 1 Axes>"
      ]
     },
     "metadata": {
      "needs_background": "light"
     },
     "output_type": "display_data"
    },
    {
     "data": {
      "application/vnd.jupyter.widget-view+json": {
       "model_id": "cee5a203a30141c08c43ff32115cede3",
       "version_major": 2,
       "version_minor": 0
      },
      "text/plain": [
       "VBox(children=(HBox(children=(IntSlider(value=90, max=159),)),))"
      ]
     },
     "metadata": {},
     "output_type": "display_data"
    },
    {
     "data": {
      "application/vnd.jupyter.widget-view+json": {
       "model_id": "b88c5eb535c94e57a63985ae8b821bef",
       "version_major": 2,
       "version_minor": 0
      },
      "text/plain": [
       "Output()"
      ]
     },
     "metadata": {},
     "output_type": "display_data"
    },
    {
     "name": "stdout",
     "output_type": "stream",
     "text": [
      "DEBUG shapes torch.Size([1, 160, 64, 64]) torch.Size([1, 1, 160, 64, 64]) torch.Size([1, 1, 160, 64, 64])\n",
      "DEBUG prediction max 1.0, min 7.58770326569902e-08\n",
      "DEBUG intersection 921.76806640625\n",
      "DEBUG label sum 1188.0\n",
      "DEBUG prediction sum 1252.302001953125\n",
      "DEBUG intersection2 921.76806640625\n",
      "DEBUG dsc 0.7554540634155273\n",
      "DEBUG MSE 0.0007341766613535583\n"
     ]
    },
    {
     "data": {
      "text/plain": [
       "(<IPython.core.display.Markdown object>,)"
      ]
     },
     "metadata": {},
     "output_type": "display_data"
    },
    {
     "name": "stdout",
     "output_type": "stream",
     "text": [
      "showing number 0\n",
      "loss 0.23056596517562866, dsc 0.7694340348243713, inputs_len 1\n"
     ]
    },
    {
     "data": {
      "image/png": "[encoded data removed]",
      "text/plain": [
       "<Figure size 432x288 with 1 Axes>"
      ]
     },
     "metadata": {
      "needs_background": "light"
     },
     "output_type": "display_data"
    },
    {
     "data": {
      "application/vnd.jupyter.widget-view+json": {
       "model_id": "5209983f5665437cbb3c6baf5df072d8",
       "version_major": 2,
       "version_minor": 0
      },
      "text/plain": [
       "VBox(children=(HBox(children=(IntSlider(value=90, max=159),)),))"
      ]
     },
     "metadata": {},
     "output_type": "display_data"
    },
    {
     "data": {
      "application/vnd.jupyter.widget-view+json": {
       "model_id": "2964273178c54ab4932b05b75972e2e8",
       "version_major": 2,
       "version_minor": 0
      },
      "text/plain": [
       "Output()"
      ]
     },
     "metadata": {},
     "output_type": "display_data"
    },
    {
     "name": "stdout",
     "output_type": "stream",
     "text": [
      "DEBUG shapes torch.Size([1, 160, 64, 64]) torch.Size([1, 1, 160, 64, 64]) torch.Size([1, 1, 160, 64, 64])\n",
      "DEBUG prediction max 1.0, min 1.0484695849299897e-06\n",
      "DEBUG intersection 1645.36181640625\n",
      "DEBUG label sum 2264.0\n",
      "DEBUG prediction sum 2012.8104248046875\n",
      "DEBUG intersection2 1645.36181640625\n",
      "DEBUG dsc 0.7694340348243713\n",
      "DEBUG MSE 0.0012878451962023973\n"
     ]
    }
   ],
   "source": [
    "MAX_PADDING_SLICES=160\n",
    "\n",
    "display((Markdown(\"## Model evaluation\"),))\n",
    "\n",
    "display((Markdown(\"### Train Eval\"),))\n",
    "show_model_dataset_pred_preview(unetv2_model_info, train_dataset, max_slices=MAX_PADDING_SLICES, default_slice=90)\n",
    "\n",
    "display((Markdown(\"### Valid Eval\"),))\n",
    "show_model_dataset_pred_preview(unetv2_model_info, valid_dataset, max_slices=MAX_PADDING_SLICES, default_slice=90)\n",
    "\n",
    "# display(Markdown(\"### Test Eval\"))\n",
    "# eval_image_dataset(test_dataset, 78, 'test_plot.png')"
   ]
  },
  {
   "cell_type": "code",
   "execution_count": null,
   "metadata": {},
   "outputs": [],
   "source": []
  },
  {
   "cell_type": "code",
   "execution_count": null,
   "metadata": {},
   "outputs": [],
   "source": []
  }
 ],
 "metadata": {
  "kernelspec": {
   "display_name": "Python 3",
   "language": "python",
   "name": "python3"
  },
  "language_info": {
   "codemirror_mode": {
    "name": "ipython",
    "version": 3
   },
   "file_extension": ".py",
   "mimetype": "text/x-python",
   "name": "python",
   "nbconvert_exporter": "python",
   "pygments_lexer": "ipython3",
   "version": "3.8.5"
  }
 },
 "nbformat": 4,
 "nbformat_minor": 4
}

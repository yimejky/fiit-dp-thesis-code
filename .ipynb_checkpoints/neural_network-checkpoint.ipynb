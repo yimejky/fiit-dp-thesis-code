{
 "cells": [
  {
   "cell_type": "code",
   "execution_count": 1,
   "metadata": {},
   "outputs": [
    {
     "name": "stdout",
     "output_type": "stream",
     "text": [
      "Done Init\n"
     ]
    }
   ],
   "source": [
    "import sys\n",
    "IN_COLAB = 'google.colab' in sys.modules\n",
    "\n",
    "if (IN_COLAB):\n",
    "    print('Found Google Colab')\n",
    "    !pip3 install torch torchvision torchsummary\n",
    "    !pip3 install simpleitk\n",
    "    \n",
    "    from google.colab import drive\n",
    "    drive.mount('/content/drive')\n",
    "\n",
    "import os\n",
    "import numpy as np\n",
    "import SimpleITK as sitk\n",
    "import cv2\n",
    "import matplotlib.pyplot as plt\n",
    "\n",
    "from operator import itemgetter\n",
    "from time import time\n",
    "from pathlib import Path\n",
    "from IPython.display import display, Markdown\n",
    "from ipywidgets import interact, IntSlider\n",
    "from ipywidgets import widgets\n",
    "from torchsummary import summary\n",
    "from torch.utils.data import Dataset, DataLoader\n",
    "from torch.utils.tensorboard import SummaryWriter\n",
    "\n",
    "from src.han_oars_dataset import HaNOarsDataset\n",
    "from src.unet_architecture import UNet\n",
    "from src.unet_architecture_v2 import UNetV2\n",
    "from src.dice_loss import DiceLoss\n",
    "from src.training_helpers import loss_batch, iterate_model, checkpoint_model, show_model_info\n",
    "from src.helpers.prepare_model import prepare_model\n",
    "from src.helpers.train_loop import train_loop\n",
    "from src.helpers.get_datasets import get_datasets\n",
    "from src.helpers.get_datasets_info import get_datasets_info\n",
    "from src.helpers.preview_datasets import preview_datasets\n",
    "\n",
    "import torch\n",
    "from torch import nn\n",
    "import torch.nn.functional as F\n",
    "\n",
    "MAX_PADDING_SLICES = 160\n",
    "torch.manual_seed(20)\n",
    "print('Done Init')"
   ]
  },
  {
   "cell_type": "markdown",
   "metadata": {},
   "source": [
    "# Neural Network"
   ]
  },
  {
   "cell_type": "markdown",
   "metadata": {},
   "source": [
    "## dataset\n",
    "\n",
    "labels:\n",
    "The 22 annotated OARs contain Brain_Stem,Eye_L,Eye_R,Lens_L,Lens_R,Opt_Nerve_L,Opt_Nerve_R,Opt_Chiasma,Temporal_Lobes_L, Temporal_Lobes_R,Pituitary,Parotid_Gland_L,Parotid_Gland_R,Inner_Ear_L,Inner_Ear_R,Mid_Ear_L,Mid_Ear_R, T_M_Joint_L,T_M_Joint_R,Spinal_Cord,Mandible_L,Mandible_R, corresponding to the label 1 to 22 in the annotation file."
   ]
  },
  {
   "cell_type": "code",
   "execution_count": 5,
   "metadata": {},
   "outputs": [
    {
     "name": "stdout",
     "output_type": "stream",
     "text": [
      "CUDA using 16x dataset\n",
      "train 40, valid_size 5, test 5, full 50\n",
      "train indeces [0, 2, 3, 4, 5, 6, 7, 8, 10, 11, 12, 13, 14, 15, 16, 17, 18, 19, 22, 23, 24, 25, 27, 28, 31, 32, 33, 34, 35, 36, 37, 38, 39, 40, 42, 43, 45, 46, 47, 49]\n",
      "valid indeces [20, 21, 29, 44, 48]\n",
      "test indeces [1, 9, 26, 30, 41]\n"
     ]
    }
   ],
   "source": [
    "datasets_obj = get_datasets()\n",
    "get_datasets_info(datasets_obj)\n",
    "train_dataset, valid_dataset, test_dataset = itemgetter('train_dataset', 'valid_dataset', 'test_dataset')(datasets_obj)"
   ]
  },
  {
   "cell_type": "code",
   "execution_count": 6,
   "metadata": {},
   "outputs": [
    {
     "name": "stdout",
     "output_type": "stream",
     "text": [
      "data max 11.816096170020396, min -0.4245887227449463\n",
      "label max 1, min 0\n"
     ]
    },
    {
     "data": {
      "application/vnd.jupyter.widget-view+json": {
       "model_id": "1b1ef4c62a0143c1b498d966661470cf",
       "version_major": 2,
       "version_minor": 0
      },
      "text/plain": [
       "VBox(children=(HBox(children=(IntSlider(value=101, max=159),)),))"
      ]
     },
     "metadata": {},
     "output_type": "display_data"
    },
    {
     "data": {
      "application/vnd.jupyter.widget-view+json": {
       "model_id": "89d34d1fa5b446de8c1ef7914ee6d7bb",
       "version_major": 2,
       "version_minor": 0
      },
      "text/plain": [
       "Output()"
      ]
     },
     "metadata": {},
     "output_type": "display_data"
    }
   ],
   "source": [
    "preview_datasets(datasets_obj, preview_index=2, show_hist=False, max_padding_slices=MAX_PADDING_SLICES)"
   ]
  },
  {
   "cell_type": "markdown",
   "metadata": {},
   "source": [
    "## training"
   ]
  },
  {
   "cell_type": "markdown",
   "metadata": {},
   "source": [
    "### params and architecture preparation"
   ]
  },
  {
   "cell_type": "code",
   "execution_count": 7,
   "metadata": {},
   "outputs": [
    {
     "name": "stdout",
     "output_type": "stream",
     "text": [
      "Device running \"cuda\"\n",
      "max output channels 256\n",
      "Model number of params: 9514687, trainable 9514687\n",
      "Running training loop\n",
      "Batch eval [1] loss 0.99951, dsc 0.00049\n",
      "Batch eval [2] loss 0.99917, dsc 0.00083\n",
      "Batch eval [3] loss 0.99964, dsc 0.00036\n",
      "Batch eval [4] loss 0.99965, dsc 0.00035\n",
      "Batch eval [5] loss 0.99968, dsc 0.00032\n",
      "Epoch [1] T 8.05s, deltaT 8.05s, loss: train 0.99917, valid 0.99953, dsc: train 0.00083, valid 0.00047\n",
      "Batch eval [1] loss 0.99866, dsc 0.00134\n",
      "Batch eval [2] loss 0.99747, dsc 0.00253\n",
      "Batch eval [3] loss 0.99887, dsc 0.00113\n",
      "Batch eval [4] loss 0.99905, dsc 0.00095\n",
      "Batch eval [5] loss 0.99915, dsc 0.00085\n",
      "Epoch [2] T 16.17s, deltaT 8.13s, loss: train 0.98829, valid 0.99864, dsc: train 0.01171, valid 0.00136\n",
      "Batch eval [1] loss 0.96034, dsc 0.03966\n",
      "Batch eval [2] loss 0.97318, dsc 0.02682\n",
      "Batch eval [3] loss 0.95329, dsc 0.04671\n",
      "Batch eval [4] loss 0.95086, dsc 0.04914\n",
      "Batch eval [5] loss 0.95039, dsc 0.04961\n",
      "Epoch [3] T 24.30s, deltaT 8.12s, loss: train 0.92809, valid 0.95761, dsc: train 0.07191, valid 0.04239\n",
      "Batch eval [1] loss 0.95895, dsc 0.04105\n",
      "Batch eval [2] loss 0.97250, dsc 0.02750\n",
      "Batch eval [3] loss 0.95090, dsc 0.04910\n",
      "Batch eval [4] loss 0.94843, dsc 0.05157\n",
      "Batch eval [5] loss 0.94833, dsc 0.05167\n",
      "Epoch [4] T 32.43s, deltaT 8.14s, loss: train 0.95294, valid 0.95582, dsc: train 0.04706, valid 0.04418\n",
      "Batch eval [1] loss 0.95869, dsc 0.04131\n",
      "Batch eval [2] loss 0.97239, dsc 0.02761\n",
      "Batch eval [3] loss 0.95054, dsc 0.04946\n",
      "Batch eval [4] loss 0.94800, dsc 0.05200\n",
      "Batch eval [5] loss 0.94796, dsc 0.05204\n",
      "Epoch [5] T 40.57s, deltaT 8.13s, loss: train 0.95193, valid 0.95551, dsc: train 0.04807, valid 0.04449\n",
      "Batch eval [1] loss 0.95859, dsc 0.04141\n",
      "Batch eval [2] loss 0.97234, dsc 0.02766\n",
      "Batch eval [3] loss 0.95038, dsc 0.04962\n",
      "Batch eval [4] loss 0.94781, dsc 0.05219\n",
      "Batch eval [5] loss 0.94778, dsc 0.05222\n",
      "Epoch [6] T 48.71s, deltaT 8.14s, loss: train 0.95167, valid 0.95538, dsc: train 0.04833, valid 0.04462\n",
      "Batch eval [1] loss 0.95852, dsc 0.04148\n",
      "Batch eval [2] loss 0.97231, dsc 0.02769\n",
      "Batch eval [3] loss 0.95029, dsc 0.04971\n",
      "Batch eval [4] loss 0.94770, dsc 0.05230\n",
      "Batch eval [5] loss 0.94768, dsc 0.05232\n",
      "Epoch [7] T 56.90s, deltaT 8.19s, loss: train 0.95154, valid 0.95530, dsc: train 0.04846, valid 0.04470\n",
      "Batch eval [1] loss 0.95848, dsc 0.04152\n",
      "Batch eval [2] loss 0.97229, dsc 0.02771\n",
      "Batch eval [3] loss 0.95023, dsc 0.04977\n",
      "Batch eval [4] loss 0.94763, dsc 0.05237\n",
      "Batch eval [5] loss 0.94762, dsc 0.05238\n",
      "Epoch [8] T 65.09s, deltaT 8.19s, loss: train 0.95146, valid 0.95525, dsc: train 0.04854, valid 0.04475\n",
      "Batch eval [1] loss 0.95845, dsc 0.04155\n",
      "Batch eval [2] loss 0.97228, dsc 0.02772\n",
      "Batch eval [3] loss 0.95018, dsc 0.04982\n",
      "Batch eval [4] loss 0.94758, dsc 0.05242\n",
      "Batch eval [5] loss 0.94757, dsc 0.05243\n",
      "Epoch [9] T 73.29s, deltaT 8.19s, loss: train 0.95140, valid 0.95521, dsc: train 0.04860, valid 0.04479\n",
      "Batch eval [1] loss 0.95843, dsc 0.04157\n",
      "Batch eval [2] loss 0.97227, dsc 0.02773\n",
      "Batch eval [3] loss 0.95015, dsc 0.04985\n",
      "Batch eval [4] loss 0.94755, dsc 0.05245\n",
      "Batch eval [5] loss 0.94753, dsc 0.05247\n",
      "Epoch [10] T 81.49s, deltaT 8.20s, loss: train 0.95136, valid 0.95519, dsc: train 0.04864, valid 0.04481\n",
      "Batch eval [1] loss 0.95842, dsc 0.04158\n",
      "Batch eval [2] loss 0.97226, dsc 0.02774\n",
      "Batch eval [3] loss 0.95013, dsc 0.04987\n",
      "Batch eval [4] loss 0.94752, dsc 0.05248\n",
      "Batch eval [5] loss 0.94751, dsc 0.05249\n",
      "Epoch [11] T 89.74s, deltaT 8.25s, loss: train 0.95134, valid 0.95517, dsc: train 0.04866, valid 0.04483\n",
      "Batch eval [1] loss 0.95841, dsc 0.04159\n",
      "Batch eval [2] loss 0.97226, dsc 0.02774\n",
      "Batch eval [3] loss 0.95011, dsc 0.04989\n",
      "Batch eval [4] loss 0.94750, dsc 0.05250\n",
      "Batch eval [5] loss 0.94749, dsc 0.05251\n",
      "Epoch [12] T 97.99s, deltaT 8.24s, loss: train 0.95132, valid 0.95515, dsc: train 0.04868, valid 0.04485\n",
      "Batch eval [1] loss 0.95840, dsc 0.04160\n",
      "Batch eval [2] loss 0.97225, dsc 0.02775\n",
      "Batch eval [3] loss 0.95010, dsc 0.04990\n",
      "Batch eval [4] loss 0.94748, dsc 0.05252\n",
      "Batch eval [5] loss 0.94747, dsc 0.05253\n",
      "Epoch [13] T 106.24s, deltaT 8.26s, loss: train 0.95130, valid 0.95514, dsc: train 0.04870, valid 0.04486\n",
      "Batch eval [1] loss 0.95839, dsc 0.04161\n",
      "Batch eval [2] loss 0.97225, dsc 0.02775\n",
      "Batch eval [3] loss 0.95008, dsc 0.04992\n",
      "Batch eval [4] loss 0.94747, dsc 0.05253\n",
      "Batch eval [5] loss 0.94746, dsc 0.05254\n",
      "Epoch [14] T 114.50s, deltaT 8.25s, loss: train 0.95129, valid 0.95513, dsc: train 0.04871, valid 0.04487\n",
      "Batch eval [1] loss 0.95838, dsc 0.04162\n",
      "Batch eval [2] loss 0.97224, dsc 0.02776\n",
      "Batch eval [3] loss 0.95007, dsc 0.04993\n",
      "Batch eval [4] loss 0.94746, dsc 0.05254\n",
      "Batch eval [5] loss 0.94745, dsc 0.05255\n",
      "Epoch [15] T 122.75s, deltaT 8.25s, loss: train 0.95128, valid 0.95512, dsc: train 0.04872, valid 0.04488\n",
      "Batch eval [1] loss 0.95838, dsc 0.04162\n",
      "Batch eval [2] loss 0.97224, dsc 0.02776\n",
      "Batch eval [3] loss 0.95007, dsc 0.04993\n",
      "Batch eval [4] loss 0.94745, dsc 0.05255\n",
      "Batch eval [5] loss 0.94744, dsc 0.05256\n",
      "Epoch [16] T 131.00s, deltaT 8.25s, loss: train 0.95127, valid 0.95512, dsc: train 0.04873, valid 0.04488\n",
      "Batch eval [1] loss 0.95837, dsc 0.04163\n",
      "Batch eval [2] loss 0.97224, dsc 0.02776\n",
      "Batch eval [3] loss 0.95006, dsc 0.04994\n",
      "Batch eval [4] loss 0.94744, dsc 0.05256\n",
      "Batch eval [5] loss 0.94743, dsc 0.05257\n",
      "Epoch [17] T 139.25s, deltaT 8.25s, loss: train 0.95126, valid 0.95511, dsc: train 0.04874, valid 0.04489\n",
      "Batch eval [1] loss 0.95837, dsc 0.04163\n",
      "Batch eval [2] loss 0.97224, dsc 0.02776\n",
      "Batch eval [3] loss 0.95005, dsc 0.04995\n",
      "Batch eval [4] loss 0.94743, dsc 0.05257\n",
      "Batch eval [5] loss 0.94743, dsc 0.05257\n",
      "Epoch [18] T 147.50s, deltaT 8.25s, loss: train 0.95125, valid 0.95510, dsc: train 0.04875, valid 0.04490\n",
      "Batch eval [1] loss 0.95837, dsc 0.04163\n",
      "Batch eval [2] loss 0.97224, dsc 0.02776\n",
      "Batch eval [3] loss 0.95005, dsc 0.04995\n",
      "Batch eval [4] loss 0.94743, dsc 0.05257\n",
      "Batch eval [5] loss 0.94742, dsc 0.05258\n",
      "Epoch [19] T 155.76s, deltaT 8.25s, loss: train 0.95125, valid 0.95510, dsc: train 0.04875, valid 0.04490\n",
      "Batch eval [1] loss 0.95836, dsc 0.04164\n",
      "Batch eval [2] loss 0.97224, dsc 0.02776\n",
      "Batch eval [3] loss 0.95005, dsc 0.04995\n",
      "Batch eval [4] loss 0.94742, dsc 0.05258\n",
      "Batch eval [5] loss 0.94742, dsc 0.05258\n",
      "Epoch [20] T 164.01s, deltaT 8.25s, loss: train 0.95124, valid 0.95510, dsc: train 0.04876, valid 0.04490\n",
      "Batch eval [1] loss 0.95836, dsc 0.04164\n",
      "Batch eval [2] loss 0.97223, dsc 0.02777\n",
      "Batch eval [3] loss 0.95004, dsc 0.04996\n",
      "Batch eval [4] loss 0.94742, dsc 0.05258\n",
      "Batch eval [5] loss 0.94741, dsc 0.05259\n",
      "Epoch [21] T 172.25s, deltaT 8.25s, loss: train 0.95124, valid 0.95509, dsc: train 0.04876, valid 0.04491\n",
      "Batch eval [1] loss 0.95836, dsc 0.04164\n",
      "Batch eval [2] loss 0.97223, dsc 0.02777\n",
      "Batch eval [3] loss 0.95004, dsc 0.04996\n",
      "Batch eval [4] loss 0.94741, dsc 0.05259\n",
      "Batch eval [5] loss 0.94741, dsc 0.05259\n",
      "Epoch [22] T 180.51s, deltaT 8.25s, loss: train 0.95124, valid 0.95509, dsc: train 0.04876, valid 0.04491\n",
      "Batch eval [1] loss 0.95836, dsc 0.04164\n",
      "Batch eval [2] loss 0.97223, dsc 0.02777\n",
      "Batch eval [3] loss 0.95004, dsc 0.04996\n",
      "Batch eval [4] loss 0.94741, dsc 0.05259\n",
      "Batch eval [5] loss 0.94741, dsc 0.05259\n",
      "Epoch [23] T 188.76s, deltaT 8.25s, loss: train 0.95123, valid 0.95509, dsc: train 0.04877, valid 0.04491\n",
      "Batch eval [1] loss 0.95835, dsc 0.04165\n",
      "Batch eval [2] loss 0.97223, dsc 0.02777\n",
      "Batch eval [3] loss 0.95003, dsc 0.04997\n",
      "Batch eval [4] loss 0.94741, dsc 0.05259\n",
      "Batch eval [5] loss 0.94740, dsc 0.05260\n",
      "Epoch [24] T 197.01s, deltaT 8.24s, loss: train 0.95123, valid 0.95509, dsc: train 0.04877, valid 0.04491\n",
      "Batch eval [1] loss 0.95835, dsc 0.04165\n",
      "Batch eval [2] loss 0.97223, dsc 0.02777\n",
      "Batch eval [3] loss 0.95003, dsc 0.04997\n",
      "Batch eval [4] loss 0.94740, dsc 0.05260\n",
      "Batch eval [5] loss 0.94740, dsc 0.05260\n",
      "Epoch [25] T 205.27s, deltaT 8.25s, loss: train 0.95123, valid 0.95508, dsc: train 0.04877, valid 0.04492\n",
      "Batch eval [1] loss 0.95835, dsc 0.04165\n",
      "Batch eval [2] loss 0.97223, dsc 0.02777\n",
      "Batch eval [3] loss 0.95003, dsc 0.04997\n",
      "Batch eval [4] loss 0.94740, dsc 0.05260\n",
      "Batch eval [5] loss 0.94740, dsc 0.05260\n",
      "Epoch [26] T 213.53s, deltaT 8.26s, loss: train 0.95122, valid 0.95508, dsc: train 0.04878, valid 0.04492\n",
      "Batch eval [1] loss 0.95835, dsc 0.04165\n",
      "Batch eval [2] loss 0.97223, dsc 0.02777\n",
      "Batch eval [3] loss 0.95003, dsc 0.04997\n",
      "Batch eval [4] loss 0.94740, dsc 0.05260\n",
      "Batch eval [5] loss 0.94740, dsc 0.05260\n",
      "Epoch [27] T 221.78s, deltaT 8.24s, loss: train 0.95122, valid 0.95508, dsc: train 0.04878, valid 0.04492\n",
      "Batch eval [1] loss 0.95835, dsc 0.04165\n",
      "Batch eval [2] loss 0.97223, dsc 0.02777\n",
      "Batch eval [3] loss 0.95002, dsc 0.04998\n",
      "Batch eval [4] loss 0.94740, dsc 0.05260\n",
      "Batch eval [5] loss 0.94740, dsc 0.05260\n",
      "Epoch [28] T 230.03s, deltaT 8.25s, loss: train 0.95122, valid 0.95508, dsc: train 0.04878, valid 0.04492\n",
      "Batch eval [1] loss 0.95835, dsc 0.04165\n",
      "Batch eval [2] loss 0.97223, dsc 0.02777\n",
      "Batch eval [3] loss 0.95002, dsc 0.04998\n",
      "Batch eval [4] loss 0.94740, dsc 0.05260\n",
      "Batch eval [5] loss 0.94739, dsc 0.05261\n",
      "Epoch [29] T 238.29s, deltaT 8.26s, loss: train 0.95122, valid 0.95508, dsc: train 0.04878, valid 0.04492\n",
      "Batch eval [1] loss 0.95835, dsc 0.04165\n",
      "Batch eval [2] loss 0.97223, dsc 0.02777\n",
      "Batch eval [3] loss 0.95002, dsc 0.04998\n",
      "Batch eval [4] loss 0.94739, dsc 0.05261\n",
      "Batch eval [5] loss 0.94739, dsc 0.05261\n",
      "Epoch [30] T 246.55s, deltaT 8.26s, loss: train 0.95122, valid 0.95508, dsc: train 0.04878, valid 0.04492\n",
      "Elapsed time 0:04:06\n"
     ]
    }
   ],
   "source": [
    "model_info = prepare_model(train_dataset=train_dataset, valid_dataset=valid_dataset, test_dataset=test_dataset)\n",
    "show_model_info(model_info[\"model\"], MAX_PADDING_SLICES)\n",
    "\n",
    "train_loop(**model_info)"
   ]
  },
  {
   "cell_type": "markdown",
   "metadata": {},
   "source": [
    "## testing and evaluating"
   ]
  },
  {
   "cell_type": "code",
   "execution_count": 9,
   "metadata": {},
   "outputs": [
    {
     "data": {
      "text/markdown": [
       "## Train Eval"
      ],
      "text/plain": [
       "<IPython.core.display.Markdown object>"
      ]
     },
     "metadata": {},
     "output_type": "display_data"
    },
    {
     "name": "stdout",
     "output_type": "stream",
     "text": [
      "showing number 47\n",
      "loss 0.944472074508667, dsc 0.0555279515683651, inputs_len 1\n"
     ]
    },
    {
     "data": {
      "image/png": "[encoded data removed]",
      "text/plain": [
       "<Figure size 432x288 with 1 Axes>"
      ]
     },
     "metadata": {
      "needs_background": "light"
     },
     "output_type": "display_data"
    },
    {
     "data": {
      "application/vnd.jupyter.widget-view+json": {
       "model_id": "6355b20b1a9748eba0dac6f97f00f259",
       "version_major": 2,
       "version_minor": 0
      },
      "text/plain": [
       "VBox(children=(HBox(children=(IntSlider(value=90, max=159),)),))"
      ]
     },
     "metadata": {},
     "output_type": "display_data"
    },
    {
     "data": {
      "application/vnd.jupyter.widget-view+json": {
       "model_id": "ac496b1ad41f4329ba3a0e3c7d578715",
       "version_major": 2,
       "version_minor": 0
      },
      "text/plain": [
       "Output()"
      ]
     },
     "metadata": {},
     "output_type": "display_data"
    },
    {
     "name": "stdout",
     "output_type": "stream",
     "text": [
      "DEBUG shapes torch.Size([1, 160, 32, 32]) torch.Size([1, 160, 32, 32]) torch.Size([1, 1, 160, 32, 32])\n",
      "DEBUG prediction max 5.9787889767903835e-06, min 1.8086737619757431e-12\n",
      "DEBUG intersection 4.377552613732405e-07\n",
      "DEBUG label sum 17.0\n",
      "DEBUG prediction sum 0.008961990475654602\n",
      "DEBUG intersection2 4.377552613732405e-07\n",
      "DEBUG dsc 0.0555279515683651\n",
      "DEBUG MSE 0.00010375976853538305\n"
     ]
    }
   ],
   "source": [
    "model, device, optimizer, criterion = itemgetter('model', 'device', 'optimizer', 'criterion')(model_info)\n",
    "\n",
    "\n",
    "def eval_image_dataset(dataset, def_slice=90, figfile=None):\n",
    "    with torch.no_grad():\n",
    "        model.eval()\n",
    "        aSlider = widgets.IntSlider(min=0, max=MAX_PADDING_SLICES-1, step=1, value=def_slice)\n",
    "        ui = widgets.VBox([\n",
    "            widgets.HBox([aSlider])\n",
    "        ])\n",
    "\n",
    "        model.eval()\n",
    "        torch.cuda.empty_cache()\n",
    "        print(f'showing number {dataset.indices[0]}')\n",
    "        inputs, labels = dataset[0]\n",
    "        inputs = torch.from_numpy(np.array([inputs])).to(device).float()\n",
    "        labels = torch.from_numpy(np.array([labels])).to(device).float()\n",
    "        prediction = model(inputs)\n",
    "\n",
    "        item_loss, item_dsc, inputs_len = loss_batch(model, optimizer, criterion, inputs, labels)\n",
    "        print(f'loss {item_loss}, dsc {item_dsc}, inputs_len {inputs_len}')\n",
    "\n",
    "        inputs = inputs.cpu()\n",
    "        labels = labels.cpu()\n",
    "        prediction_np = prediction.cpu().detach().numpy()\n",
    "\n",
    "        plt.hist(prediction_np.flatten(), 100)\n",
    "        plt.title('Distribution of prediction')\n",
    "        plt.show()\n",
    "\n",
    "        def f(a):\n",
    "            plt.figure(figsize=(30, 16))\n",
    "            plt.subplot(1, 3, 1)\n",
    "            plt.imshow(inputs[0, 0, a], cmap=\"gray\")\n",
    "\n",
    "            plt.subplot(1, 3, 2)\n",
    "            plt.imshow(labels[0, a], cmap=\"gray\")\n",
    "\n",
    "            plt.subplot(1, 3, 3)\n",
    "            plt.imshow(prediction_np[0, 0, a], cmap=\"gray\", vmin=0, vmax=1)\n",
    "            #     plt.subplot(2, 2, 4)\n",
    "            #     plt.imshow(prediction_np[0, 0, a], cmap=\"gray\")\n",
    "\n",
    "            if figfile is not None:\n",
    "                plt.savefig(figfile, dpi=96)\n",
    "            plt.show()\n",
    "\n",
    "\n",
    "        out = widgets.interactive_output(f, {'a': aSlider })\n",
    "        display(ui, out)\n",
    "\n",
    "        print('DEBUG shapes', prediction[:, 0].shape, labels.shape, inputs.shape)\n",
    "        print(f'DEBUG prediction max {prediction.max().item()}, min {prediction.min().item()}')\n",
    "        print('DEBUG intersection', (labels.cpu() *  prediction.cpu()[:,0]).sum().item())\n",
    "        print('DEBUG label sum', labels.cpu().sum().item())\n",
    "        print('DEBUG prediction sum', prediction.cpu()[:,0].sum().item())\n",
    "\n",
    "        smooth = 1.0\n",
    "        y_pred = prediction.cpu()[:,0].contiguous().view(-1)\n",
    "        y_true = labels.cpu()[:].contiguous().view(-1)\n",
    "        intersection = (y_pred * y_true).sum()\n",
    "        dsc = (2. * intersection + smooth) / (\n",
    "            y_pred.sum() + y_true.sum() + smooth\n",
    "        )\n",
    "\n",
    "        print('DEBUG intersection2', intersection.item())\n",
    "        print('DEBUG dsc', dsc.item())\n",
    "        print('DEBUG MSE', (labels.cpu() - prediction.cpu()[:,0]).pow(2).mean().item())\n",
    "\n",
    "                \n",
    "display(Markdown(\"## Train Eval\"))\n",
    "eval_image_dataset(train_dataset, 90, 'train_plot.png')\n",
    "# display(Markdown(\"## Valid Eval\"))\n",
    "# eval_image_dataset(valid_dataset, 90, 'valid_plot.png')\n",
    "# display(Markdown(\"## Test Eval\"))\n",
    "# eval_image_dataset(test_dataset, 78, 'test_plot.png')"
   ]
  },
  {
   "cell_type": "code",
   "execution_count": null,
   "metadata": {},
   "outputs": [],
   "source": []
  }
 ],
 "metadata": {
  "kernelspec": {
   "display_name": "Python 3",
   "language": "python",
   "name": "python3"
  },
  "language_info": {
   "codemirror_mode": {
    "name": "ipython",
    "version": 3
   },
   "file_extension": ".py",
   "mimetype": "text/x-python",
   "name": "python",
   "nbconvert_exporter": "python",
   "pygments_lexer": "ipython3",
   "version": "3.8.2"
  },
  "toc-autonumbering": true,
  "toc-showcode": false,
  "toc-showmarkdowntxt": false,
  "toc-showtags": false
 },
 "nbformat": 4,
 "nbformat_minor": 4
}

{
 "cells": [
  {
   "cell_type": "code",
   "execution_count": 1,
   "metadata": {},
   "outputs": [
    {
     "name": "stdout",
     "output_type": "stream",
     "text": [
      "Done Init\n"
     ]
    }
   ],
   "source": [
    "from src.consts import IN_COLAB, MAX_PADDING_SLICES\n",
    "\n",
    "if IN_COLAB:\n",
    "    print('Found Google Colab')\n",
    "    !pip3 install torch torchvision torchsummary\n",
    "    !pip3 install simpleitk\n",
    "\n",
    "    # noinspection PyUnresolvedReferences\n",
    "    from google.colab import drive\n",
    "    drive.mount('/content/drive')\n",
    "\n",
    "import numpy as np\n",
    "import matplotlib.pyplot as plt\n",
    "import torch\n",
    "import SimpleITK as sitk\n",
    "import cv2 as cv\n",
    "\n",
    "from IPython.display import display\n",
    "from ipywidgets import widgets\n",
    "from functools import reduce\n",
    "\n",
    "import src.dataset.oars_labels_consts as OARS_LABELS\n",
    "from src.helpers.get_bounding_box import get_bounding_box_3D, get_bounding_box_3D_size\n",
    "\n",
    "torch.manual_seed(20)\n",
    "print('Done Init')\n",
    "\n",
    "# %matplotlib widget"
   ]
  },
  {
   "cell_type": "markdown",
   "metadata": {},
   "source": [
    "# Full Datset loading"
   ]
  },
  {
   "cell_type": "code",
   "execution_count": 2,
   "metadata": {},
   "outputs": [],
   "source": [
    "from pathlib import Path\n",
    "\n",
    "dataset_shrink = 1\n",
    "root_dir_path = Path(f'./data/{\"HaN_OAR\"}_shrink{dataset_shrink}x_padded160')\n",
    "size = 50\n",
    "label_list = []\n",
    "\n",
    "for i in range(size):\n",
    "    label_filepath = Path.joinpath(root_dir_path, f'./{i + 1}/label.nii.gz')\n",
    "    label = sitk.ReadImage(str(label_filepath))\n",
    "    label_list.append(label)\n"
   ]
  },
  {
   "cell_type": "markdown",
   "metadata": {},
   "source": [
    "## max sizes of individual orgas"
   ]
  },
  {
   "cell_type": "code",
   "execution_count": 3,
   "metadata": {},
   "outputs": [
    {
     "name": "stdout",
     "output_type": "stream",
     "text": [
      "BRAIN_STEM 1\n",
      "max size [22 38 45]\n",
      "EYE_L 2\n",
      "max size [11 28 28]\n",
      "EYE_R 3\n",
      "max size [12 28 29]\n",
      "LENS_L 4\n",
      "max size [ 5  8 12]\n",
      "LENS_R 5\n",
      "max size [ 4  8 12]\n",
      "OPT_NERVE_L 6\n",
      "max size [ 4 35 18]\n",
      "OPT_NERVE_R 7\n",
      "max size [ 6 34 19]\n",
      "OPT_CHIASMA 8\n",
      "max size [ 3 21 32]\n",
      "TEMPORAL_LOBES_L 9\n",
      "max size [ 23 108  59]\n",
      "TEMPORAL_LOBES_R 10\n",
      "max size [ 22 109  58]\n",
      "PITUITARY 11\n",
      "max size [ 4 13 17]\n",
      "PAROTID_GLAND_L 12\n",
      "max size [23 72 40]\n",
      "PAROTID_GLAND_R 13\n",
      "max size [25 77 43]\n",
      "INNER_EAR_L 14\n",
      "max size [ 6 24 24]\n",
      "INNER_EAR_R 15\n",
      "max size [ 6 24 27]\n",
      "MID_EAR_L 16\n",
      "max size [18 62 40]\n",
      "MID_EAR_R 17\n",
      "max size [16 62 41]\n",
      "T_M_JOINT_L 18\n",
      "max size [ 9 22 31]\n",
      "T_M_JOINT_R 19\n",
      "max size [ 8 22 32]\n",
      "SPINAL_CORD 20\n",
      "max size [ 90 105  31]\n",
      "MANDIBLE_L 21\n",
      "max size [ 32 100  73]\n",
      "MANDIBLE_R 22\n",
      "max size [ 34 103  71]\n"
     ]
    }
   ],
   "source": [
    "for label_name, label_const in list(OARS_LABELS.OARS_LABELS_DICT.items()):\n",
    "    tmp_label_list = [None] * size\n",
    "    tmp_label_list_box = [None] * size\n",
    "    \n",
    "    for i in range(size):\n",
    "        tmp_label_list[i] = label_list[i] == label_const\n",
    "        tmp_label_list[i] = sitk.GetArrayFromImage(tmp_label_list[i]).astype(np.int8)\n",
    "        tmp_label_list_box[i] = get_bounding_box_3D_size(*get_bounding_box_3D(tmp_label_list[i]))\n",
    "        \n",
    "    print(label_name, label_const)\n",
    "    print(f'max size', np.array(tmp_label_list_box).max(axis=0))\n"
   ]
  },
  {
   "cell_type": "code",
   "execution_count": 4,
   "metadata": {},
   "outputs": [
    {
     "name": "stdout",
     "output_type": "stream",
     "text": [
      "All organs in single mask\n",
      "max size [120 213 157]\n"
     ]
    }
   ],
   "source": [
    "tmp_label_list = [None] * size\n",
    "tmp_label_list_box = [None] * size\n",
    "filter_labels = OARS_LABELS.OARS_LABELS_LIST\n",
    "\n",
    "for i in range(size):\n",
    "    tmp_label_list[i] = reduce(lambda a, b: a | (label_list[i] == b), filter_labels, 0)\n",
    "    tmp_label_list[i] = sitk.GetArrayFromImage(tmp_label_list[i])\n",
    "    tmp_label_list_box[i] = get_bounding_box_3D_size(*get_bounding_box_3D(tmp_label_list[i]))\n",
    "    \n",
    "print('All organs in single mask')\n",
    "print(f'max size', np.array(tmp_label_list_box).max(axis=0))"
   ]
  },
  {
   "cell_type": "code",
   "execution_count": 5,
   "metadata": {},
   "outputs": [
    {
     "name": "stdout",
     "output_type": "stream",
     "text": [
      "All organs without spinal cord in single mask\n",
      "max size [ 57 178 157]\n"
     ]
    }
   ],
   "source": [
    "tmp_label_list = [None] * size\n",
    "tmp_label_list_box = [None] * size\n",
    "filter_labels = OARS_LABELS.OARS_LABELS_LIST\n",
    "if OARS_LABELS.SPINAL_CORD in filter_labels:\n",
    "    filter_labels.remove(OARS_LABELS.SPINAL_CORD)\n",
    "\n",
    "for i in range(size):\n",
    "    tmp_label_list[i] = reduce(lambda a, b: a | (label_list[i] == b), filter_labels, 0)\n",
    "    tmp_label_list[i] = sitk.GetArrayFromImage(tmp_label_list[i])\n",
    "    tmp_label_list_box[i] = get_bounding_box_3D_size(*get_bounding_box_3D(tmp_label_list[i]))\n",
    "    \n",
    "print('All organs without spinal cord in single mask')\n",
    "print(f'max size', np.array(tmp_label_list_box).max(axis=0))"
   ]
  },
  {
   "cell_type": "markdown",
   "metadata": {},
   "source": [
    "## Bounding box preview"
   ]
  },
  {
   "cell_type": "code",
   "execution_count": 7,
   "metadata": {},
   "outputs": [
    {
     "name": "stdout",
     "output_type": "stream",
     "text": [
      "label max 1, min 0\n",
      "box (55, 105, 156, 314, 183, 333)\n",
      "box size 51 159 151\n"
     ]
    },
    {
     "data": {
      "application/vnd.jupyter.widget-view+json": {
       "model_id": "68b1d1775b7b45fe9595602b6189d9d8",
       "version_major": 2,
       "version_minor": 0
      },
      "text/plain": [
       "VBox(children=(HBox(children=(IntSlider(value=91, max=159),)),))"
      ]
     },
     "metadata": {},
     "output_type": "display_data"
    },
    {
     "data": {
      "application/vnd.jupyter.widget-view+json": {
       "model_id": "a8c7415e73234417a3a87df7ff49380f",
       "version_major": 2,
       "version_minor": 0
      },
      "text/plain": [
       "Output()"
      ]
     },
     "metadata": {},
     "output_type": "display_data"
    }
   ],
   "source": [
    "data_index = 2\n",
    "label = tmp_label_list[data_index]\n",
    "data = sitk.GetArrayFromImage(sitk.ReadImage(str(Path.joinpath(root_dir_path, f'./{data_index + 1}/data.nii.gz'))))\n",
    "data = np.stack((data,)*3, axis=-1) + (-1 * data.min())\n",
    "data = data / data.max()\n",
    "idx = (label == 1)\n",
    "data[idx, 0] = 1\n",
    "data[idx, 1] = 1\n",
    "\n",
    "box = get_bounding_box_3D(label)\n",
    "\n",
    "print(f'label max {label.max()}, min {label.min()}')\n",
    "print(f'box {box}')\n",
    "print(f'box size', *get_bounding_box_3D_size(*box))\n",
    "\n",
    "\n",
    "def f(slice_index):\n",
    "    plt.figure(figsize=(12, 12))\n",
    "\n",
    "    tmp = data[slice_index].copy()\n",
    "    if box[0] <= slice_index <= box[1]:\n",
    "        tmp = cv.rectangle(tmp, (box[4], box[2]), (box[5], box[3]), (1, 0, 0), 1)\n",
    "    plt.imshow(tmp)\n",
    "    plt.show()\n",
    "\n",
    "\n",
    "sliceSlider = widgets.IntSlider(min=0, max=MAX_PADDING_SLICES - 1, step=1, value=91)\n",
    "ui = widgets.VBox([widgets.HBox([sliceSlider])])\n",
    "out = widgets.interactive_output(f, {'slice_index': sliceSlider})\n",
    "display(ui, out)"
   ]
  },
  {
   "cell_type": "code",
   "execution_count": null,
   "metadata": {},
   "outputs": [],
   "source": []
  }
 ],
 "metadata": {
  "kernelspec": {
   "display_name": "Python 3",
   "language": "python",
   "name": "python3"
  },
  "language_info": {
   "codemirror_mode": {
    "name": "ipython",
    "version": 3
   },
   "file_extension": ".py",
   "mimetype": "text/x-python",
   "name": "python",
   "nbconvert_exporter": "python",
   "pygments_lexer": "ipython3",
   "version": "3.8.5"
  }
 },
 "nbformat": 4,
 "nbformat_minor": 4
}